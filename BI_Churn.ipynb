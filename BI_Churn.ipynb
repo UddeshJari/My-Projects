{
 "cells": [
  {
   "cell_type": "code",
   "execution_count": 1,
   "metadata": {},
   "outputs": [],
   "source": [
    "## Libraries\n",
    "import pandas as pd\n",
    "import numpy as np"
   ]
  },
  {
   "cell_type": "code",
   "execution_count": 2,
   "metadata": {},
   "outputs": [],
   "source": [
    "T = pd.read_csv('Telco_Churn_Data.csv')"
   ]
  },
  {
   "cell_type": "code",
   "execution_count": 3,
   "metadata": {
    "scrolled": true
   },
   "outputs": [
    {
     "data": {
      "text/html": [
       "<div>\n",
       "<style scoped>\n",
       "    .dataframe tbody tr th:only-of-type {\n",
       "        vertical-align: middle;\n",
       "    }\n",
       "\n",
       "    .dataframe tbody tr th {\n",
       "        vertical-align: top;\n",
       "    }\n",
       "\n",
       "    .dataframe thead th {\n",
       "        text-align: right;\n",
       "    }\n",
       "</style>\n",
       "<table border=\"1\" class=\"dataframe\">\n",
       "  <thead>\n",
       "    <tr style=\"text-align: right;\">\n",
       "      <th></th>\n",
       "      <th>customerID</th>\n",
       "      <th>gender</th>\n",
       "      <th>SeniorCitizen</th>\n",
       "      <th>Partner</th>\n",
       "      <th>Dependents</th>\n",
       "      <th>tenure</th>\n",
       "      <th>PhoneService</th>\n",
       "      <th>MultipleLines</th>\n",
       "      <th>InternetService</th>\n",
       "      <th>OnlineSecurity</th>\n",
       "      <th>...</th>\n",
       "      <th>DeviceProtection</th>\n",
       "      <th>TechSupport</th>\n",
       "      <th>StreamingTV</th>\n",
       "      <th>StreamingMovies</th>\n",
       "      <th>Contract</th>\n",
       "      <th>PaperlessBilling</th>\n",
       "      <th>PaymentMethod</th>\n",
       "      <th>MonthlyCharges</th>\n",
       "      <th>TotalCharges</th>\n",
       "      <th>Churn</th>\n",
       "    </tr>\n",
       "  </thead>\n",
       "  <tbody>\n",
       "    <tr>\n",
       "      <th>0</th>\n",
       "      <td>7590-VHVEG</td>\n",
       "      <td>Female</td>\n",
       "      <td>0</td>\n",
       "      <td>Yes</td>\n",
       "      <td>No</td>\n",
       "      <td>1</td>\n",
       "      <td>No</td>\n",
       "      <td>No</td>\n",
       "      <td>DSL</td>\n",
       "      <td>No</td>\n",
       "      <td>...</td>\n",
       "      <td>No</td>\n",
       "      <td>No</td>\n",
       "      <td>No</td>\n",
       "      <td>No</td>\n",
       "      <td>Month-to-month</td>\n",
       "      <td>Yes</td>\n",
       "      <td>Electronic check</td>\n",
       "      <td>29.85</td>\n",
       "      <td>29.85</td>\n",
       "      <td>No</td>\n",
       "    </tr>\n",
       "    <tr>\n",
       "      <th>1</th>\n",
       "      <td>5575-GNVDE</td>\n",
       "      <td>Male</td>\n",
       "      <td>0</td>\n",
       "      <td>No</td>\n",
       "      <td>No</td>\n",
       "      <td>34</td>\n",
       "      <td>Yes</td>\n",
       "      <td>No</td>\n",
       "      <td>DSL</td>\n",
       "      <td>Yes</td>\n",
       "      <td>...</td>\n",
       "      <td>Yes</td>\n",
       "      <td>No</td>\n",
       "      <td>No</td>\n",
       "      <td>No</td>\n",
       "      <td>One year</td>\n",
       "      <td>No</td>\n",
       "      <td>Mailed check</td>\n",
       "      <td>56.95</td>\n",
       "      <td>1889.5</td>\n",
       "      <td>No</td>\n",
       "    </tr>\n",
       "    <tr>\n",
       "      <th>2</th>\n",
       "      <td>3668-QPYBK</td>\n",
       "      <td>Male</td>\n",
       "      <td>0</td>\n",
       "      <td>No</td>\n",
       "      <td>No</td>\n",
       "      <td>2</td>\n",
       "      <td>Yes</td>\n",
       "      <td>No</td>\n",
       "      <td>DSL</td>\n",
       "      <td>Yes</td>\n",
       "      <td>...</td>\n",
       "      <td>No</td>\n",
       "      <td>No</td>\n",
       "      <td>No</td>\n",
       "      <td>No</td>\n",
       "      <td>Month-to-month</td>\n",
       "      <td>Yes</td>\n",
       "      <td>Mailed check</td>\n",
       "      <td>53.85</td>\n",
       "      <td>108.15</td>\n",
       "      <td>Yes</td>\n",
       "    </tr>\n",
       "    <tr>\n",
       "      <th>3</th>\n",
       "      <td>7795-CFOCW</td>\n",
       "      <td>Male</td>\n",
       "      <td>0</td>\n",
       "      <td>No</td>\n",
       "      <td>No</td>\n",
       "      <td>45</td>\n",
       "      <td>No</td>\n",
       "      <td>No</td>\n",
       "      <td>DSL</td>\n",
       "      <td>Yes</td>\n",
       "      <td>...</td>\n",
       "      <td>Yes</td>\n",
       "      <td>Yes</td>\n",
       "      <td>No</td>\n",
       "      <td>No</td>\n",
       "      <td>One year</td>\n",
       "      <td>No</td>\n",
       "      <td>Bank transfer (automatic)</td>\n",
       "      <td>42.30</td>\n",
       "      <td>1840.75</td>\n",
       "      <td>No</td>\n",
       "    </tr>\n",
       "    <tr>\n",
       "      <th>4</th>\n",
       "      <td>9237-HQITU</td>\n",
       "      <td>Female</td>\n",
       "      <td>0</td>\n",
       "      <td>No</td>\n",
       "      <td>No</td>\n",
       "      <td>2</td>\n",
       "      <td>Yes</td>\n",
       "      <td>No</td>\n",
       "      <td>Fiber optic</td>\n",
       "      <td>No</td>\n",
       "      <td>...</td>\n",
       "      <td>No</td>\n",
       "      <td>No</td>\n",
       "      <td>No</td>\n",
       "      <td>No</td>\n",
       "      <td>Month-to-month</td>\n",
       "      <td>Yes</td>\n",
       "      <td>Electronic check</td>\n",
       "      <td>70.70</td>\n",
       "      <td>151.65</td>\n",
       "      <td>Yes</td>\n",
       "    </tr>\n",
       "  </tbody>\n",
       "</table>\n",
       "<p>5 rows × 21 columns</p>\n",
       "</div>"
      ],
      "text/plain": [
       "   customerID  gender  SeniorCitizen Partner Dependents  tenure PhoneService  \\\n",
       "0  7590-VHVEG  Female              0     Yes         No       1           No   \n",
       "1  5575-GNVDE    Male              0      No         No      34          Yes   \n",
       "2  3668-QPYBK    Male              0      No         No       2          Yes   \n",
       "3  7795-CFOCW    Male              0      No         No      45           No   \n",
       "4  9237-HQITU  Female              0      No         No       2          Yes   \n",
       "\n",
       "  MultipleLines InternetService OnlineSecurity  ... DeviceProtection  \\\n",
       "0            No             DSL             No  ...               No   \n",
       "1            No             DSL            Yes  ...              Yes   \n",
       "2            No             DSL            Yes  ...               No   \n",
       "3            No             DSL            Yes  ...              Yes   \n",
       "4            No     Fiber optic             No  ...               No   \n",
       "\n",
       "  TechSupport StreamingTV StreamingMovies        Contract PaperlessBilling  \\\n",
       "0          No          No              No  Month-to-month              Yes   \n",
       "1          No          No              No        One year               No   \n",
       "2          No          No              No  Month-to-month              Yes   \n",
       "3         Yes          No              No        One year               No   \n",
       "4          No          No              No  Month-to-month              Yes   \n",
       "\n",
       "               PaymentMethod MonthlyCharges  TotalCharges Churn  \n",
       "0           Electronic check          29.85         29.85    No  \n",
       "1               Mailed check          56.95        1889.5    No  \n",
       "2               Mailed check          53.85        108.15   Yes  \n",
       "3  Bank transfer (automatic)          42.30       1840.75    No  \n",
       "4           Electronic check          70.70        151.65   Yes  \n",
       "\n",
       "[5 rows x 21 columns]"
      ]
     },
     "execution_count": 3,
     "metadata": {},
     "output_type": "execute_result"
    }
   ],
   "source": [
    "T.head()"
   ]
  },
  {
   "cell_type": "code",
   "execution_count": 4,
   "metadata": {},
   "outputs": [
    {
     "data": {
      "text/plain": [
       "(7043, 21)"
      ]
     },
     "execution_count": 4,
     "metadata": {},
     "output_type": "execute_result"
    }
   ],
   "source": [
    "T.shape"
   ]
  },
  {
   "cell_type": "code",
   "execution_count": 5,
   "metadata": {},
   "outputs": [
    {
     "data": {
      "text/html": [
       "<div>\n",
       "<style scoped>\n",
       "    .dataframe tbody tr th:only-of-type {\n",
       "        vertical-align: middle;\n",
       "    }\n",
       "\n",
       "    .dataframe tbody tr th {\n",
       "        vertical-align: top;\n",
       "    }\n",
       "\n",
       "    .dataframe thead th {\n",
       "        text-align: right;\n",
       "    }\n",
       "</style>\n",
       "<table border=\"1\" class=\"dataframe\">\n",
       "  <thead>\n",
       "    <tr style=\"text-align: right;\">\n",
       "      <th></th>\n",
       "      <th>SeniorCitizen</th>\n",
       "      <th>tenure</th>\n",
       "      <th>MonthlyCharges</th>\n",
       "    </tr>\n",
       "  </thead>\n",
       "  <tbody>\n",
       "    <tr>\n",
       "      <th>count</th>\n",
       "      <td>7043.000000</td>\n",
       "      <td>7043.000000</td>\n",
       "      <td>7043.000000</td>\n",
       "    </tr>\n",
       "    <tr>\n",
       "      <th>mean</th>\n",
       "      <td>0.162147</td>\n",
       "      <td>32.371149</td>\n",
       "      <td>64.761692</td>\n",
       "    </tr>\n",
       "    <tr>\n",
       "      <th>std</th>\n",
       "      <td>0.368612</td>\n",
       "      <td>24.559481</td>\n",
       "      <td>30.090047</td>\n",
       "    </tr>\n",
       "    <tr>\n",
       "      <th>min</th>\n",
       "      <td>0.000000</td>\n",
       "      <td>0.000000</td>\n",
       "      <td>18.250000</td>\n",
       "    </tr>\n",
       "    <tr>\n",
       "      <th>25%</th>\n",
       "      <td>0.000000</td>\n",
       "      <td>9.000000</td>\n",
       "      <td>35.500000</td>\n",
       "    </tr>\n",
       "    <tr>\n",
       "      <th>50%</th>\n",
       "      <td>0.000000</td>\n",
       "      <td>29.000000</td>\n",
       "      <td>70.350000</td>\n",
       "    </tr>\n",
       "    <tr>\n",
       "      <th>75%</th>\n",
       "      <td>0.000000</td>\n",
       "      <td>55.000000</td>\n",
       "      <td>89.850000</td>\n",
       "    </tr>\n",
       "    <tr>\n",
       "      <th>max</th>\n",
       "      <td>1.000000</td>\n",
       "      <td>72.000000</td>\n",
       "      <td>118.750000</td>\n",
       "    </tr>\n",
       "  </tbody>\n",
       "</table>\n",
       "</div>"
      ],
      "text/plain": [
       "       SeniorCitizen       tenure  MonthlyCharges\n",
       "count    7043.000000  7043.000000     7043.000000\n",
       "mean        0.162147    32.371149       64.761692\n",
       "std         0.368612    24.559481       30.090047\n",
       "min         0.000000     0.000000       18.250000\n",
       "25%         0.000000     9.000000       35.500000\n",
       "50%         0.000000    29.000000       70.350000\n",
       "75%         0.000000    55.000000       89.850000\n",
       "max         1.000000    72.000000      118.750000"
      ]
     },
     "execution_count": 5,
     "metadata": {},
     "output_type": "execute_result"
    }
   ],
   "source": [
    "T.describe()"
   ]
  },
  {
   "cell_type": "code",
   "execution_count": 6,
   "metadata": {},
   "outputs": [
    {
     "data": {
      "text/plain": [
       "customerID           object\n",
       "gender               object\n",
       "SeniorCitizen         int64\n",
       "Partner              object\n",
       "Dependents           object\n",
       "tenure                int64\n",
       "PhoneService         object\n",
       "MultipleLines        object\n",
       "InternetService      object\n",
       "OnlineSecurity       object\n",
       "OnlineBackup         object\n",
       "DeviceProtection     object\n",
       "TechSupport          object\n",
       "StreamingTV          object\n",
       "StreamingMovies      object\n",
       "Contract             object\n",
       "PaperlessBilling     object\n",
       "PaymentMethod        object\n",
       "MonthlyCharges      float64\n",
       "TotalCharges         object\n",
       "Churn                object\n",
       "dtype: object"
      ]
     },
     "execution_count": 6,
     "metadata": {},
     "output_type": "execute_result"
    }
   ],
   "source": [
    "T.dtypes"
   ]
  },
  {
   "cell_type": "code",
   "execution_count": 7,
   "metadata": {},
   "outputs": [],
   "source": [
    "T['SeniorCitizen'] = T['SeniorCitizen'].astype('category')"
   ]
  },
  {
   "cell_type": "code",
   "execution_count": 8,
   "metadata": {},
   "outputs": [
    {
     "data": {
      "text/plain": [
       "array(['29.85', '1889.5', '108.15', ..., '346.45', '306.6', '6844.5'],\n",
       "      dtype=object)"
      ]
     },
     "execution_count": 8,
     "metadata": {},
     "output_type": "execute_result"
    }
   ],
   "source": [
    "T['TotalCharges'].unique()"
   ]
  },
  {
   "cell_type": "code",
   "execution_count": 9,
   "metadata": {},
   "outputs": [],
   "source": [
    "T ['TotalCharges'] = pd.to_numeric(T['TotalCharges'], errors='coerce')"
   ]
  },
  {
   "cell_type": "code",
   "execution_count": 10,
   "metadata": {
    "scrolled": true
   },
   "outputs": [
    {
     "data": {
      "text/plain": [
       "<seaborn.axisgrid.FacetGrid at 0x27fcf47a160>"
      ]
     },
     "execution_count": 10,
     "metadata": {},
     "output_type": "execute_result"
    },
    {
     "data": {
      "image/png": "[encoded data removed]",
      "text/plain": [
       "<Figure size 412x360 with 1 Axes>"
      ]
     },
     "metadata": {
      "needs_background": "light"
     },
     "output_type": "display_data"
    }
   ],
   "source": [
    "import seaborn as sns\n",
    "sns.catplot(y=\"gender\", hue=\"Churn\", kind=\"count\",\n",
    "            palette=\"pastel\", edgecolor=\".6\",\n",
    "            data=T)"
   ]
  },
  {
   "cell_type": "code",
   "execution_count": 11,
   "metadata": {},
   "outputs": [
    {
     "data": {
      "text/plain": [
       "<seaborn.axisgrid.FacetGrid at 0x27fcf44c970>"
      ]
     },
     "execution_count": 11,
     "metadata": {},
     "output_type": "execute_result"
    },
    {
     "data": {
      "image/png": "[encoded data removed]",
      "text/plain": [
       "<Figure size 412x360 with 1 Axes>"
      ]
     },
     "metadata": {
      "needs_background": "light"
     },
     "output_type": "display_data"
    }
   ],
   "source": [
    "sns.catplot(y=\"PaymentMethod\", hue=\"Churn\", kind=\"count\",\n",
    "            palette=\"pastel\", edgecolor=\".6\",\n",
    "            data=T)"
   ]
  },
  {
   "cell_type": "code",
   "execution_count": 12,
   "metadata": {},
   "outputs": [
    {
     "data": {
      "text/plain": [
       "<seaborn.axisgrid.FacetGrid at 0x27fd2abeeb0>"
      ]
     },
     "execution_count": 12,
     "metadata": {},
     "output_type": "execute_result"
    },
    {
     "data": {
      "image/png": "[encoded data removed]",
      "text/plain": [
       "<Figure size 412x360 with 1 Axes>"
      ]
     },
     "metadata": {
      "needs_background": "light"
     },
     "output_type": "display_data"
    }
   ],
   "source": [
    "sns.catplot(y=\"Contract\", hue=\"Churn\", kind=\"count\",\n",
    "            palette=\"pastel\", edgecolor=\".6\",\n",
    "            data=T)"
   ]
  },
  {
   "cell_type": "code",
   "execution_count": 13,
   "metadata": {},
   "outputs": [
    {
     "data": {
      "text/plain": [
       "<seaborn.axisgrid.FacetGrid at 0x27fcf44ccd0>"
      ]
     },
     "execution_count": 13,
     "metadata": {},
     "output_type": "execute_result"
    },
    {
     "data": {
      "image/png": "[encoded data removed]",
      "text/plain": [
       "<Figure size 412x360 with 1 Axes>"
      ]
     },
     "metadata": {
      "needs_background": "light"
     },
     "output_type": "display_data"
    }
   ],
   "source": [
    "sns.catplot(y=\"SeniorCitizen\", hue=\"Churn\", kind=\"count\",\n",
    "            palette=\"pastel\", edgecolor=\".6\",\n",
    "            data=T)"
   ]
  },
  {
   "cell_type": "code",
   "execution_count": 14,
   "metadata": {},
   "outputs": [
    {
     "data": {
      "text/plain": [
       "<seaborn.axisgrid.FacetGrid at 0x27fd2b88eb0>"
      ]
     },
     "execution_count": 14,
     "metadata": {},
     "output_type": "execute_result"
    },
    {
     "data": {
      "text/plain": [
       "<Figure size 2880x720 with 0 Axes>"
      ]
     },
     "metadata": {},
     "output_type": "display_data"
    },
    {
     "data": {
      "image/png": "[encoded data removed]",
      "text/plain": [
       "<Figure size 412x360 with 1 Axes>"
      ]
     },
     "metadata": {
      "needs_background": "light"
     },
     "output_type": "display_data"
    }
   ],
   "source": [
    "import matplotlib.pyplot as plt\n",
    "plt.figure(figsize=(40,10))\n",
    "sns.catplot(y=\"tenure\", hue=\"Churn\", kind=\"count\",\n",
    "            palette=\"pastel\", edgecolor=\".6\",\n",
    "            data=T)"
   ]
  },
  {
   "cell_type": "code",
   "execution_count": 15,
   "metadata": {},
   "outputs": [],
   "source": [
    "def tenure(row):\n",
    "    if row['tenure']>=72:\n",
    "        return '>=6 Years'\n",
    "    elif row['tenure']>=60:\n",
    "        return '5-6 Years'\n",
    "    elif row['tenure']>=48:\n",
    "        return '4-5 Years'\n",
    "    elif row['tenure']>=36:\n",
    "        return '3-4 Years'\n",
    "    elif row['tenure']>=24:\n",
    "        return '2-3 Years'\n",
    "    elif row['tenure']>=12:\n",
    "        return '1-2 Years'\n",
    "    elif row['tenure']>=6:\n",
    "        return '6 Months - 1 Year'\n",
    "    else:\n",
    "        return '<6 months'\n",
    "T['tenure_buc'] = T.apply(tenure, axis=1)"
   ]
  },
  {
   "cell_type": "code",
   "execution_count": 16,
   "metadata": {},
   "outputs": [
    {
     "data": {
      "text/plain": [
       "<seaborn.axisgrid.FacetGrid at 0x27fd3f16070>"
      ]
     },
     "execution_count": 16,
     "metadata": {},
     "output_type": "execute_result"
    },
    {
     "data": {
      "image/png": "[encoded data removed]",
      "text/plain": [
       "<Figure size 412x360 with 1 Axes>"
      ]
     },
     "metadata": {
      "needs_background": "light"
     },
     "output_type": "display_data"
    }
   ],
   "source": [
    "import matplotlib.pyplot as plt\n",
    "sns.catplot(y=\"tenure_buc\", hue=\"Churn\", kind=\"count\",\n",
    "            palette=\"pastel\", edgecolor=\".6\",\n",
    "            data=T, order=['<6 months','6 Months - 1 Year','1-2 Years','2-3 Years','3-4 Years','4-5 Years','5-6 Years','>=6 Years'])"
   ]
  },
  {
   "cell_type": "code",
   "execution_count": 17,
   "metadata": {},
   "outputs": [
    {
     "data": {
      "text/plain": [
       "<seaborn.axisgrid.FacetGrid at 0x27fcf47a130>"
      ]
     },
     "execution_count": 17,
     "metadata": {},
     "output_type": "execute_result"
    },
    {
     "data": {
      "text/plain": [
       "<Figure size 2880x720 with 0 Axes>"
      ]
     },
     "metadata": {},
     "output_type": "display_data"
    },
    {
     "data": {
      "image/png": "[encoded data removed]",
      "text/plain": [
       "<Figure size 412x360 with 1 Axes>"
      ]
     },
     "metadata": {
      "needs_background": "light"
     },
     "output_type": "display_data"
    }
   ],
   "source": [
    "import matplotlib.pyplot as plt\n",
    "plt.figure(figsize=(40,10))\n",
    "sns.catplot(y=\"Dependents\", hue=\"Churn\", kind=\"count\",\n",
    "            palette=\"pastel\", edgecolor=\".6\",\n",
    "            data=T)"
   ]
  },
  {
   "cell_type": "code",
   "execution_count": 18,
   "metadata": {},
   "outputs": [
    {
     "data": {
      "text/plain": [
       "<matplotlib.axes._subplots.AxesSubplot at 0x27fd2c2cd60>"
      ]
     },
     "execution_count": 18,
     "metadata": {},
     "output_type": "execute_result"
    },
    {
     "data": {
      "image/png": "[encoded data removed]",
      "text/plain": [
       "<Figure size 432x288 with 1 Axes>"
      ]
     },
     "metadata": {
      "needs_background": "light"
     },
     "output_type": "display_data"
    }
   ],
   "source": [
    "sns.boxplot(\n",
    "    data=T,\n",
    "    x='Churn',\n",
    "    y='TotalCharges',\n",
    "    color='red')"
   ]
  },
  {
   "cell_type": "code",
   "execution_count": 19,
   "metadata": {},
   "outputs": [
    {
     "data": {
      "text/plain": [
       "<matplotlib.axes._subplots.AxesSubplot at 0x27fd40e2430>"
      ]
     },
     "execution_count": 19,
     "metadata": {},
     "output_type": "execute_result"
    },
    {
     "data": {
      "image/png": "[encoded data removed]",
      "text/plain": [
       "<Figure size 432x288 with 1 Axes>"
      ]
     },
     "metadata": {
      "needs_background": "light"
     },
     "output_type": "display_data"
    }
   ],
   "source": [
    "sns.boxplot(\n",
    "    data=T,\n",
    "    x='Churn',\n",
    "    y='MonthlyCharges',\n",
    "    color='red')"
   ]
  },
  {
   "cell_type": "code",
   "execution_count": 20,
   "metadata": {},
   "outputs": [
    {
     "data": {
      "text/plain": [
       "<seaborn.axisgrid.FacetGrid at 0x27fd3f79a60>"
      ]
     },
     "execution_count": 20,
     "metadata": {},
     "output_type": "execute_result"
    },
    {
     "data": {
      "image/png": "[encoded data removed]",
      "text/plain": [
       "<Figure size 412x360 with 1 Axes>"
      ]
     },
     "metadata": {
      "needs_background": "light"
     },
     "output_type": "display_data"
    }
   ],
   "source": [
    "import matplotlib.pyplot as plt\n",
    "sns.catplot(y=\"Partner\", hue=\"Churn\", kind=\"count\",\n",
    "            palette=\"pastel\", edgecolor=\".6\",\n",
    "            data=T)"
   ]
  },
  {
   "cell_type": "code",
   "execution_count": 21,
   "metadata": {},
   "outputs": [
    {
     "data": {
      "text/plain": [
       "customerID           0\n",
       "gender               0\n",
       "SeniorCitizen        0\n",
       "Partner              0\n",
       "Dependents           0\n",
       "tenure               0\n",
       "PhoneService         0\n",
       "MultipleLines        0\n",
       "InternetService      0\n",
       "OnlineSecurity       0\n",
       "OnlineBackup         0\n",
       "DeviceProtection     0\n",
       "TechSupport          0\n",
       "StreamingTV          0\n",
       "StreamingMovies      0\n",
       "Contract             0\n",
       "PaperlessBilling     0\n",
       "PaymentMethod        0\n",
       "MonthlyCharges       0\n",
       "TotalCharges        11\n",
       "Churn                0\n",
       "tenure_buc           0\n",
       "dtype: int64"
      ]
     },
     "execution_count": 21,
     "metadata": {},
     "output_type": "execute_result"
    }
   ],
   "source": [
    "T.isna().sum()"
   ]
  },
  {
   "cell_type": "markdown",
   "metadata": {},
   "source": [
    "## Splitting into Test and Train"
   ]
  },
  {
   "cell_type": "code",
   "execution_count": 22,
   "metadata": {},
   "outputs": [],
   "source": [
    "def target(row):\n",
    "    if row['Churn']=='Yes':\n",
    "        return 1\n",
    "    else:\n",
    "        return 0\n",
    "T['Churn_target'] = T.apply(target, axis=1)"
   ]
  },
  {
   "cell_type": "code",
   "execution_count": 23,
   "metadata": {},
   "outputs": [
    {
     "data": {
      "text/html": [
       "<div>\n",
       "<style scoped>\n",
       "    .dataframe tbody tr th:only-of-type {\n",
       "        vertical-align: middle;\n",
       "    }\n",
       "\n",
       "    .dataframe tbody tr th {\n",
       "        vertical-align: top;\n",
       "    }\n",
       "\n",
       "    .dataframe thead th {\n",
       "        text-align: right;\n",
       "    }\n",
       "</style>\n",
       "<table border=\"1\" class=\"dataframe\">\n",
       "  <thead>\n",
       "    <tr style=\"text-align: right;\">\n",
       "      <th></th>\n",
       "      <th>customerID</th>\n",
       "      <th>gender</th>\n",
       "      <th>SeniorCitizen</th>\n",
       "      <th>Partner</th>\n",
       "      <th>Dependents</th>\n",
       "      <th>tenure</th>\n",
       "      <th>PhoneService</th>\n",
       "      <th>MultipleLines</th>\n",
       "      <th>InternetService</th>\n",
       "      <th>OnlineSecurity</th>\n",
       "      <th>...</th>\n",
       "      <th>StreamingTV</th>\n",
       "      <th>StreamingMovies</th>\n",
       "      <th>Contract</th>\n",
       "      <th>PaperlessBilling</th>\n",
       "      <th>PaymentMethod</th>\n",
       "      <th>MonthlyCharges</th>\n",
       "      <th>TotalCharges</th>\n",
       "      <th>Churn</th>\n",
       "      <th>tenure_buc</th>\n",
       "      <th>Churn_target</th>\n",
       "    </tr>\n",
       "  </thead>\n",
       "  <tbody>\n",
       "    <tr>\n",
       "      <th>0</th>\n",
       "      <td>7590-VHVEG</td>\n",
       "      <td>Female</td>\n",
       "      <td>0</td>\n",
       "      <td>Yes</td>\n",
       "      <td>No</td>\n",
       "      <td>1</td>\n",
       "      <td>No</td>\n",
       "      <td>No</td>\n",
       "      <td>DSL</td>\n",
       "      <td>No</td>\n",
       "      <td>...</td>\n",
       "      <td>No</td>\n",
       "      <td>No</td>\n",
       "      <td>Month-to-month</td>\n",
       "      <td>Yes</td>\n",
       "      <td>Electronic check</td>\n",
       "      <td>29.85</td>\n",
       "      <td>29.85</td>\n",
       "      <td>No</td>\n",
       "      <td>&lt;6 months</td>\n",
       "      <td>0</td>\n",
       "    </tr>\n",
       "    <tr>\n",
       "      <th>1</th>\n",
       "      <td>5575-GNVDE</td>\n",
       "      <td>Male</td>\n",
       "      <td>0</td>\n",
       "      <td>No</td>\n",
       "      <td>No</td>\n",
       "      <td>34</td>\n",
       "      <td>Yes</td>\n",
       "      <td>No</td>\n",
       "      <td>DSL</td>\n",
       "      <td>Yes</td>\n",
       "      <td>...</td>\n",
       "      <td>No</td>\n",
       "      <td>No</td>\n",
       "      <td>One year</td>\n",
       "      <td>No</td>\n",
       "      <td>Mailed check</td>\n",
       "      <td>56.95</td>\n",
       "      <td>1889.50</td>\n",
       "      <td>No</td>\n",
       "      <td>2-3 Years</td>\n",
       "      <td>0</td>\n",
       "    </tr>\n",
       "    <tr>\n",
       "      <th>2</th>\n",
       "      <td>3668-QPYBK</td>\n",
       "      <td>Male</td>\n",
       "      <td>0</td>\n",
       "      <td>No</td>\n",
       "      <td>No</td>\n",
       "      <td>2</td>\n",
       "      <td>Yes</td>\n",
       "      <td>No</td>\n",
       "      <td>DSL</td>\n",
       "      <td>Yes</td>\n",
       "      <td>...</td>\n",
       "      <td>No</td>\n",
       "      <td>No</td>\n",
       "      <td>Month-to-month</td>\n",
       "      <td>Yes</td>\n",
       "      <td>Mailed check</td>\n",
       "      <td>53.85</td>\n",
       "      <td>108.15</td>\n",
       "      <td>Yes</td>\n",
       "      <td>&lt;6 months</td>\n",
       "      <td>1</td>\n",
       "    </tr>\n",
       "    <tr>\n",
       "      <th>3</th>\n",
       "      <td>7795-CFOCW</td>\n",
       "      <td>Male</td>\n",
       "      <td>0</td>\n",
       "      <td>No</td>\n",
       "      <td>No</td>\n",
       "      <td>45</td>\n",
       "      <td>No</td>\n",
       "      <td>No</td>\n",
       "      <td>DSL</td>\n",
       "      <td>Yes</td>\n",
       "      <td>...</td>\n",
       "      <td>No</td>\n",
       "      <td>No</td>\n",
       "      <td>One year</td>\n",
       "      <td>No</td>\n",
       "      <td>Bank transfer (automatic)</td>\n",
       "      <td>42.30</td>\n",
       "      <td>1840.75</td>\n",
       "      <td>No</td>\n",
       "      <td>3-4 Years</td>\n",
       "      <td>0</td>\n",
       "    </tr>\n",
       "    <tr>\n",
       "      <th>4</th>\n",
       "      <td>9237-HQITU</td>\n",
       "      <td>Female</td>\n",
       "      <td>0</td>\n",
       "      <td>No</td>\n",
       "      <td>No</td>\n",
       "      <td>2</td>\n",
       "      <td>Yes</td>\n",
       "      <td>No</td>\n",
       "      <td>Fiber optic</td>\n",
       "      <td>No</td>\n",
       "      <td>...</td>\n",
       "      <td>No</td>\n",
       "      <td>No</td>\n",
       "      <td>Month-to-month</td>\n",
       "      <td>Yes</td>\n",
       "      <td>Electronic check</td>\n",
       "      <td>70.70</td>\n",
       "      <td>151.65</td>\n",
       "      <td>Yes</td>\n",
       "      <td>&lt;6 months</td>\n",
       "      <td>1</td>\n",
       "    </tr>\n",
       "  </tbody>\n",
       "</table>\n",
       "<p>5 rows × 23 columns</p>\n",
       "</div>"
      ],
      "text/plain": [
       "   customerID  gender SeniorCitizen Partner Dependents  tenure PhoneService  \\\n",
       "0  7590-VHVEG  Female             0     Yes         No       1           No   \n",
       "1  5575-GNVDE    Male             0      No         No      34          Yes   \n",
       "2  3668-QPYBK    Male             0      No         No       2          Yes   \n",
       "3  7795-CFOCW    Male             0      No         No      45           No   \n",
       "4  9237-HQITU  Female             0      No         No       2          Yes   \n",
       "\n",
       "  MultipleLines InternetService OnlineSecurity  ... StreamingTV  \\\n",
       "0            No             DSL             No  ...          No   \n",
       "1            No             DSL            Yes  ...          No   \n",
       "2            No             DSL            Yes  ...          No   \n",
       "3            No             DSL            Yes  ...          No   \n",
       "4            No     Fiber optic             No  ...          No   \n",
       "\n",
       "  StreamingMovies        Contract PaperlessBilling              PaymentMethod  \\\n",
       "0              No  Month-to-month              Yes           Electronic check   \n",
       "1              No        One year               No               Mailed check   \n",
       "2              No  Month-to-month              Yes               Mailed check   \n",
       "3              No        One year               No  Bank transfer (automatic)   \n",
       "4              No  Month-to-month              Yes           Electronic check   \n",
       "\n",
       "  MonthlyCharges TotalCharges Churn  tenure_buc  Churn_target  \n",
       "0          29.85        29.85    No   <6 months             0  \n",
       "1          56.95      1889.50    No   2-3 Years             0  \n",
       "2          53.85       108.15   Yes   <6 months             1  \n",
       "3          42.30      1840.75    No   3-4 Years             0  \n",
       "4          70.70       151.65   Yes   <6 months             1  \n",
       "\n",
       "[5 rows x 23 columns]"
      ]
     },
     "execution_count": 23,
     "metadata": {},
     "output_type": "execute_result"
    }
   ],
   "source": [
    "T.head()"
   ]
  },
  {
   "cell_type": "code",
   "execution_count": 24,
   "metadata": {},
   "outputs": [],
   "source": [
    "from sklearn.model_selection import train_test_split\n",
    "X = T.drop(['Churn','Churn_target'], axis=1)\n",
    "y = T['Churn_target']\n",
    "X_train, X_test, y_train, y_test = train_test_split(X, y, test_size=0.25, random_state=123, stratify = y)"
   ]
  },
  {
   "cell_type": "code",
   "execution_count": 25,
   "metadata": {},
   "outputs": [
    {
     "data": {
      "text/html": [
       "<div>\n",
       "<style scoped>\n",
       "    .dataframe tbody tr th:only-of-type {\n",
       "        vertical-align: middle;\n",
       "    }\n",
       "\n",
       "    .dataframe tbody tr th {\n",
       "        vertical-align: top;\n",
       "    }\n",
       "\n",
       "    .dataframe thead th {\n",
       "        text-align: right;\n",
       "    }\n",
       "</style>\n",
       "<table border=\"1\" class=\"dataframe\">\n",
       "  <thead>\n",
       "    <tr style=\"text-align: right;\">\n",
       "      <th></th>\n",
       "      <th>customerID</th>\n",
       "      <th>gender</th>\n",
       "      <th>SeniorCitizen</th>\n",
       "      <th>Partner</th>\n",
       "      <th>Dependents</th>\n",
       "      <th>tenure</th>\n",
       "      <th>PhoneService</th>\n",
       "      <th>MultipleLines</th>\n",
       "      <th>InternetService</th>\n",
       "      <th>OnlineSecurity</th>\n",
       "      <th>...</th>\n",
       "      <th>DeviceProtection</th>\n",
       "      <th>TechSupport</th>\n",
       "      <th>StreamingTV</th>\n",
       "      <th>StreamingMovies</th>\n",
       "      <th>Contract</th>\n",
       "      <th>PaperlessBilling</th>\n",
       "      <th>PaymentMethod</th>\n",
       "      <th>MonthlyCharges</th>\n",
       "      <th>TotalCharges</th>\n",
       "      <th>tenure_buc</th>\n",
       "    </tr>\n",
       "  </thead>\n",
       "  <tbody>\n",
       "    <tr>\n",
       "      <th>0</th>\n",
       "      <td>7590-VHVEG</td>\n",
       "      <td>Female</td>\n",
       "      <td>0</td>\n",
       "      <td>Yes</td>\n",
       "      <td>No</td>\n",
       "      <td>1</td>\n",
       "      <td>No</td>\n",
       "      <td>No</td>\n",
       "      <td>DSL</td>\n",
       "      <td>No</td>\n",
       "      <td>...</td>\n",
       "      <td>No</td>\n",
       "      <td>No</td>\n",
       "      <td>No</td>\n",
       "      <td>No</td>\n",
       "      <td>Month-to-month</td>\n",
       "      <td>Yes</td>\n",
       "      <td>Electronic check</td>\n",
       "      <td>29.85</td>\n",
       "      <td>29.85</td>\n",
       "      <td>&lt;6 months</td>\n",
       "    </tr>\n",
       "    <tr>\n",
       "      <th>1</th>\n",
       "      <td>5575-GNVDE</td>\n",
       "      <td>Male</td>\n",
       "      <td>0</td>\n",
       "      <td>No</td>\n",
       "      <td>No</td>\n",
       "      <td>34</td>\n",
       "      <td>Yes</td>\n",
       "      <td>No</td>\n",
       "      <td>DSL</td>\n",
       "      <td>Yes</td>\n",
       "      <td>...</td>\n",
       "      <td>Yes</td>\n",
       "      <td>No</td>\n",
       "      <td>No</td>\n",
       "      <td>No</td>\n",
       "      <td>One year</td>\n",
       "      <td>No</td>\n",
       "      <td>Mailed check</td>\n",
       "      <td>56.95</td>\n",
       "      <td>1889.50</td>\n",
       "      <td>2-3 Years</td>\n",
       "    </tr>\n",
       "    <tr>\n",
       "      <th>2</th>\n",
       "      <td>3668-QPYBK</td>\n",
       "      <td>Male</td>\n",
       "      <td>0</td>\n",
       "      <td>No</td>\n",
       "      <td>No</td>\n",
       "      <td>2</td>\n",
       "      <td>Yes</td>\n",
       "      <td>No</td>\n",
       "      <td>DSL</td>\n",
       "      <td>Yes</td>\n",
       "      <td>...</td>\n",
       "      <td>No</td>\n",
       "      <td>No</td>\n",
       "      <td>No</td>\n",
       "      <td>No</td>\n",
       "      <td>Month-to-month</td>\n",
       "      <td>Yes</td>\n",
       "      <td>Mailed check</td>\n",
       "      <td>53.85</td>\n",
       "      <td>108.15</td>\n",
       "      <td>&lt;6 months</td>\n",
       "    </tr>\n",
       "    <tr>\n",
       "      <th>3</th>\n",
       "      <td>7795-CFOCW</td>\n",
       "      <td>Male</td>\n",
       "      <td>0</td>\n",
       "      <td>No</td>\n",
       "      <td>No</td>\n",
       "      <td>45</td>\n",
       "      <td>No</td>\n",
       "      <td>No</td>\n",
       "      <td>DSL</td>\n",
       "      <td>Yes</td>\n",
       "      <td>...</td>\n",
       "      <td>Yes</td>\n",
       "      <td>Yes</td>\n",
       "      <td>No</td>\n",
       "      <td>No</td>\n",
       "      <td>One year</td>\n",
       "      <td>No</td>\n",
       "      <td>Bank transfer (automatic)</td>\n",
       "      <td>42.30</td>\n",
       "      <td>1840.75</td>\n",
       "      <td>3-4 Years</td>\n",
       "    </tr>\n",
       "    <tr>\n",
       "      <th>4</th>\n",
       "      <td>9237-HQITU</td>\n",
       "      <td>Female</td>\n",
       "      <td>0</td>\n",
       "      <td>No</td>\n",
       "      <td>No</td>\n",
       "      <td>2</td>\n",
       "      <td>Yes</td>\n",
       "      <td>No</td>\n",
       "      <td>Fiber optic</td>\n",
       "      <td>No</td>\n",
       "      <td>...</td>\n",
       "      <td>No</td>\n",
       "      <td>No</td>\n",
       "      <td>No</td>\n",
       "      <td>No</td>\n",
       "      <td>Month-to-month</td>\n",
       "      <td>Yes</td>\n",
       "      <td>Electronic check</td>\n",
       "      <td>70.70</td>\n",
       "      <td>151.65</td>\n",
       "      <td>&lt;6 months</td>\n",
       "    </tr>\n",
       "    <tr>\n",
       "      <th>...</th>\n",
       "      <td>...</td>\n",
       "      <td>...</td>\n",
       "      <td>...</td>\n",
       "      <td>...</td>\n",
       "      <td>...</td>\n",
       "      <td>...</td>\n",
       "      <td>...</td>\n",
       "      <td>...</td>\n",
       "      <td>...</td>\n",
       "      <td>...</td>\n",
       "      <td>...</td>\n",
       "      <td>...</td>\n",
       "      <td>...</td>\n",
       "      <td>...</td>\n",
       "      <td>...</td>\n",
       "      <td>...</td>\n",
       "      <td>...</td>\n",
       "      <td>...</td>\n",
       "      <td>...</td>\n",
       "      <td>...</td>\n",
       "      <td>...</td>\n",
       "    </tr>\n",
       "    <tr>\n",
       "      <th>7038</th>\n",
       "      <td>6840-RESVB</td>\n",
       "      <td>Male</td>\n",
       "      <td>0</td>\n",
       "      <td>Yes</td>\n",
       "      <td>Yes</td>\n",
       "      <td>24</td>\n",
       "      <td>Yes</td>\n",
       "      <td>Yes</td>\n",
       "      <td>DSL</td>\n",
       "      <td>Yes</td>\n",
       "      <td>...</td>\n",
       "      <td>Yes</td>\n",
       "      <td>Yes</td>\n",
       "      <td>Yes</td>\n",
       "      <td>Yes</td>\n",
       "      <td>One year</td>\n",
       "      <td>Yes</td>\n",
       "      <td>Mailed check</td>\n",
       "      <td>84.80</td>\n",
       "      <td>1990.50</td>\n",
       "      <td>2-3 Years</td>\n",
       "    </tr>\n",
       "    <tr>\n",
       "      <th>7039</th>\n",
       "      <td>2234-XADUH</td>\n",
       "      <td>Female</td>\n",
       "      <td>0</td>\n",
       "      <td>Yes</td>\n",
       "      <td>Yes</td>\n",
       "      <td>72</td>\n",
       "      <td>Yes</td>\n",
       "      <td>Yes</td>\n",
       "      <td>Fiber optic</td>\n",
       "      <td>No</td>\n",
       "      <td>...</td>\n",
       "      <td>Yes</td>\n",
       "      <td>No</td>\n",
       "      <td>Yes</td>\n",
       "      <td>Yes</td>\n",
       "      <td>One year</td>\n",
       "      <td>Yes</td>\n",
       "      <td>Credit card (automatic)</td>\n",
       "      <td>103.20</td>\n",
       "      <td>7362.90</td>\n",
       "      <td>&gt;=6 Years</td>\n",
       "    </tr>\n",
       "    <tr>\n",
       "      <th>7040</th>\n",
       "      <td>4801-JZAZL</td>\n",
       "      <td>Female</td>\n",
       "      <td>0</td>\n",
       "      <td>Yes</td>\n",
       "      <td>Yes</td>\n",
       "      <td>11</td>\n",
       "      <td>No</td>\n",
       "      <td>No</td>\n",
       "      <td>DSL</td>\n",
       "      <td>Yes</td>\n",
       "      <td>...</td>\n",
       "      <td>No</td>\n",
       "      <td>No</td>\n",
       "      <td>No</td>\n",
       "      <td>No</td>\n",
       "      <td>Month-to-month</td>\n",
       "      <td>Yes</td>\n",
       "      <td>Electronic check</td>\n",
       "      <td>29.60</td>\n",
       "      <td>346.45</td>\n",
       "      <td>6 Months - 1 Year</td>\n",
       "    </tr>\n",
       "    <tr>\n",
       "      <th>7041</th>\n",
       "      <td>8361-LTMKD</td>\n",
       "      <td>Male</td>\n",
       "      <td>1</td>\n",
       "      <td>Yes</td>\n",
       "      <td>No</td>\n",
       "      <td>4</td>\n",
       "      <td>Yes</td>\n",
       "      <td>Yes</td>\n",
       "      <td>Fiber optic</td>\n",
       "      <td>No</td>\n",
       "      <td>...</td>\n",
       "      <td>No</td>\n",
       "      <td>No</td>\n",
       "      <td>No</td>\n",
       "      <td>No</td>\n",
       "      <td>Month-to-month</td>\n",
       "      <td>Yes</td>\n",
       "      <td>Mailed check</td>\n",
       "      <td>74.40</td>\n",
       "      <td>306.60</td>\n",
       "      <td>&lt;6 months</td>\n",
       "    </tr>\n",
       "    <tr>\n",
       "      <th>7042</th>\n",
       "      <td>3186-AJIEK</td>\n",
       "      <td>Male</td>\n",
       "      <td>0</td>\n",
       "      <td>No</td>\n",
       "      <td>No</td>\n",
       "      <td>66</td>\n",
       "      <td>Yes</td>\n",
       "      <td>No</td>\n",
       "      <td>Fiber optic</td>\n",
       "      <td>Yes</td>\n",
       "      <td>...</td>\n",
       "      <td>Yes</td>\n",
       "      <td>Yes</td>\n",
       "      <td>Yes</td>\n",
       "      <td>Yes</td>\n",
       "      <td>Two year</td>\n",
       "      <td>Yes</td>\n",
       "      <td>Bank transfer (automatic)</td>\n",
       "      <td>105.65</td>\n",
       "      <td>6844.50</td>\n",
       "      <td>5-6 Years</td>\n",
       "    </tr>\n",
       "  </tbody>\n",
       "</table>\n",
       "<p>7043 rows × 21 columns</p>\n",
       "</div>"
      ],
      "text/plain": [
       "      customerID  gender SeniorCitizen Partner Dependents  tenure  \\\n",
       "0     7590-VHVEG  Female             0     Yes         No       1   \n",
       "1     5575-GNVDE    Male             0      No         No      34   \n",
       "2     3668-QPYBK    Male             0      No         No       2   \n",
       "3     7795-CFOCW    Male             0      No         No      45   \n",
       "4     9237-HQITU  Female             0      No         No       2   \n",
       "...          ...     ...           ...     ...        ...     ...   \n",
       "7038  6840-RESVB    Male             0     Yes        Yes      24   \n",
       "7039  2234-XADUH  Female             0     Yes        Yes      72   \n",
       "7040  4801-JZAZL  Female             0     Yes        Yes      11   \n",
       "7041  8361-LTMKD    Male             1     Yes         No       4   \n",
       "7042  3186-AJIEK    Male             0      No         No      66   \n",
       "\n",
       "     PhoneService MultipleLines InternetService OnlineSecurity  ...  \\\n",
       "0              No            No             DSL             No  ...   \n",
       "1             Yes            No             DSL            Yes  ...   \n",
       "2             Yes            No             DSL            Yes  ...   \n",
       "3              No            No             DSL            Yes  ...   \n",
       "4             Yes            No     Fiber optic             No  ...   \n",
       "...           ...           ...             ...            ...  ...   \n",
       "7038          Yes           Yes             DSL            Yes  ...   \n",
       "7039          Yes           Yes     Fiber optic             No  ...   \n",
       "7040           No            No             DSL            Yes  ...   \n",
       "7041          Yes           Yes     Fiber optic             No  ...   \n",
       "7042          Yes            No     Fiber optic            Yes  ...   \n",
       "\n",
       "     DeviceProtection TechSupport StreamingTV StreamingMovies        Contract  \\\n",
       "0                  No          No          No              No  Month-to-month   \n",
       "1                 Yes          No          No              No        One year   \n",
       "2                  No          No          No              No  Month-to-month   \n",
       "3                 Yes         Yes          No              No        One year   \n",
       "4                  No          No          No              No  Month-to-month   \n",
       "...               ...         ...         ...             ...             ...   \n",
       "7038              Yes         Yes         Yes             Yes        One year   \n",
       "7039              Yes          No         Yes             Yes        One year   \n",
       "7040               No          No          No              No  Month-to-month   \n",
       "7041               No          No          No              No  Month-to-month   \n",
       "7042              Yes         Yes         Yes             Yes        Two year   \n",
       "\n",
       "     PaperlessBilling              PaymentMethod MonthlyCharges  TotalCharges  \\\n",
       "0                 Yes           Electronic check          29.85         29.85   \n",
       "1                  No               Mailed check          56.95       1889.50   \n",
       "2                 Yes               Mailed check          53.85        108.15   \n",
       "3                  No  Bank transfer (automatic)          42.30       1840.75   \n",
       "4                 Yes           Electronic check          70.70        151.65   \n",
       "...               ...                        ...            ...           ...   \n",
       "7038              Yes               Mailed check          84.80       1990.50   \n",
       "7039              Yes    Credit card (automatic)         103.20       7362.90   \n",
       "7040              Yes           Electronic check          29.60        346.45   \n",
       "7041              Yes               Mailed check          74.40        306.60   \n",
       "7042              Yes  Bank transfer (automatic)         105.65       6844.50   \n",
       "\n",
       "             tenure_buc  \n",
       "0             <6 months  \n",
       "1             2-3 Years  \n",
       "2             <6 months  \n",
       "3             3-4 Years  \n",
       "4             <6 months  \n",
       "...                 ...  \n",
       "7038          2-3 Years  \n",
       "7039          >=6 Years  \n",
       "7040  6 Months - 1 Year  \n",
       "7041          <6 months  \n",
       "7042          5-6 Years  \n",
       "\n",
       "[7043 rows x 21 columns]"
      ]
     },
     "execution_count": 25,
     "metadata": {},
     "output_type": "execute_result"
    }
   ],
   "source": [
    "X"
   ]
  },
  {
   "cell_type": "code",
   "execution_count": 26,
   "metadata": {},
   "outputs": [
    {
     "data": {
      "text/html": [
       "<div>\n",
       "<style scoped>\n",
       "    .dataframe tbody tr th:only-of-type {\n",
       "        vertical-align: middle;\n",
       "    }\n",
       "\n",
       "    .dataframe tbody tr th {\n",
       "        vertical-align: top;\n",
       "    }\n",
       "\n",
       "    .dataframe thead th {\n",
       "        text-align: right;\n",
       "    }\n",
       "</style>\n",
       "<table border=\"1\" class=\"dataframe\">\n",
       "  <thead>\n",
       "    <tr style=\"text-align: right;\">\n",
       "      <th></th>\n",
       "      <th>customerID</th>\n",
       "      <th>gender</th>\n",
       "      <th>SeniorCitizen</th>\n",
       "      <th>Partner</th>\n",
       "      <th>Dependents</th>\n",
       "      <th>tenure</th>\n",
       "      <th>PhoneService</th>\n",
       "      <th>MultipleLines</th>\n",
       "      <th>InternetService</th>\n",
       "      <th>OnlineSecurity</th>\n",
       "      <th>...</th>\n",
       "      <th>StreamingTV</th>\n",
       "      <th>StreamingMovies</th>\n",
       "      <th>Contract</th>\n",
       "      <th>PaperlessBilling</th>\n",
       "      <th>PaymentMethod</th>\n",
       "      <th>MonthlyCharges</th>\n",
       "      <th>TotalCharges</th>\n",
       "      <th>Churn</th>\n",
       "      <th>tenure_buc</th>\n",
       "      <th>Churn_target</th>\n",
       "    </tr>\n",
       "  </thead>\n",
       "  <tbody>\n",
       "    <tr>\n",
       "      <th>0</th>\n",
       "      <td>7590-VHVEG</td>\n",
       "      <td>Female</td>\n",
       "      <td>0</td>\n",
       "      <td>Yes</td>\n",
       "      <td>No</td>\n",
       "      <td>1</td>\n",
       "      <td>No</td>\n",
       "      <td>No</td>\n",
       "      <td>DSL</td>\n",
       "      <td>No</td>\n",
       "      <td>...</td>\n",
       "      <td>No</td>\n",
       "      <td>No</td>\n",
       "      <td>Month-to-month</td>\n",
       "      <td>Yes</td>\n",
       "      <td>Electronic check</td>\n",
       "      <td>29.85</td>\n",
       "      <td>29.85</td>\n",
       "      <td>No</td>\n",
       "      <td>&lt;6 months</td>\n",
       "      <td>0</td>\n",
       "    </tr>\n",
       "    <tr>\n",
       "      <th>1</th>\n",
       "      <td>5575-GNVDE</td>\n",
       "      <td>Male</td>\n",
       "      <td>0</td>\n",
       "      <td>No</td>\n",
       "      <td>No</td>\n",
       "      <td>34</td>\n",
       "      <td>Yes</td>\n",
       "      <td>No</td>\n",
       "      <td>DSL</td>\n",
       "      <td>Yes</td>\n",
       "      <td>...</td>\n",
       "      <td>No</td>\n",
       "      <td>No</td>\n",
       "      <td>One year</td>\n",
       "      <td>No</td>\n",
       "      <td>Mailed check</td>\n",
       "      <td>56.95</td>\n",
       "      <td>1889.50</td>\n",
       "      <td>No</td>\n",
       "      <td>2-3 Years</td>\n",
       "      <td>0</td>\n",
       "    </tr>\n",
       "    <tr>\n",
       "      <th>2</th>\n",
       "      <td>3668-QPYBK</td>\n",
       "      <td>Male</td>\n",
       "      <td>0</td>\n",
       "      <td>No</td>\n",
       "      <td>No</td>\n",
       "      <td>2</td>\n",
       "      <td>Yes</td>\n",
       "      <td>No</td>\n",
       "      <td>DSL</td>\n",
       "      <td>Yes</td>\n",
       "      <td>...</td>\n",
       "      <td>No</td>\n",
       "      <td>No</td>\n",
       "      <td>Month-to-month</td>\n",
       "      <td>Yes</td>\n",
       "      <td>Mailed check</td>\n",
       "      <td>53.85</td>\n",
       "      <td>108.15</td>\n",
       "      <td>Yes</td>\n",
       "      <td>&lt;6 months</td>\n",
       "      <td>1</td>\n",
       "    </tr>\n",
       "    <tr>\n",
       "      <th>3</th>\n",
       "      <td>7795-CFOCW</td>\n",
       "      <td>Male</td>\n",
       "      <td>0</td>\n",
       "      <td>No</td>\n",
       "      <td>No</td>\n",
       "      <td>45</td>\n",
       "      <td>No</td>\n",
       "      <td>No</td>\n",
       "      <td>DSL</td>\n",
       "      <td>Yes</td>\n",
       "      <td>...</td>\n",
       "      <td>No</td>\n",
       "      <td>No</td>\n",
       "      <td>One year</td>\n",
       "      <td>No</td>\n",
       "      <td>Bank transfer (automatic)</td>\n",
       "      <td>42.30</td>\n",
       "      <td>1840.75</td>\n",
       "      <td>No</td>\n",
       "      <td>3-4 Years</td>\n",
       "      <td>0</td>\n",
       "    </tr>\n",
       "    <tr>\n",
       "      <th>4</th>\n",
       "      <td>9237-HQITU</td>\n",
       "      <td>Female</td>\n",
       "      <td>0</td>\n",
       "      <td>No</td>\n",
       "      <td>No</td>\n",
       "      <td>2</td>\n",
       "      <td>Yes</td>\n",
       "      <td>No</td>\n",
       "      <td>Fiber optic</td>\n",
       "      <td>No</td>\n",
       "      <td>...</td>\n",
       "      <td>No</td>\n",
       "      <td>No</td>\n",
       "      <td>Month-to-month</td>\n",
       "      <td>Yes</td>\n",
       "      <td>Electronic check</td>\n",
       "      <td>70.70</td>\n",
       "      <td>151.65</td>\n",
       "      <td>Yes</td>\n",
       "      <td>&lt;6 months</td>\n",
       "      <td>1</td>\n",
       "    </tr>\n",
       "    <tr>\n",
       "      <th>...</th>\n",
       "      <td>...</td>\n",
       "      <td>...</td>\n",
       "      <td>...</td>\n",
       "      <td>...</td>\n",
       "      <td>...</td>\n",
       "      <td>...</td>\n",
       "      <td>...</td>\n",
       "      <td>...</td>\n",
       "      <td>...</td>\n",
       "      <td>...</td>\n",
       "      <td>...</td>\n",
       "      <td>...</td>\n",
       "      <td>...</td>\n",
       "      <td>...</td>\n",
       "      <td>...</td>\n",
       "      <td>...</td>\n",
       "      <td>...</td>\n",
       "      <td>...</td>\n",
       "      <td>...</td>\n",
       "      <td>...</td>\n",
       "      <td>...</td>\n",
       "    </tr>\n",
       "    <tr>\n",
       "      <th>7038</th>\n",
       "      <td>6840-RESVB</td>\n",
       "      <td>Male</td>\n",
       "      <td>0</td>\n",
       "      <td>Yes</td>\n",
       "      <td>Yes</td>\n",
       "      <td>24</td>\n",
       "      <td>Yes</td>\n",
       "      <td>Yes</td>\n",
       "      <td>DSL</td>\n",
       "      <td>Yes</td>\n",
       "      <td>...</td>\n",
       "      <td>Yes</td>\n",
       "      <td>Yes</td>\n",
       "      <td>One year</td>\n",
       "      <td>Yes</td>\n",
       "      <td>Mailed check</td>\n",
       "      <td>84.80</td>\n",
       "      <td>1990.50</td>\n",
       "      <td>No</td>\n",
       "      <td>2-3 Years</td>\n",
       "      <td>0</td>\n",
       "    </tr>\n",
       "    <tr>\n",
       "      <th>7039</th>\n",
       "      <td>2234-XADUH</td>\n",
       "      <td>Female</td>\n",
       "      <td>0</td>\n",
       "      <td>Yes</td>\n",
       "      <td>Yes</td>\n",
       "      <td>72</td>\n",
       "      <td>Yes</td>\n",
       "      <td>Yes</td>\n",
       "      <td>Fiber optic</td>\n",
       "      <td>No</td>\n",
       "      <td>...</td>\n",
       "      <td>Yes</td>\n",
       "      <td>Yes</td>\n",
       "      <td>One year</td>\n",
       "      <td>Yes</td>\n",
       "      <td>Credit card (automatic)</td>\n",
       "      <td>103.20</td>\n",
       "      <td>7362.90</td>\n",
       "      <td>No</td>\n",
       "      <td>&gt;=6 Years</td>\n",
       "      <td>0</td>\n",
       "    </tr>\n",
       "    <tr>\n",
       "      <th>7040</th>\n",
       "      <td>4801-JZAZL</td>\n",
       "      <td>Female</td>\n",
       "      <td>0</td>\n",
       "      <td>Yes</td>\n",
       "      <td>Yes</td>\n",
       "      <td>11</td>\n",
       "      <td>No</td>\n",
       "      <td>No</td>\n",
       "      <td>DSL</td>\n",
       "      <td>Yes</td>\n",
       "      <td>...</td>\n",
       "      <td>No</td>\n",
       "      <td>No</td>\n",
       "      <td>Month-to-month</td>\n",
       "      <td>Yes</td>\n",
       "      <td>Electronic check</td>\n",
       "      <td>29.60</td>\n",
       "      <td>346.45</td>\n",
       "      <td>No</td>\n",
       "      <td>6 Months - 1 Year</td>\n",
       "      <td>0</td>\n",
       "    </tr>\n",
       "    <tr>\n",
       "      <th>7041</th>\n",
       "      <td>8361-LTMKD</td>\n",
       "      <td>Male</td>\n",
       "      <td>1</td>\n",
       "      <td>Yes</td>\n",
       "      <td>No</td>\n",
       "      <td>4</td>\n",
       "      <td>Yes</td>\n",
       "      <td>Yes</td>\n",
       "      <td>Fiber optic</td>\n",
       "      <td>No</td>\n",
       "      <td>...</td>\n",
       "      <td>No</td>\n",
       "      <td>No</td>\n",
       "      <td>Month-to-month</td>\n",
       "      <td>Yes</td>\n",
       "      <td>Mailed check</td>\n",
       "      <td>74.40</td>\n",
       "      <td>306.60</td>\n",
       "      <td>Yes</td>\n",
       "      <td>&lt;6 months</td>\n",
       "      <td>1</td>\n",
       "    </tr>\n",
       "    <tr>\n",
       "      <th>7042</th>\n",
       "      <td>3186-AJIEK</td>\n",
       "      <td>Male</td>\n",
       "      <td>0</td>\n",
       "      <td>No</td>\n",
       "      <td>No</td>\n",
       "      <td>66</td>\n",
       "      <td>Yes</td>\n",
       "      <td>No</td>\n",
       "      <td>Fiber optic</td>\n",
       "      <td>Yes</td>\n",
       "      <td>...</td>\n",
       "      <td>Yes</td>\n",
       "      <td>Yes</td>\n",
       "      <td>Two year</td>\n",
       "      <td>Yes</td>\n",
       "      <td>Bank transfer (automatic)</td>\n",
       "      <td>105.65</td>\n",
       "      <td>6844.50</td>\n",
       "      <td>No</td>\n",
       "      <td>5-6 Years</td>\n",
       "      <td>0</td>\n",
       "    </tr>\n",
       "  </tbody>\n",
       "</table>\n",
       "<p>7043 rows × 23 columns</p>\n",
       "</div>"
      ],
      "text/plain": [
       "      customerID  gender SeniorCitizen Partner Dependents  tenure  \\\n",
       "0     7590-VHVEG  Female             0     Yes         No       1   \n",
       "1     5575-GNVDE    Male             0      No         No      34   \n",
       "2     3668-QPYBK    Male             0      No         No       2   \n",
       "3     7795-CFOCW    Male             0      No         No      45   \n",
       "4     9237-HQITU  Female             0      No         No       2   \n",
       "...          ...     ...           ...     ...        ...     ...   \n",
       "7038  6840-RESVB    Male             0     Yes        Yes      24   \n",
       "7039  2234-XADUH  Female             0     Yes        Yes      72   \n",
       "7040  4801-JZAZL  Female             0     Yes        Yes      11   \n",
       "7041  8361-LTMKD    Male             1     Yes         No       4   \n",
       "7042  3186-AJIEK    Male             0      No         No      66   \n",
       "\n",
       "     PhoneService MultipleLines InternetService OnlineSecurity  ...  \\\n",
       "0              No            No             DSL             No  ...   \n",
       "1             Yes            No             DSL            Yes  ...   \n",
       "2             Yes            No             DSL            Yes  ...   \n",
       "3              No            No             DSL            Yes  ...   \n",
       "4             Yes            No     Fiber optic             No  ...   \n",
       "...           ...           ...             ...            ...  ...   \n",
       "7038          Yes           Yes             DSL            Yes  ...   \n",
       "7039          Yes           Yes     Fiber optic             No  ...   \n",
       "7040           No            No             DSL            Yes  ...   \n",
       "7041          Yes           Yes     Fiber optic             No  ...   \n",
       "7042          Yes            No     Fiber optic            Yes  ...   \n",
       "\n",
       "     StreamingTV StreamingMovies        Contract PaperlessBilling  \\\n",
       "0             No              No  Month-to-month              Yes   \n",
       "1             No              No        One year               No   \n",
       "2             No              No  Month-to-month              Yes   \n",
       "3             No              No        One year               No   \n",
       "4             No              No  Month-to-month              Yes   \n",
       "...          ...             ...             ...              ...   \n",
       "7038         Yes             Yes        One year              Yes   \n",
       "7039         Yes             Yes        One year              Yes   \n",
       "7040          No              No  Month-to-month              Yes   \n",
       "7041          No              No  Month-to-month              Yes   \n",
       "7042         Yes             Yes        Two year              Yes   \n",
       "\n",
       "                  PaymentMethod MonthlyCharges TotalCharges Churn  \\\n",
       "0              Electronic check          29.85        29.85    No   \n",
       "1                  Mailed check          56.95      1889.50    No   \n",
       "2                  Mailed check          53.85       108.15   Yes   \n",
       "3     Bank transfer (automatic)          42.30      1840.75    No   \n",
       "4              Electronic check          70.70       151.65   Yes   \n",
       "...                         ...            ...          ...   ...   \n",
       "7038               Mailed check          84.80      1990.50    No   \n",
       "7039    Credit card (automatic)         103.20      7362.90    No   \n",
       "7040           Electronic check          29.60       346.45    No   \n",
       "7041               Mailed check          74.40       306.60   Yes   \n",
       "7042  Bank transfer (automatic)         105.65      6844.50    No   \n",
       "\n",
       "             tenure_buc  Churn_target  \n",
       "0             <6 months             0  \n",
       "1             2-3 Years             0  \n",
       "2             <6 months             1  \n",
       "3             3-4 Years             0  \n",
       "4             <6 months             1  \n",
       "...                 ...           ...  \n",
       "7038          2-3 Years             0  \n",
       "7039          >=6 Years             0  \n",
       "7040  6 Months - 1 Year             0  \n",
       "7041          <6 months             1  \n",
       "7042          5-6 Years             0  \n",
       "\n",
       "[7043 rows x 23 columns]"
      ]
     },
     "execution_count": 26,
     "metadata": {},
     "output_type": "execute_result"
    }
   ],
   "source": [
    "T"
   ]
  },
  {
   "cell_type": "code",
   "execution_count": 27,
   "metadata": {},
   "outputs": [
    {
     "name": "stdout",
     "output_type": "stream",
     "text": [
      "0    0.73457\n",
      "1    0.26543\n",
      "Name: Churn_target, dtype: float64\n",
      "0    0.73481\n",
      "1    0.26519\n",
      "Name: Churn_target, dtype: float64\n"
     ]
    }
   ],
   "source": [
    "print(y_train.value_counts(normalize=True))\n",
    "print(y_test.value_counts(normalize=True))"
   ]
  },
  {
   "cell_type": "markdown",
   "metadata": {},
   "source": [
    "## Treating Missing Values"
   ]
  },
  {
   "cell_type": "code",
   "execution_count": 28,
   "metadata": {},
   "outputs": [],
   "source": [
    "cat_attr = list(X_train.select_dtypes(include=['category','object']).columns)\n",
    "num_attr = list(X_train.select_dtypes(include=['number']).columns)"
   ]
  },
  {
   "cell_type": "code",
   "execution_count": 29,
   "metadata": {},
   "outputs": [
    {
     "data": {
      "text/plain": [
       "(['customerID',\n",
       "  'gender',\n",
       "  'SeniorCitizen',\n",
       "  'Partner',\n",
       "  'Dependents',\n",
       "  'PhoneService',\n",
       "  'MultipleLines',\n",
       "  'InternetService',\n",
       "  'OnlineSecurity',\n",
       "  'OnlineBackup',\n",
       "  'DeviceProtection',\n",
       "  'TechSupport',\n",
       "  'StreamingTV',\n",
       "  'StreamingMovies',\n",
       "  'Contract',\n",
       "  'PaperlessBilling',\n",
       "  'PaymentMethod',\n",
       "  'tenure_buc'],\n",
       " ['tenure', 'MonthlyCharges', 'TotalCharges'])"
      ]
     },
     "execution_count": 29,
     "metadata": {},
     "output_type": "execute_result"
    }
   ],
   "source": [
    "cat_attr, num_attr"
   ]
  },
  {
   "cell_type": "code",
   "execution_count": 30,
   "metadata": {},
   "outputs": [
    {
     "name": "stderr",
     "output_type": "stream",
     "text": [
      "<ipython-input-30-42c17e6a4822>:6: SettingWithCopyWarning: \n",
      "A value is trying to be set on a copy of a slice from a DataFrame.\n",
      "Try using .loc[row_indexer,col_indexer] = value instead\n",
      "\n",
      "See the caveats in the documentation: https://pandas.pydata.org/pandas-docs/stable/user_guide/indexing.html#returning-a-view-versus-a-copy\n",
      "  X_train[num_attr] = imputer.transform(X_train[num_attr])\n",
      "C:\\Users\\asus\\anaconda3\\lib\\site-packages\\pandas\\core\\indexing.py:966: SettingWithCopyWarning: \n",
      "A value is trying to be set on a copy of a slice from a DataFrame.\n",
      "Try using .loc[row_indexer,col_indexer] = value instead\n",
      "\n",
      "See the caveats in the documentation: https://pandas.pydata.org/pandas-docs/stable/user_guide/indexing.html#returning-a-view-versus-a-copy\n",
      "  self.obj[item] = s\n",
      "<ipython-input-30-42c17e6a4822>:7: SettingWithCopyWarning: \n",
      "A value is trying to be set on a copy of a slice from a DataFrame.\n",
      "Try using .loc[row_indexer,col_indexer] = value instead\n",
      "\n",
      "See the caveats in the documentation: https://pandas.pydata.org/pandas-docs/stable/user_guide/indexing.html#returning-a-view-versus-a-copy\n",
      "  X_test[num_attr] = imputer.transform(X_test[num_attr])\n",
      "C:\\Users\\asus\\anaconda3\\lib\\site-packages\\pandas\\core\\indexing.py:966: SettingWithCopyWarning: \n",
      "A value is trying to be set on a copy of a slice from a DataFrame.\n",
      "Try using .loc[row_indexer,col_indexer] = value instead\n",
      "\n",
      "See the caveats in the documentation: https://pandas.pydata.org/pandas-docs/stable/user_guide/indexing.html#returning-a-view-versus-a-copy\n",
      "  self.obj[item] = s\n"
     ]
    }
   ],
   "source": [
    "from sklearn.impute import SimpleImputer\n",
    "\n",
    "imputer = SimpleImputer(strategy='median')\n",
    "imputer = imputer.fit(X_train[num_attr])\n",
    "\n",
    "X_train[num_attr] = imputer.transform(X_train[num_attr])\n",
    "X_test[num_attr] = imputer.transform(X_test[num_attr])"
   ]
  },
  {
   "cell_type": "code",
   "execution_count": 31,
   "metadata": {},
   "outputs": [
    {
     "name": "stdout",
     "output_type": "stream",
     "text": [
      "customerID          0\n",
      "gender              0\n",
      "SeniorCitizen       0\n",
      "Partner             0\n",
      "Dependents          0\n",
      "tenure              0\n",
      "PhoneService        0\n",
      "MultipleLines       0\n",
      "InternetService     0\n",
      "OnlineSecurity      0\n",
      "OnlineBackup        0\n",
      "DeviceProtection    0\n",
      "TechSupport         0\n",
      "StreamingTV         0\n",
      "StreamingMovies     0\n",
      "Contract            0\n",
      "PaperlessBilling    0\n",
      "PaymentMethod       0\n",
      "MonthlyCharges      0\n",
      "TotalCharges        0\n",
      "tenure_buc          0\n",
      "dtype: int64 customerID          0\n",
      "gender              0\n",
      "SeniorCitizen       0\n",
      "Partner             0\n",
      "Dependents          0\n",
      "tenure              0\n",
      "PhoneService        0\n",
      "MultipleLines       0\n",
      "InternetService     0\n",
      "OnlineSecurity      0\n",
      "OnlineBackup        0\n",
      "DeviceProtection    0\n",
      "TechSupport         0\n",
      "StreamingTV         0\n",
      "StreamingMovies     0\n",
      "Contract            0\n",
      "PaperlessBilling    0\n",
      "PaymentMethod       0\n",
      "MonthlyCharges      0\n",
      "TotalCharges        0\n",
      "tenure_buc          0\n",
      "dtype: int64\n"
     ]
    }
   ],
   "source": [
    "print(X_train.isna().sum(), X_test.isna().sum())"
   ]
  },
  {
   "cell_type": "markdown",
   "metadata": {},
   "source": [
    "### Removing Irrelavant Columns"
   ]
  },
  {
   "cell_type": "code",
   "execution_count": 32,
   "metadata": {},
   "outputs": [],
   "source": [
    "X_train = X_train.drop(['customerID'], axis=1)\n",
    "X_test = X_test.drop(['customerID'], axis=1)"
   ]
  },
  {
   "cell_type": "markdown",
   "metadata": {},
   "source": [
    "## Standardizing the numeric Data"
   ]
  },
  {
   "cell_type": "code",
   "execution_count": 33,
   "metadata": {},
   "outputs": [],
   "source": [
    "from sklearn.preprocessing import StandardScaler\n",
    "\n",
    "scaler = StandardScaler()\n",
    "scaler.fit(X_train[num_attr])\n",
    "\n",
    "X_train_std = pd.DataFrame(scaler.transform(X_train[num_attr]), columns=num_attr)\n",
    "X_test_std = pd.DataFrame(scaler.transform(X_test[num_attr]), columns=num_attr)"
   ]
  },
  {
   "cell_type": "code",
   "execution_count": 34,
   "metadata": {},
   "outputs": [
    {
     "data": {
      "text/plain": [
       "[1.2153179720527557e-16, 1.0000946745564259]"
      ]
     },
     "execution_count": 34,
     "metadata": {},
     "output_type": "execute_result"
    }
   ],
   "source": [
    "[X_train_std['MonthlyCharges'].mean(), X_train_std['MonthlyCharges'].std()]"
   ]
  },
  {
   "cell_type": "markdown",
   "metadata": {},
   "source": [
    "## One - Hot Encoding of Categorical Data"
   ]
  },
  {
   "cell_type": "code",
   "execution_count": 35,
   "metadata": {},
   "outputs": [
    {
     "data": {
      "text/plain": [
       "['gender',\n",
       " 'SeniorCitizen',\n",
       " 'Partner',\n",
       " 'Dependents',\n",
       " 'PhoneService',\n",
       " 'MultipleLines',\n",
       " 'InternetService',\n",
       " 'OnlineSecurity',\n",
       " 'OnlineBackup',\n",
       " 'DeviceProtection',\n",
       " 'TechSupport',\n",
       " 'StreamingTV',\n",
       " 'StreamingMovies',\n",
       " 'Contract',\n",
       " 'PaperlessBilling',\n",
       " 'PaymentMethod',\n",
       " 'tenure_buc']"
      ]
     },
     "execution_count": 35,
     "metadata": {},
     "output_type": "execute_result"
    }
   ],
   "source": [
    "cat_attr = list(X_train.select_dtypes(include=['category','object']).columns)\n",
    "cat_attr"
   ]
  },
  {
   "cell_type": "code",
   "execution_count": 36,
   "metadata": {},
   "outputs": [],
   "source": [
    "from sklearn.preprocessing import StandardScaler, OneHotEncoder"
   ]
  },
  {
   "cell_type": "code",
   "execution_count": 37,
   "metadata": {},
   "outputs": [
    {
     "name": "stdout",
     "output_type": "stream",
     "text": [
      "['gender_Female', 'gender_Male', 'SeniorCitizen_0', 'SeniorCitizen_1', 'Partner_No', 'Partner_Yes', 'Dependents_No', 'Dependents_Yes', 'PhoneService_No', 'PhoneService_Yes', 'MultipleLines_No', 'MultipleLines_Yes', 'InternetService_DSL', 'InternetService_Fiber optic', 'InternetService_No', 'OnlineSecurity_No', 'OnlineSecurity_Yes', 'OnlineBackup_No', 'OnlineBackup_Yes', 'DeviceProtection_No', 'DeviceProtection_Yes', 'TechSupport_No', 'TechSupport_Yes', 'StreamingTV_No', 'StreamingTV_Yes', 'StreamingMovies_No', 'StreamingMovies_Yes', 'Contract_Month-to-month', 'Contract_One year', 'Contract_Two year', 'PaperlessBilling_No', 'PaperlessBilling_Yes', 'PaymentMethod_Bank transfer (automatic)', 'PaymentMethod_Credit card (automatic)', 'PaymentMethod_Electronic check', 'PaymentMethod_Mailed check', 'tenure_buc_1-2 Years', 'tenure_buc_2-3 Years', 'tenure_buc_3-4 Years', 'tenure_buc_4-5 Years', 'tenure_buc_5-6 Years', 'tenure_buc_6 Months - 1 Year', 'tenure_buc_<6 months', 'tenure_buc_>=6 Years']\n"
     ]
    }
   ],
   "source": [
    "ohe = OneHotEncoder(handle_unknown='error')\n",
    "\n",
    "ohe.fit(X_train[cat_attr])\n",
    "\n",
    "columns_ohe = list(ohe.get_feature_names(cat_attr))\n",
    "print(columns_ohe)\n",
    "\n",
    "X_train_cat = ohe.transform(X_train[cat_attr])\n",
    "X_test_cat = ohe.transform(X_test[cat_attr])\n",
    "\n",
    "X_train_cat = pd.DataFrame(X_train_cat.todense(), columns=columns_ohe)\n",
    "X_test_cat = pd.DataFrame(X_test_cat.todense(), columns=columns_ohe)"
   ]
  },
  {
   "cell_type": "code",
   "execution_count": 38,
   "metadata": {},
   "outputs": [],
   "source": [
    "X_train_preprocessed = pd.concat([X_train_std, X_train_cat], axis=1)\n",
    "X_test_preprocessed = pd.concat([X_test_std, X_test_cat], axis=1)"
   ]
  },
  {
   "cell_type": "code",
   "execution_count": 39,
   "metadata": {},
   "outputs": [
    {
     "data": {
      "text/plain": [
       "[(5282, 47), (1761, 47)]"
      ]
     },
     "execution_count": 39,
     "metadata": {},
     "output_type": "execute_result"
    }
   ],
   "source": [
    "[X_train_preprocessed.shape, X_test_preprocessed.shape]"
   ]
  },
  {
   "cell_type": "code",
   "execution_count": 40,
   "metadata": {},
   "outputs": [
    {
     "data": {
      "text/html": [
       "<div>\n",
       "<style scoped>\n",
       "    .dataframe tbody tr th:only-of-type {\n",
       "        vertical-align: middle;\n",
       "    }\n",
       "\n",
       "    .dataframe tbody tr th {\n",
       "        vertical-align: top;\n",
       "    }\n",
       "\n",
       "    .dataframe thead th {\n",
       "        text-align: right;\n",
       "    }\n",
       "</style>\n",
       "<table border=\"1\" class=\"dataframe\">\n",
       "  <thead>\n",
       "    <tr style=\"text-align: right;\">\n",
       "      <th></th>\n",
       "      <th>tenure</th>\n",
       "      <th>MonthlyCharges</th>\n",
       "      <th>TotalCharges</th>\n",
       "      <th>gender_Female</th>\n",
       "      <th>gender_Male</th>\n",
       "      <th>SeniorCitizen_0</th>\n",
       "      <th>SeniorCitizen_1</th>\n",
       "      <th>Partner_No</th>\n",
       "      <th>Partner_Yes</th>\n",
       "      <th>Dependents_No</th>\n",
       "      <th>...</th>\n",
       "      <th>PaymentMethod_Electronic check</th>\n",
       "      <th>PaymentMethod_Mailed check</th>\n",
       "      <th>tenure_buc_1-2 Years</th>\n",
       "      <th>tenure_buc_2-3 Years</th>\n",
       "      <th>tenure_buc_3-4 Years</th>\n",
       "      <th>tenure_buc_4-5 Years</th>\n",
       "      <th>tenure_buc_5-6 Years</th>\n",
       "      <th>tenure_buc_6 Months - 1 Year</th>\n",
       "      <th>tenure_buc_&lt;6 months</th>\n",
       "      <th>tenure_buc_&gt;=6 Years</th>\n",
       "    </tr>\n",
       "  </thead>\n",
       "  <tbody>\n",
       "    <tr>\n",
       "      <th>0</th>\n",
       "      <td>0.964787</td>\n",
       "      <td>1.402679</td>\n",
       "      <td>1.611765</td>\n",
       "      <td>1.0</td>\n",
       "      <td>0.0</td>\n",
       "      <td>1.0</td>\n",
       "      <td>0.0</td>\n",
       "      <td>1.0</td>\n",
       "      <td>0.0</td>\n",
       "      <td>1.0</td>\n",
       "      <td>...</td>\n",
       "      <td>1.0</td>\n",
       "      <td>0.0</td>\n",
       "      <td>0.0</td>\n",
       "      <td>0.0</td>\n",
       "      <td>0.0</td>\n",
       "      <td>1.0</td>\n",
       "      <td>0.0</td>\n",
       "      <td>0.0</td>\n",
       "      <td>0.0</td>\n",
       "      <td>0.0</td>\n",
       "    </tr>\n",
       "    <tr>\n",
       "      <th>1</th>\n",
       "      <td>-0.416288</td>\n",
       "      <td>1.066588</td>\n",
       "      <td>-0.080794</td>\n",
       "      <td>0.0</td>\n",
       "      <td>1.0</td>\n",
       "      <td>0.0</td>\n",
       "      <td>1.0</td>\n",
       "      <td>1.0</td>\n",
       "      <td>0.0</td>\n",
       "      <td>1.0</td>\n",
       "      <td>...</td>\n",
       "      <td>1.0</td>\n",
       "      <td>0.0</td>\n",
       "      <td>1.0</td>\n",
       "      <td>0.0</td>\n",
       "      <td>0.0</td>\n",
       "      <td>0.0</td>\n",
       "      <td>0.0</td>\n",
       "      <td>0.0</td>\n",
       "      <td>0.0</td>\n",
       "      <td>0.0</td>\n",
       "    </tr>\n",
       "    <tr>\n",
       "      <th>2</th>\n",
       "      <td>-0.538148</td>\n",
       "      <td>-1.489029</td>\n",
       "      <td>-0.842931</td>\n",
       "      <td>0.0</td>\n",
       "      <td>1.0</td>\n",
       "      <td>1.0</td>\n",
       "      <td>0.0</td>\n",
       "      <td>0.0</td>\n",
       "      <td>1.0</td>\n",
       "      <td>0.0</td>\n",
       "      <td>...</td>\n",
       "      <td>0.0</td>\n",
       "      <td>1.0</td>\n",
       "      <td>1.0</td>\n",
       "      <td>0.0</td>\n",
       "      <td>0.0</td>\n",
       "      <td>0.0</td>\n",
       "      <td>0.0</td>\n",
       "      <td>0.0</td>\n",
       "      <td>0.0</td>\n",
       "      <td>0.0</td>\n",
       "    </tr>\n",
       "    <tr>\n",
       "      <th>3</th>\n",
       "      <td>-1.269305</td>\n",
       "      <td>-1.474055</td>\n",
       "      <td>-0.991957</td>\n",
       "      <td>1.0</td>\n",
       "      <td>0.0</td>\n",
       "      <td>1.0</td>\n",
       "      <td>0.0</td>\n",
       "      <td>0.0</td>\n",
       "      <td>1.0</td>\n",
       "      <td>0.0</td>\n",
       "      <td>...</td>\n",
       "      <td>0.0</td>\n",
       "      <td>1.0</td>\n",
       "      <td>0.0</td>\n",
       "      <td>0.0</td>\n",
       "      <td>0.0</td>\n",
       "      <td>0.0</td>\n",
       "      <td>0.0</td>\n",
       "      <td>0.0</td>\n",
       "      <td>1.0</td>\n",
       "      <td>0.0</td>\n",
       "    </tr>\n",
       "    <tr>\n",
       "      <th>4</th>\n",
       "      <td>-0.091329</td>\n",
       "      <td>-0.527345</td>\n",
       "      <td>-0.322081</td>\n",
       "      <td>1.0</td>\n",
       "      <td>0.0</td>\n",
       "      <td>1.0</td>\n",
       "      <td>0.0</td>\n",
       "      <td>1.0</td>\n",
       "      <td>0.0</td>\n",
       "      <td>1.0</td>\n",
       "      <td>...</td>\n",
       "      <td>0.0</td>\n",
       "      <td>1.0</td>\n",
       "      <td>0.0</td>\n",
       "      <td>1.0</td>\n",
       "      <td>0.0</td>\n",
       "      <td>0.0</td>\n",
       "      <td>0.0</td>\n",
       "      <td>0.0</td>\n",
       "      <td>0.0</td>\n",
       "      <td>0.0</td>\n",
       "    </tr>\n",
       "    <tr>\n",
       "      <th>...</th>\n",
       "      <td>...</td>\n",
       "      <td>...</td>\n",
       "      <td>...</td>\n",
       "      <td>...</td>\n",
       "      <td>...</td>\n",
       "      <td>...</td>\n",
       "      <td>...</td>\n",
       "      <td>...</td>\n",
       "      <td>...</td>\n",
       "      <td>...</td>\n",
       "      <td>...</td>\n",
       "      <td>...</td>\n",
       "      <td>...</td>\n",
       "      <td>...</td>\n",
       "      <td>...</td>\n",
       "      <td>...</td>\n",
       "      <td>...</td>\n",
       "      <td>...</td>\n",
       "      <td>...</td>\n",
       "      <td>...</td>\n",
       "      <td>...</td>\n",
       "    </tr>\n",
       "    <tr>\n",
       "      <th>5277</th>\n",
       "      <td>-0.294429</td>\n",
       "      <td>1.000036</td>\n",
       "      <td>0.042521</td>\n",
       "      <td>0.0</td>\n",
       "      <td>1.0</td>\n",
       "      <td>1.0</td>\n",
       "      <td>0.0</td>\n",
       "      <td>1.0</td>\n",
       "      <td>0.0</td>\n",
       "      <td>1.0</td>\n",
       "      <td>...</td>\n",
       "      <td>0.0</td>\n",
       "      <td>0.0</td>\n",
       "      <td>0.0</td>\n",
       "      <td>1.0</td>\n",
       "      <td>0.0</td>\n",
       "      <td>0.0</td>\n",
       "      <td>0.0</td>\n",
       "      <td>0.0</td>\n",
       "      <td>0.0</td>\n",
       "      <td>0.0</td>\n",
       "    </tr>\n",
       "    <tr>\n",
       "      <th>5278</th>\n",
       "      <td>0.517969</td>\n",
       "      <td>-1.329303</td>\n",
       "      <td>-0.482172</td>\n",
       "      <td>0.0</td>\n",
       "      <td>1.0</td>\n",
       "      <td>0.0</td>\n",
       "      <td>1.0</td>\n",
       "      <td>0.0</td>\n",
       "      <td>1.0</td>\n",
       "      <td>1.0</td>\n",
       "      <td>...</td>\n",
       "      <td>0.0</td>\n",
       "      <td>0.0</td>\n",
       "      <td>0.0</td>\n",
       "      <td>0.0</td>\n",
       "      <td>1.0</td>\n",
       "      <td>0.0</td>\n",
       "      <td>0.0</td>\n",
       "      <td>0.0</td>\n",
       "      <td>0.0</td>\n",
       "      <td>0.0</td>\n",
       "    </tr>\n",
       "    <tr>\n",
       "      <th>5279</th>\n",
       "      <td>0.071150</td>\n",
       "      <td>1.354428</td>\n",
       "      <td>0.628508</td>\n",
       "      <td>1.0</td>\n",
       "      <td>0.0</td>\n",
       "      <td>1.0</td>\n",
       "      <td>0.0</td>\n",
       "      <td>1.0</td>\n",
       "      <td>0.0</td>\n",
       "      <td>0.0</td>\n",
       "      <td>...</td>\n",
       "      <td>0.0</td>\n",
       "      <td>0.0</td>\n",
       "      <td>0.0</td>\n",
       "      <td>1.0</td>\n",
       "      <td>0.0</td>\n",
       "      <td>0.0</td>\n",
       "      <td>0.0</td>\n",
       "      <td>0.0</td>\n",
       "      <td>0.0</td>\n",
       "      <td>0.0</td>\n",
       "    </tr>\n",
       "    <tr>\n",
       "      <th>5280</th>\n",
       "      <td>0.355489</td>\n",
       "      <td>1.262918</td>\n",
       "      <td>0.860319</td>\n",
       "      <td>0.0</td>\n",
       "      <td>1.0</td>\n",
       "      <td>1.0</td>\n",
       "      <td>0.0</td>\n",
       "      <td>0.0</td>\n",
       "      <td>1.0</td>\n",
       "      <td>0.0</td>\n",
       "      <td>...</td>\n",
       "      <td>1.0</td>\n",
       "      <td>0.0</td>\n",
       "      <td>0.0</td>\n",
       "      <td>0.0</td>\n",
       "      <td>1.0</td>\n",
       "      <td>0.0</td>\n",
       "      <td>0.0</td>\n",
       "      <td>0.0</td>\n",
       "      <td>0.0</td>\n",
       "      <td>0.0</td>\n",
       "    </tr>\n",
       "    <tr>\n",
       "      <th>5281</th>\n",
       "      <td>1.127267</td>\n",
       "      <td>1.372730</td>\n",
       "      <td>1.826833</td>\n",
       "      <td>1.0</td>\n",
       "      <td>0.0</td>\n",
       "      <td>0.0</td>\n",
       "      <td>1.0</td>\n",
       "      <td>0.0</td>\n",
       "      <td>1.0</td>\n",
       "      <td>1.0</td>\n",
       "      <td>...</td>\n",
       "      <td>1.0</td>\n",
       "      <td>0.0</td>\n",
       "      <td>0.0</td>\n",
       "      <td>0.0</td>\n",
       "      <td>0.0</td>\n",
       "      <td>0.0</td>\n",
       "      <td>1.0</td>\n",
       "      <td>0.0</td>\n",
       "      <td>0.0</td>\n",
       "      <td>0.0</td>\n",
       "    </tr>\n",
       "  </tbody>\n",
       "</table>\n",
       "<p>5282 rows × 47 columns</p>\n",
       "</div>"
      ],
      "text/plain": [
       "        tenure  MonthlyCharges  TotalCharges  gender_Female  gender_Male  \\\n",
       "0     0.964787        1.402679      1.611765            1.0          0.0   \n",
       "1    -0.416288        1.066588     -0.080794            0.0          1.0   \n",
       "2    -0.538148       -1.489029     -0.842931            0.0          1.0   \n",
       "3    -1.269305       -1.474055     -0.991957            1.0          0.0   \n",
       "4    -0.091329       -0.527345     -0.322081            1.0          0.0   \n",
       "...        ...             ...           ...            ...          ...   \n",
       "5277 -0.294429        1.000036      0.042521            0.0          1.0   \n",
       "5278  0.517969       -1.329303     -0.482172            0.0          1.0   \n",
       "5279  0.071150        1.354428      0.628508            1.0          0.0   \n",
       "5280  0.355489        1.262918      0.860319            0.0          1.0   \n",
       "5281  1.127267        1.372730      1.826833            1.0          0.0   \n",
       "\n",
       "      SeniorCitizen_0  SeniorCitizen_1  Partner_No  Partner_Yes  \\\n",
       "0                 1.0              0.0         1.0          0.0   \n",
       "1                 0.0              1.0         1.0          0.0   \n",
       "2                 1.0              0.0         0.0          1.0   \n",
       "3                 1.0              0.0         0.0          1.0   \n",
       "4                 1.0              0.0         1.0          0.0   \n",
       "...               ...              ...         ...          ...   \n",
       "5277              1.0              0.0         1.0          0.0   \n",
       "5278              0.0              1.0         0.0          1.0   \n",
       "5279              1.0              0.0         1.0          0.0   \n",
       "5280              1.0              0.0         0.0          1.0   \n",
       "5281              0.0              1.0         0.0          1.0   \n",
       "\n",
       "      Dependents_No  ...  PaymentMethod_Electronic check  \\\n",
       "0               1.0  ...                             1.0   \n",
       "1               1.0  ...                             1.0   \n",
       "2               0.0  ...                             0.0   \n",
       "3               0.0  ...                             0.0   \n",
       "4               1.0  ...                             0.0   \n",
       "...             ...  ...                             ...   \n",
       "5277            1.0  ...                             0.0   \n",
       "5278            1.0  ...                             0.0   \n",
       "5279            0.0  ...                             0.0   \n",
       "5280            0.0  ...                             1.0   \n",
       "5281            1.0  ...                             1.0   \n",
       "\n",
       "      PaymentMethod_Mailed check  tenure_buc_1-2 Years  tenure_buc_2-3 Years  \\\n",
       "0                            0.0                   0.0                   0.0   \n",
       "1                            0.0                   1.0                   0.0   \n",
       "2                            1.0                   1.0                   0.0   \n",
       "3                            1.0                   0.0                   0.0   \n",
       "4                            1.0                   0.0                   1.0   \n",
       "...                          ...                   ...                   ...   \n",
       "5277                         0.0                   0.0                   1.0   \n",
       "5278                         0.0                   0.0                   0.0   \n",
       "5279                         0.0                   0.0                   1.0   \n",
       "5280                         0.0                   0.0                   0.0   \n",
       "5281                         0.0                   0.0                   0.0   \n",
       "\n",
       "      tenure_buc_3-4 Years  tenure_buc_4-5 Years  tenure_buc_5-6 Years  \\\n",
       "0                      0.0                   1.0                   0.0   \n",
       "1                      0.0                   0.0                   0.0   \n",
       "2                      0.0                   0.0                   0.0   \n",
       "3                      0.0                   0.0                   0.0   \n",
       "4                      0.0                   0.0                   0.0   \n",
       "...                    ...                   ...                   ...   \n",
       "5277                   0.0                   0.0                   0.0   \n",
       "5278                   1.0                   0.0                   0.0   \n",
       "5279                   0.0                   0.0                   0.0   \n",
       "5280                   1.0                   0.0                   0.0   \n",
       "5281                   0.0                   0.0                   1.0   \n",
       "\n",
       "      tenure_buc_6 Months - 1 Year  tenure_buc_<6 months  tenure_buc_>=6 Years  \n",
       "0                              0.0                   0.0                   0.0  \n",
       "1                              0.0                   0.0                   0.0  \n",
       "2                              0.0                   0.0                   0.0  \n",
       "3                              0.0                   1.0                   0.0  \n",
       "4                              0.0                   0.0                   0.0  \n",
       "...                            ...                   ...                   ...  \n",
       "5277                           0.0                   0.0                   0.0  \n",
       "5278                           0.0                   0.0                   0.0  \n",
       "5279                           0.0                   0.0                   0.0  \n",
       "5280                           0.0                   0.0                   0.0  \n",
       "5281                           0.0                   0.0                   0.0  \n",
       "\n",
       "[5282 rows x 47 columns]"
      ]
     },
     "execution_count": 40,
     "metadata": {},
     "output_type": "execute_result"
    }
   ],
   "source": [
    "X_train_preprocessed"
   ]
  },
  {
   "cell_type": "markdown",
   "metadata": {},
   "source": [
    "## Modelling"
   ]
  },
  {
   "cell_type": "code",
   "execution_count": 41,
   "metadata": {},
   "outputs": [],
   "source": [
    "from sklearn.model_selection import cross_validate\n",
    "from sklearn.model_selection import RandomizedSearchCV\n",
    "from sklearn.model_selection import StratifiedKFold\n",
    "from sklearn.ensemble import RandomForestClassifier\n",
    "from sklearn.metrics import classification_report\n",
    "# Packages\n",
    "import pandas as pd\n",
    "import numpy as np\n",
    "import sklearn\n",
    "from sklearn import linear_model\n",
    "from sklearn import preprocessing\n",
    "from sklearn import metrics\n",
    "from sklearn.preprocessing import scale\n",
    "from sklearn.linear_model import LogisticRegression\n",
    "from sklearn.model_selection import train_test_split\n",
    "from pandas import Series, DataFrame\n",
    "from sklearn.preprocessing import StandardScaler\n",
    "import scipy\n",
    "from scipy.stats import spearmanr"
   ]
  },
  {
   "cell_type": "markdown",
   "metadata": {},
   "source": [
    "### 1. Logistic Regression"
   ]
  },
  {
   "cell_type": "code",
   "execution_count": 42,
   "metadata": {},
   "outputs": [
    {
     "name": "stderr",
     "output_type": "stream",
     "text": [
      "C:\\Users\\asus\\anaconda3\\lib\\site-packages\\sklearn\\linear_model\\_logistic.py:763: ConvergenceWarning: lbfgs failed to converge (status=1):\n",
      "STOP: TOTAL NO. of ITERATIONS REACHED LIMIT.\n",
      "\n",
      "Increase the number of iterations (max_iter) or scale the data as shown in:\n",
      "    https://scikit-learn.org/stable/modules/preprocessing.html\n",
      "Please also refer to the documentation for alternative solver options:\n",
      "    https://scikit-learn.org/stable/modules/linear_model.html#logistic-regression\n",
      "  n_iter_i = _check_optimize_result(\n"
     ]
    },
    {
     "data": {
      "text/plain": [
       "LogisticRegression()"
      ]
     },
     "execution_count": 42,
     "metadata": {},
     "output_type": "execute_result"
    }
   ],
   "source": [
    "LR = LogisticRegression()\n",
    "LR.fit(X_train_preprocessed, y_train)"
   ]
  },
  {
   "cell_type": "code",
   "execution_count": 43,
   "metadata": {},
   "outputs": [
    {
     "name": "stdout",
     "output_type": "stream",
     "text": [
      "              precision    recall  f1-score   support\n",
      "\n",
      "           0       0.84      0.91      0.87      3880\n",
      "           1       0.68      0.54      0.60      1402\n",
      "\n",
      "    accuracy                           0.81      5282\n",
      "   macro avg       0.76      0.72      0.74      5282\n",
      "weighted avg       0.80      0.81      0.80      5282\n",
      "\n"
     ]
    }
   ],
   "source": [
    "# Prediction and Classification Report on Train set\n",
    "y_pred_train_LR = LR.predict(X_train_preprocessed)\n",
    "print(classification_report(y_train, y_pred_train_LR))"
   ]
  },
  {
   "cell_type": "code",
   "execution_count": 44,
   "metadata": {},
   "outputs": [
    {
     "data": {
      "text/plain": [
       "array([[3519,  361],\n",
       "       [ 649,  753]], dtype=int64)"
      ]
     },
     "execution_count": 44,
     "metadata": {},
     "output_type": "execute_result"
    }
   ],
   "source": [
    "from sklearn.metrics import confusion_matrix\n",
    "confusion_matrix(y_train, y_pred_train_LR)"
   ]
  },
  {
   "cell_type": "code",
   "execution_count": 45,
   "metadata": {},
   "outputs": [
    {
     "data": {
      "text/plain": [
       "<sklearn.metrics._plot.confusion_matrix.ConfusionMatrixDisplay at 0x27fd48d8400>"
      ]
     },
     "execution_count": 45,
     "metadata": {},
     "output_type": "execute_result"
    },
    {
     "data": {
      "image/png": "[encoded data removed]",
      "text/plain": [
       "<Figure size 432x288 with 2 Axes>"
      ]
     },
     "metadata": {
      "needs_background": "light"
     },
     "output_type": "display_data"
    }
   ],
   "source": [
    "from sklearn.metrics import plot_confusion_matrix\n",
    "plot_confusion_matrix(LR, X_train_preprocessed, y_train)"
   ]
  },
  {
   "cell_type": "markdown",
   "metadata": {},
   "source": [
    "Order of evaluating he model:\n",
    "1.Check positive class precision and recall\n",
    "2.weighted average of precison and recall\n",
    "3.\n",
    "\n"
   ]
  },
  {
   "cell_type": "code",
   "execution_count": 46,
   "metadata": {},
   "outputs": [
    {
     "data": {
      "text/html": [
       "<div>\n",
       "<style scoped>\n",
       "    .dataframe tbody tr th:only-of-type {\n",
       "        vertical-align: middle;\n",
       "    }\n",
       "\n",
       "    .dataframe tbody tr th {\n",
       "        vertical-align: top;\n",
       "    }\n",
       "\n",
       "    .dataframe thead th {\n",
       "        text-align: right;\n",
       "    }\n",
       "</style>\n",
       "<table border=\"1\" class=\"dataframe\">\n",
       "  <thead>\n",
       "    <tr style=\"text-align: right;\">\n",
       "      <th></th>\n",
       "      <th>coef</th>\n",
       "    </tr>\n",
       "  </thead>\n",
       "  <tbody>\n",
       "    <tr>\n",
       "      <th>tenure_buc_5-6 Years</th>\n",
       "      <td>0.918579</td>\n",
       "    </tr>\n",
       "    <tr>\n",
       "      <th>InternetService_Fiber optic</th>\n",
       "      <td>0.842222</td>\n",
       "    </tr>\n",
       "    <tr>\n",
       "      <th>Contract_Month-to-month</th>\n",
       "      <td>0.693475</td>\n",
       "    </tr>\n",
       "    <tr>\n",
       "      <th>tenure_buc_4-5 Years</th>\n",
       "      <td>0.544519</td>\n",
       "    </tr>\n",
       "    <tr>\n",
       "      <th>tenure_buc_3-4 Years</th>\n",
       "      <td>0.339494</td>\n",
       "    </tr>\n",
       "    <tr>\n",
       "      <th>PaymentMethod_Electronic check</th>\n",
       "      <td>0.214892</td>\n",
       "    </tr>\n",
       "    <tr>\n",
       "      <th>tenure_buc_&lt;6 months</th>\n",
       "      <td>0.190465</td>\n",
       "    </tr>\n",
       "    <tr>\n",
       "      <th>PhoneService_No</th>\n",
       "      <td>0.182578</td>\n",
       "    </tr>\n",
       "    <tr>\n",
       "      <th>StreamingMovies_Yes</th>\n",
       "      <td>0.158426</td>\n",
       "    </tr>\n",
       "    <tr>\n",
       "      <th>TechSupport_No</th>\n",
       "      <td>0.131961</td>\n",
       "    </tr>\n",
       "    <tr>\n",
       "      <th>PaperlessBilling_Yes</th>\n",
       "      <td>0.131288</td>\n",
       "    </tr>\n",
       "    <tr>\n",
       "      <th>OnlineSecurity_No</th>\n",
       "      <td>0.127315</td>\n",
       "    </tr>\n",
       "    <tr>\n",
       "      <th>TotalCharges</th>\n",
       "      <td>0.126082</td>\n",
       "    </tr>\n",
       "    <tr>\n",
       "      <th>SeniorCitizen_1</th>\n",
       "      <td>0.115647</td>\n",
       "    </tr>\n",
       "    <tr>\n",
       "      <th>MultipleLines_Yes</th>\n",
       "      <td>0.103268</td>\n",
       "    </tr>\n",
       "    <tr>\n",
       "      <th>StreamingTV_Yes</th>\n",
       "      <td>0.065832</td>\n",
       "    </tr>\n",
       "    <tr>\n",
       "      <th>OnlineBackup_No</th>\n",
       "      <td>0.036715</td>\n",
       "    </tr>\n",
       "    <tr>\n",
       "      <th>Dependents_No</th>\n",
       "      <td>0.027122</td>\n",
       "    </tr>\n",
       "    <tr>\n",
       "      <th>MonthlyCharges</th>\n",
       "      <td>0.009201</td>\n",
       "    </tr>\n",
       "    <tr>\n",
       "      <th>DeviceProtection_No</th>\n",
       "      <td>-0.012823</td>\n",
       "    </tr>\n",
       "    <tr>\n",
       "      <th>PaymentMethod_Bank transfer (automatic)</th>\n",
       "      <td>-0.023686</td>\n",
       "    </tr>\n",
       "    <tr>\n",
       "      <th>Partner_No</th>\n",
       "      <td>-0.037443</td>\n",
       "    </tr>\n",
       "    <tr>\n",
       "      <th>gender_Male</th>\n",
       "      <td>-0.038619</td>\n",
       "    </tr>\n",
       "    <tr>\n",
       "      <th>gender_Female</th>\n",
       "      <td>-0.040352</td>\n",
       "    </tr>\n",
       "    <tr>\n",
       "      <th>Partner_Yes</th>\n",
       "      <td>-0.041528</td>\n",
       "    </tr>\n",
       "    <tr>\n",
       "      <th>Contract_One year</th>\n",
       "      <td>-0.057642</td>\n",
       "    </tr>\n",
       "    <tr>\n",
       "      <th>DeviceProtection_Yes</th>\n",
       "      <td>-0.066149</td>\n",
       "    </tr>\n",
       "    <tr>\n",
       "      <th>InternetService_DSL</th>\n",
       "      <td>-0.070237</td>\n",
       "    </tr>\n",
       "    <tr>\n",
       "      <th>Dependents_Yes</th>\n",
       "      <td>-0.106093</td>\n",
       "    </tr>\n",
       "    <tr>\n",
       "      <th>PaymentMethod_Credit card (automatic)</th>\n",
       "      <td>-0.108086</td>\n",
       "    </tr>\n",
       "    <tr>\n",
       "      <th>OnlineBackup_Yes</th>\n",
       "      <td>-0.115686</td>\n",
       "    </tr>\n",
       "    <tr>\n",
       "      <th>StreamingTV_No</th>\n",
       "      <td>-0.144803</td>\n",
       "    </tr>\n",
       "    <tr>\n",
       "      <th>PaymentMethod_Mailed check</th>\n",
       "      <td>-0.162091</td>\n",
       "    </tr>\n",
       "    <tr>\n",
       "      <th>MultipleLines_No</th>\n",
       "      <td>-0.182239</td>\n",
       "    </tr>\n",
       "    <tr>\n",
       "      <th>SeniorCitizen_0</th>\n",
       "      <td>-0.194619</td>\n",
       "    </tr>\n",
       "    <tr>\n",
       "      <th>OnlineSecurity_Yes</th>\n",
       "      <td>-0.206286</td>\n",
       "    </tr>\n",
       "    <tr>\n",
       "      <th>PaperlessBilling_No</th>\n",
       "      <td>-0.210259</td>\n",
       "    </tr>\n",
       "    <tr>\n",
       "      <th>TechSupport_Yes</th>\n",
       "      <td>-0.210932</td>\n",
       "    </tr>\n",
       "    <tr>\n",
       "      <th>StreamingMovies_No</th>\n",
       "      <td>-0.237397</td>\n",
       "    </tr>\n",
       "    <tr>\n",
       "      <th>tenure_buc_2-3 Years</th>\n",
       "      <td>-0.254810</td>\n",
       "    </tr>\n",
       "    <tr>\n",
       "      <th>PhoneService_Yes</th>\n",
       "      <td>-0.261549</td>\n",
       "    </tr>\n",
       "    <tr>\n",
       "      <th>tenure_buc_1-2 Years</th>\n",
       "      <td>-0.417820</td>\n",
       "    </tr>\n",
       "    <tr>\n",
       "      <th>tenure_buc_6 Months - 1 Year</th>\n",
       "      <td>-0.452071</td>\n",
       "    </tr>\n",
       "    <tr>\n",
       "      <th>Contract_Two year</th>\n",
       "      <td>-0.714804</td>\n",
       "    </tr>\n",
       "    <tr>\n",
       "      <th>InternetService_No</th>\n",
       "      <td>-0.850956</td>\n",
       "    </tr>\n",
       "    <tr>\n",
       "      <th>tenure_buc_&gt;=6 Years</th>\n",
       "      <td>-0.947326</td>\n",
       "    </tr>\n",
       "    <tr>\n",
       "      <th>tenure</th>\n",
       "      <td>-1.247012</td>\n",
       "    </tr>\n",
       "  </tbody>\n",
       "</table>\n",
       "</div>"
      ],
      "text/plain": [
       "                                             coef\n",
       "tenure_buc_5-6 Years                     0.918579\n",
       "InternetService_Fiber optic              0.842222\n",
       "Contract_Month-to-month                  0.693475\n",
       "tenure_buc_4-5 Years                     0.544519\n",
       "tenure_buc_3-4 Years                     0.339494\n",
       "PaymentMethod_Electronic check           0.214892\n",
       "tenure_buc_<6 months                     0.190465\n",
       "PhoneService_No                          0.182578\n",
       "StreamingMovies_Yes                      0.158426\n",
       "TechSupport_No                           0.131961\n",
       "PaperlessBilling_Yes                     0.131288\n",
       "OnlineSecurity_No                        0.127315\n",
       "TotalCharges                             0.126082\n",
       "SeniorCitizen_1                          0.115647\n",
       "MultipleLines_Yes                        0.103268\n",
       "StreamingTV_Yes                          0.065832\n",
       "OnlineBackup_No                          0.036715\n",
       "Dependents_No                            0.027122\n",
       "MonthlyCharges                           0.009201\n",
       "DeviceProtection_No                     -0.012823\n",
       "PaymentMethod_Bank transfer (automatic) -0.023686\n",
       "Partner_No                              -0.037443\n",
       "gender_Male                             -0.038619\n",
       "gender_Female                           -0.040352\n",
       "Partner_Yes                             -0.041528\n",
       "Contract_One year                       -0.057642\n",
       "DeviceProtection_Yes                    -0.066149\n",
       "InternetService_DSL                     -0.070237\n",
       "Dependents_Yes                          -0.106093\n",
       "PaymentMethod_Credit card (automatic)   -0.108086\n",
       "OnlineBackup_Yes                        -0.115686\n",
       "StreamingTV_No                          -0.144803\n",
       "PaymentMethod_Mailed check              -0.162091\n",
       "MultipleLines_No                        -0.182239\n",
       "SeniorCitizen_0                         -0.194619\n",
       "OnlineSecurity_Yes                      -0.206286\n",
       "PaperlessBilling_No                     -0.210259\n",
       "TechSupport_Yes                         -0.210932\n",
       "StreamingMovies_No                      -0.237397\n",
       "tenure_buc_2-3 Years                    -0.254810\n",
       "PhoneService_Yes                        -0.261549\n",
       "tenure_buc_1-2 Years                    -0.417820\n",
       "tenure_buc_6 Months - 1 Year            -0.452071\n",
       "Contract_Two year                       -0.714804\n",
       "InternetService_No                      -0.850956\n",
       "tenure_buc_>=6 Years                    -0.947326\n",
       "tenure                                  -1.247012"
      ]
     },
     "execution_count": 46,
     "metadata": {},
     "output_type": "execute_result"
    }
   ],
   "source": [
    "log_odds = LR.coef_[0]\n",
    "pd.DataFrame(log_odds, \n",
    "             X_train_preprocessed.columns, \n",
    "             columns=['coef'])\\\n",
    "            .sort_values(by='coef', ascending=False)"
   ]
  },
  {
   "cell_type": "code",
   "execution_count": 47,
   "metadata": {},
   "outputs": [
    {
     "data": {
      "text/html": [
       "<div>\n",
       "<style scoped>\n",
       "    .dataframe tbody tr th:only-of-type {\n",
       "        vertical-align: middle;\n",
       "    }\n",
       "\n",
       "    .dataframe tbody tr th {\n",
       "        vertical-align: top;\n",
       "    }\n",
       "\n",
       "    .dataframe thead th {\n",
       "        text-align: right;\n",
       "    }\n",
       "</style>\n",
       "<table border=\"1\" class=\"dataframe\">\n",
       "  <thead>\n",
       "    <tr style=\"text-align: right;\">\n",
       "      <th></th>\n",
       "      <th>coef</th>\n",
       "    </tr>\n",
       "  </thead>\n",
       "  <tbody>\n",
       "    <tr>\n",
       "      <th>tenure_buc_5-6 Years</th>\n",
       "      <td>2.505727</td>\n",
       "    </tr>\n",
       "    <tr>\n",
       "      <th>InternetService_Fiber optic</th>\n",
       "      <td>2.321520</td>\n",
       "    </tr>\n",
       "    <tr>\n",
       "      <th>Contract_Month-to-month</th>\n",
       "      <td>2.000655</td>\n",
       "    </tr>\n",
       "    <tr>\n",
       "      <th>tenure_buc_4-5 Years</th>\n",
       "      <td>1.723779</td>\n",
       "    </tr>\n",
       "    <tr>\n",
       "      <th>tenure_buc_3-4 Years</th>\n",
       "      <td>1.404237</td>\n",
       "    </tr>\n",
       "    <tr>\n",
       "      <th>PaymentMethod_Electronic check</th>\n",
       "      <td>1.239728</td>\n",
       "    </tr>\n",
       "    <tr>\n",
       "      <th>tenure_buc_&lt;6 months</th>\n",
       "      <td>1.209812</td>\n",
       "    </tr>\n",
       "    <tr>\n",
       "      <th>PhoneService_No</th>\n",
       "      <td>1.200307</td>\n",
       "    </tr>\n",
       "    <tr>\n",
       "      <th>StreamingMovies_Yes</th>\n",
       "      <td>1.171665</td>\n",
       "    </tr>\n",
       "    <tr>\n",
       "      <th>TechSupport_No</th>\n",
       "      <td>1.141064</td>\n",
       "    </tr>\n",
       "    <tr>\n",
       "      <th>PaperlessBilling_Yes</th>\n",
       "      <td>1.140296</td>\n",
       "    </tr>\n",
       "    <tr>\n",
       "      <th>OnlineSecurity_No</th>\n",
       "      <td>1.135775</td>\n",
       "    </tr>\n",
       "    <tr>\n",
       "      <th>TotalCharges</th>\n",
       "      <td>1.134375</td>\n",
       "    </tr>\n",
       "    <tr>\n",
       "      <th>SeniorCitizen_1</th>\n",
       "      <td>1.122600</td>\n",
       "    </tr>\n",
       "    <tr>\n",
       "      <th>MultipleLines_Yes</th>\n",
       "      <td>1.108789</td>\n",
       "    </tr>\n",
       "    <tr>\n",
       "      <th>StreamingTV_Yes</th>\n",
       "      <td>1.068047</td>\n",
       "    </tr>\n",
       "    <tr>\n",
       "      <th>OnlineBackup_No</th>\n",
       "      <td>1.037398</td>\n",
       "    </tr>\n",
       "    <tr>\n",
       "      <th>Dependents_No</th>\n",
       "      <td>1.027493</td>\n",
       "    </tr>\n",
       "    <tr>\n",
       "      <th>MonthlyCharges</th>\n",
       "      <td>1.009243</td>\n",
       "    </tr>\n",
       "    <tr>\n",
       "      <th>DeviceProtection_No</th>\n",
       "      <td>0.987259</td>\n",
       "    </tr>\n",
       "    <tr>\n",
       "      <th>PaymentMethod_Bank transfer (automatic)</th>\n",
       "      <td>0.976592</td>\n",
       "    </tr>\n",
       "    <tr>\n",
       "      <th>Partner_No</th>\n",
       "      <td>0.963249</td>\n",
       "    </tr>\n",
       "    <tr>\n",
       "      <th>gender_Male</th>\n",
       "      <td>0.962117</td>\n",
       "    </tr>\n",
       "    <tr>\n",
       "      <th>gender_Female</th>\n",
       "      <td>0.960451</td>\n",
       "    </tr>\n",
       "    <tr>\n",
       "      <th>Partner_Yes</th>\n",
       "      <td>0.959323</td>\n",
       "    </tr>\n",
       "    <tr>\n",
       "      <th>Contract_One year</th>\n",
       "      <td>0.943988</td>\n",
       "    </tr>\n",
       "    <tr>\n",
       "      <th>DeviceProtection_Yes</th>\n",
       "      <td>0.935992</td>\n",
       "    </tr>\n",
       "    <tr>\n",
       "      <th>InternetService_DSL</th>\n",
       "      <td>0.932172</td>\n",
       "    </tr>\n",
       "    <tr>\n",
       "      <th>Dependents_Yes</th>\n",
       "      <td>0.899341</td>\n",
       "    </tr>\n",
       "    <tr>\n",
       "      <th>PaymentMethod_Credit card (automatic)</th>\n",
       "      <td>0.897550</td>\n",
       "    </tr>\n",
       "    <tr>\n",
       "      <th>OnlineBackup_Yes</th>\n",
       "      <td>0.890755</td>\n",
       "    </tr>\n",
       "    <tr>\n",
       "      <th>StreamingTV_No</th>\n",
       "      <td>0.865193</td>\n",
       "    </tr>\n",
       "    <tr>\n",
       "      <th>PaymentMethod_Mailed check</th>\n",
       "      <td>0.850364</td>\n",
       "    </tr>\n",
       "    <tr>\n",
       "      <th>MultipleLines_No</th>\n",
       "      <td>0.833402</td>\n",
       "    </tr>\n",
       "    <tr>\n",
       "      <th>SeniorCitizen_0</th>\n",
       "      <td>0.823149</td>\n",
       "    </tr>\n",
       "    <tr>\n",
       "      <th>OnlineSecurity_Yes</th>\n",
       "      <td>0.813600</td>\n",
       "    </tr>\n",
       "    <tr>\n",
       "      <th>PaperlessBilling_No</th>\n",
       "      <td>0.810374</td>\n",
       "    </tr>\n",
       "    <tr>\n",
       "      <th>TechSupport_Yes</th>\n",
       "      <td>0.809829</td>\n",
       "    </tr>\n",
       "    <tr>\n",
       "      <th>StreamingMovies_No</th>\n",
       "      <td>0.788678</td>\n",
       "    </tr>\n",
       "    <tr>\n",
       "      <th>tenure_buc_2-3 Years</th>\n",
       "      <td>0.775064</td>\n",
       "    </tr>\n",
       "    <tr>\n",
       "      <th>PhoneService_Yes</th>\n",
       "      <td>0.769858</td>\n",
       "    </tr>\n",
       "    <tr>\n",
       "      <th>tenure_buc_1-2 Years</th>\n",
       "      <td>0.658481</td>\n",
       "    </tr>\n",
       "    <tr>\n",
       "      <th>tenure_buc_6 Months - 1 Year</th>\n",
       "      <td>0.636309</td>\n",
       "    </tr>\n",
       "    <tr>\n",
       "      <th>Contract_Two year</th>\n",
       "      <td>0.489288</td>\n",
       "    </tr>\n",
       "    <tr>\n",
       "      <th>InternetService_No</th>\n",
       "      <td>0.427007</td>\n",
       "    </tr>\n",
       "    <tr>\n",
       "      <th>tenure_buc_&gt;=6 Years</th>\n",
       "      <td>0.387777</td>\n",
       "    </tr>\n",
       "    <tr>\n",
       "      <th>tenure</th>\n",
       "      <td>0.287362</td>\n",
       "    </tr>\n",
       "  </tbody>\n",
       "</table>\n",
       "</div>"
      ],
      "text/plain": [
       "                                             coef\n",
       "tenure_buc_5-6 Years                     2.505727\n",
       "InternetService_Fiber optic              2.321520\n",
       "Contract_Month-to-month                  2.000655\n",
       "tenure_buc_4-5 Years                     1.723779\n",
       "tenure_buc_3-4 Years                     1.404237\n",
       "PaymentMethod_Electronic check           1.239728\n",
       "tenure_buc_<6 months                     1.209812\n",
       "PhoneService_No                          1.200307\n",
       "StreamingMovies_Yes                      1.171665\n",
       "TechSupport_No                           1.141064\n",
       "PaperlessBilling_Yes                     1.140296\n",
       "OnlineSecurity_No                        1.135775\n",
       "TotalCharges                             1.134375\n",
       "SeniorCitizen_1                          1.122600\n",
       "MultipleLines_Yes                        1.108789\n",
       "StreamingTV_Yes                          1.068047\n",
       "OnlineBackup_No                          1.037398\n",
       "Dependents_No                            1.027493\n",
       "MonthlyCharges                           1.009243\n",
       "DeviceProtection_No                      0.987259\n",
       "PaymentMethod_Bank transfer (automatic)  0.976592\n",
       "Partner_No                               0.963249\n",
       "gender_Male                              0.962117\n",
       "gender_Female                            0.960451\n",
       "Partner_Yes                              0.959323\n",
       "Contract_One year                        0.943988\n",
       "DeviceProtection_Yes                     0.935992\n",
       "InternetService_DSL                      0.932172\n",
       "Dependents_Yes                           0.899341\n",
       "PaymentMethod_Credit card (automatic)    0.897550\n",
       "OnlineBackup_Yes                         0.890755\n",
       "StreamingTV_No                           0.865193\n",
       "PaymentMethod_Mailed check               0.850364\n",
       "MultipleLines_No                         0.833402\n",
       "SeniorCitizen_0                          0.823149\n",
       "OnlineSecurity_Yes                       0.813600\n",
       "PaperlessBilling_No                      0.810374\n",
       "TechSupport_Yes                          0.809829\n",
       "StreamingMovies_No                       0.788678\n",
       "tenure_buc_2-3 Years                     0.775064\n",
       "PhoneService_Yes                         0.769858\n",
       "tenure_buc_1-2 Years                     0.658481\n",
       "tenure_buc_6 Months - 1 Year             0.636309\n",
       "Contract_Two year                        0.489288\n",
       "InternetService_No                       0.427007\n",
       "tenure_buc_>=6 Years                     0.387777\n",
       "tenure                                   0.287362"
      ]
     },
     "execution_count": 47,
     "metadata": {},
     "output_type": "execute_result"
    }
   ],
   "source": [
    "odds = np.exp(LR.coef_[0])\n",
    "pd.DataFrame(odds, \n",
    "             X_train_preprocessed.columns, \n",
    "             columns=['coef'])\\\n",
    "            .sort_values(by='coef', ascending=False)"
   ]
  },
  {
   "cell_type": "code",
   "execution_count": 48,
   "metadata": {},
   "outputs": [
    {
     "data": {
      "text/plain": [
       "array([-1.53721497])"
      ]
     },
     "execution_count": 48,
     "metadata": {},
     "output_type": "execute_result"
    }
   ],
   "source": [
    "LR.intercept_"
   ]
  },
  {
   "cell_type": "code",
   "execution_count": 49,
   "metadata": {},
   "outputs": [
    {
     "data": {
      "text/plain": [
       "<sklearn.metrics._plot.confusion_matrix.ConfusionMatrixDisplay at 0x27fd4d16a30>"
      ]
     },
     "execution_count": 49,
     "metadata": {},
     "output_type": "execute_result"
    },
    {
     "data": {
      "image/png": "[encoded data removed]",
      "text/plain": [
       "<Figure size 432x288 with 2 Axes>"
      ]
     },
     "metadata": {
      "needs_background": "light"
     },
     "output_type": "display_data"
    }
   ],
   "source": [
    "plot_confusion_matrix(LR, X_test_preprocessed, y_test)"
   ]
  },
  {
   "cell_type": "code",
   "execution_count": 50,
   "metadata": {},
   "outputs": [
    {
     "name": "stdout",
     "output_type": "stream",
     "text": [
      "              precision    recall  f1-score   support\n",
      "\n",
      "           0       0.83      0.91      0.87      1294\n",
      "           1       0.66      0.48      0.56       467\n",
      "\n",
      "    accuracy                           0.80      1761\n",
      "   macro avg       0.75      0.70      0.71      1761\n",
      "weighted avg       0.79      0.80      0.79      1761\n",
      "\n"
     ]
    }
   ],
   "source": [
    "# Prediction and Classification Report on Train set\n",
    "y_pred_test_LR = LR.predict(X_test_preprocessed)\n",
    "print(classification_report(y_test, y_pred_test_LR))"
   ]
  },
  {
   "cell_type": "markdown",
   "metadata": {},
   "source": [
    "## 2. Decision Tree"
   ]
  },
  {
   "cell_type": "code",
   "execution_count": 51,
   "metadata": {},
   "outputs": [],
   "source": [
    "from sklearn.tree import DecisionTreeClassifier"
   ]
  },
  {
   "cell_type": "code",
   "execution_count": 52,
   "metadata": {},
   "outputs": [],
   "source": [
    "DT=DecisionTreeClassifier()"
   ]
  },
  {
   "cell_type": "code",
   "execution_count": 53,
   "metadata": {},
   "outputs": [
    {
     "data": {
      "text/plain": [
       "DecisionTreeClassifier()"
      ]
     },
     "execution_count": 53,
     "metadata": {},
     "output_type": "execute_result"
    }
   ],
   "source": [
    "DT.fit(X_train_preprocessed, y_train)"
   ]
  },
  {
   "cell_type": "code",
   "execution_count": 54,
   "metadata": {
    "scrolled": true
   },
   "outputs": [
    {
     "data": {
      "text/plain": [
       "<sklearn.metrics._plot.confusion_matrix.ConfusionMatrixDisplay at 0x27fd4bf1d30>"
      ]
     },
     "execution_count": 54,
     "metadata": {},
     "output_type": "execute_result"
    },
    {
     "data": {
      "image/png": "[encoded data removed]",
      "text/plain": [
       "<Figure size 432x288 with 2 Axes>"
      ]
     },
     "metadata": {
      "needs_background": "light"
     },
     "output_type": "display_data"
    }
   ],
   "source": [
    "from sklearn.metrics import plot_confusion_matrix\n",
    "plot_confusion_matrix(DT, X_train_preprocessed, y_train)"
   ]
  },
  {
   "cell_type": "code",
   "execution_count": 55,
   "metadata": {},
   "outputs": [
    {
     "name": "stdout",
     "output_type": "stream",
     "text": [
      "              precision    recall  f1-score   support\n",
      "\n",
      "           0       1.00      1.00      1.00      3880\n",
      "           1       1.00      0.99      1.00      1402\n",
      "\n",
      "    accuracy                           1.00      5282\n",
      "   macro avg       1.00      1.00      1.00      5282\n",
      "weighted avg       1.00      1.00      1.00      5282\n",
      "\n"
     ]
    }
   ],
   "source": [
    "# prediction and classification report on Train Set\n",
    "y_pred_train_DT=DT.predict(X_train_preprocessed)\n",
    "print(classification_report(y_train, y_pred_train_DT))"
   ]
  },
  {
   "cell_type": "code",
   "execution_count": 56,
   "metadata": {},
   "outputs": [
    {
     "data": {
      "text/plain": [
       "<sklearn.metrics._plot.confusion_matrix.ConfusionMatrixDisplay at 0x27fd3fdc8b0>"
      ]
     },
     "execution_count": 56,
     "metadata": {},
     "output_type": "execute_result"
    },
    {
     "data": {
      "image/png": "[encoded data removed]",
      "text/plain": [
       "<Figure size 432x288 with 2 Axes>"
      ]
     },
     "metadata": {
      "needs_background": "light"
     },
     "output_type": "display_data"
    }
   ],
   "source": [
    "plot_confusion_matrix(DT, X_test_preprocessed, y_test)"
   ]
  },
  {
   "cell_type": "code",
   "execution_count": 57,
   "metadata": {
    "scrolled": false
   },
   "outputs": [
    {
     "name": "stdout",
     "output_type": "stream",
     "text": [
      "              precision    recall  f1-score   support\n",
      "\n",
      "           0       0.81      0.80      0.81      1294\n",
      "           1       0.47      0.48      0.47       467\n",
      "\n",
      "    accuracy                           0.72      1761\n",
      "   macro avg       0.64      0.64      0.64      1761\n",
      "weighted avg       0.72      0.72      0.72      1761\n",
      "\n"
     ]
    }
   ],
   "source": [
    "# prediction and classification report on Test Set\n",
    "y_pred_test_DT=DT.predict(X_test_preprocessed)\n",
    "print(classification_report(y_test, y_pred_test_DT))\n",
    "\n",
    "# the model very well workin on train but not on train"
   ]
  },
  {
   "cell_type": "code",
   "execution_count": 58,
   "metadata": {
    "scrolled": true
   },
   "outputs": [
    {
     "name": "stdout",
     "output_type": "stream",
     "text": [
      "Requirement already satisfied: pydotplus in c:\\users\\asus\\anaconda3\\lib\\site-packages (2.0.2)\n",
      "Requirement already satisfied: pyparsing>=2.0.1 in c:\\users\\asus\\anaconda3\\lib\\site-packages (from pydotplus) (2.4.7)\n",
      "Note: you may need to restart the kernel to use updated packages.\n"
     ]
    }
   ],
   "source": [
    "pip install pydotplus"
   ]
  },
  {
   "cell_type": "code",
   "execution_count": 59,
   "metadata": {},
   "outputs": [],
   "source": [
    "from sklearn.tree import export_graphviz\n",
    "import six\n",
    "import sys\n",
    "sys.modules['sklearn.externals.six'] = six\n",
    "from IPython.display import Image \n",
    "import pydotplus\n",
    "from sklearn import tree\n"
   ]
  },
  {
   "cell_type": "code",
   "execution_count": 60,
   "metadata": {},
   "outputs": [
    {
     "data": {
      "text/plain": [
       "[Text(106.51027887154044, 213.41333333333333, 'X[30] <= 0.5\\ngini = 0.39\\nsamples = 5282\\nvalue = [3880, 1402]'),\n",
       " Text(38.03381646030591, 205.36, 'X[1] <= 0.966\\ngini = 0.12\\nsamples = 2358\\nvalue = [2207, 151]'),\n",
       " Text(24.256540422432632, 197.30666666666667, 'X[32] <= 0.5\\ngini = 0.069\\nsamples = 1783\\nvalue = [1719, 64]'),\n",
       " Text(13.83823743627094, 189.25333333333333, 'X[28] <= 0.5\\ngini = 0.124\\nsamples = 799\\nvalue = [746, 53]'),\n",
       " Text(4.267297887836854, 181.2, 'X[2] <= -0.483\\ngini = 0.232\\nsamples = 217\\nvalue = [188, 29]'),\n",
       " Text(1.950764748725419, 173.14666666666668, 'X[3] <= 0.5\\ngini = 0.434\\nsamples = 22\\nvalue = [15, 7]'),\n",
       " Text(1.1704588492352515, 165.09333333333333, 'X[19] <= 0.5\\ngini = 0.49\\nsamples = 7\\nvalue = [3, 4]'),\n",
       " Text(0.7803058994901676, 157.04, 'X[37] <= 0.5\\ngini = 0.32\\nsamples = 5\\nvalue = [1, 4]'),\n",
       " Text(0.3901529497450838, 148.98666666666668, 'gini = 0.0\\nsamples = 4\\nvalue = [0, 4]'),\n",
       " Text(1.1704588492352515, 148.98666666666668, 'gini = 0.0\\nsamples = 1\\nvalue = [1, 0]'),\n",
       " Text(1.5606117989803352, 157.04, 'gini = 0.0\\nsamples = 2\\nvalue = [2, 0]'),\n",
       " Text(2.7310706482155864, 165.09333333333333, 'X[2] <= -0.619\\ngini = 0.32\\nsamples = 15\\nvalue = [12, 3]'),\n",
       " Text(2.340917698470503, 157.04, 'gini = 0.0\\nsamples = 8\\nvalue = [8, 0]'),\n",
       " Text(3.1212235979606704, 157.04, 'X[6] <= 0.5\\ngini = 0.49\\nsamples = 7\\nvalue = [4, 3]'),\n",
       " Text(2.7310706482155864, 148.98666666666668, 'X[23] <= 0.5\\ngini = 0.48\\nsamples = 5\\nvalue = [2, 3]'),\n",
       " Text(2.340917698470503, 140.93333333333334, 'gini = 0.0\\nsamples = 2\\nvalue = [0, 2]'),\n",
       " Text(3.1212235979606704, 140.93333333333334, 'X[2] <= -0.518\\ngini = 0.444\\nsamples = 3\\nvalue = [2, 1]'),\n",
       " Text(2.7310706482155864, 132.88, 'gini = 0.0\\nsamples = 2\\nvalue = [2, 0]'),\n",
       " Text(3.5113765477057544, 132.88, 'gini = 0.0\\nsamples = 1\\nvalue = [0, 1]'),\n",
       " Text(3.5113765477057544, 148.98666666666668, 'gini = 0.0\\nsamples = 2\\nvalue = [2, 0]'),\n",
       " Text(6.583831026948289, 173.14666666666668, 'X[2] <= 0.047\\ngini = 0.2\\nsamples = 195\\nvalue = [173, 22]'),\n",
       " Text(4.779373634377277, 165.09333333333333, 'X[1] <= 0.741\\ngini = 0.041\\nsamples = 48\\nvalue = [47, 1]'),\n",
       " Text(4.389220684632193, 157.04, 'gini = 0.0\\nsamples = 45\\nvalue = [45, 0]'),\n",
       " Text(5.1695265841223605, 157.04, 'X[1] <= 0.817\\ngini = 0.444\\nsamples = 3\\nvalue = [2, 1]'),\n",
       " Text(4.779373634377277, 148.98666666666668, 'gini = 0.0\\nsamples = 1\\nvalue = [0, 1]'),\n",
       " Text(5.5596795338674445, 148.98666666666668, 'gini = 0.0\\nsamples = 2\\nvalue = [2, 0]'),\n",
       " Text(8.388288419519302, 165.09333333333333, 'X[2] <= 0.066\\ngini = 0.245\\nsamples = 147\\nvalue = [126, 21]'),\n",
       " Text(7.998135469774218, 157.04, 'gini = 0.0\\nsamples = 2\\nvalue = [0, 2]'),\n",
       " Text(8.778441369264385, 157.04, 'X[2] <= 0.406\\ngini = 0.228\\nsamples = 145\\nvalue = [126, 19]'),\n",
       " Text(6.3399854333576116, 148.98666666666668, 'X[2] <= 0.368\\ngini = 0.365\\nsamples = 50\\nvalue = [38, 12]'),\n",
       " Text(5.267064821558631, 140.93333333333334, 'X[35] <= 0.5\\ngini = 0.32\\nsamples = 45\\nvalue = [36, 9]'),\n",
       " Text(4.291682447195922, 132.88, 'X[2] <= 0.309\\ngini = 0.231\\nsamples = 30\\nvalue = [26, 4]'),\n",
       " Text(3.5113765477057544, 124.82666666666667, 'X[5] <= 0.5\\ngini = 0.142\\nsamples = 26\\nvalue = [24, 2]'),\n",
       " Text(3.1212235979606704, 116.77333333333334, 'gini = 0.0\\nsamples = 1\\nvalue = [0, 1]'),\n",
       " Text(3.901529497450838, 116.77333333333334, 'X[1] <= 0.49\\ngini = 0.077\\nsamples = 25\\nvalue = [24, 1]'),\n",
       " Text(3.5113765477057544, 108.72, 'gini = 0.0\\nsamples = 22\\nvalue = [22, 0]'),\n",
       " Text(4.291682447195922, 108.72, 'X[21] <= 0.5\\ngini = 0.444\\nsamples = 3\\nvalue = [2, 1]'),\n",
       " Text(3.901529497450838, 100.66666666666667, 'gini = 0.0\\nsamples = 2\\nvalue = [2, 0]'),\n",
       " Text(4.681835396941006, 100.66666666666667, 'gini = 0.0\\nsamples = 1\\nvalue = [0, 1]'),\n",
       " Text(5.07198834668609, 124.82666666666667, 'X[40] <= 0.5\\ngini = 0.5\\nsamples = 4\\nvalue = [2, 2]'),\n",
       " Text(4.681835396941006, 116.77333333333334, 'gini = 0.0\\nsamples = 2\\nvalue = [0, 2]'),\n",
       " Text(5.462141296431173, 116.77333333333334, 'gini = 0.0\\nsamples = 2\\nvalue = [2, 0]'),\n",
       " Text(6.242447195921341, 132.88, 'X[2] <= 0.128\\ngini = 0.444\\nsamples = 15\\nvalue = [10, 5]'),\n",
       " Text(5.852294246176257, 124.82666666666667, 'gini = 0.0\\nsamples = 2\\nvalue = [0, 2]'),\n",
       " Text(6.632600145666425, 124.82666666666667, 'X[18] <= 0.5\\ngini = 0.355\\nsamples = 13\\nvalue = [10, 3]'),\n",
       " Text(6.242447195921341, 116.77333333333334, 'gini = 0.0\\nsamples = 5\\nvalue = [5, 0]'),\n",
       " Text(7.022753095411509, 116.77333333333334, 'X[20] <= 0.5\\ngini = 0.469\\nsamples = 8\\nvalue = [5, 3]'),\n",
       " Text(6.632600145666425, 108.72, 'gini = 0.0\\nsamples = 2\\nvalue = [0, 2]'),\n",
       " Text(7.412906045156592, 108.72, 'X[4] <= 0.5\\ngini = 0.278\\nsamples = 6\\nvalue = [5, 1]'),\n",
       " Text(7.022753095411509, 100.66666666666667, 'gini = 0.0\\nsamples = 1\\nvalue = [0, 1]'),\n",
       " Text(7.803058994901676, 100.66666666666667, 'gini = 0.0\\nsamples = 5\\nvalue = [5, 0]'),\n",
       " Text(7.412906045156592, 140.93333333333334, 'X[0] <= 0.416\\ngini = 0.48\\nsamples = 5\\nvalue = [2, 3]'),\n",
       " Text(7.022753095411509, 132.88, 'gini = 0.0\\nsamples = 3\\nvalue = [0, 3]'),\n",
       " Text(7.803058994901676, 132.88, 'gini = 0.0\\nsamples = 2\\nvalue = [2, 0]'),\n",
       " Text(11.216897305171159, 148.98666666666668, 'X[1] <= -0.549\\ngini = 0.137\\nsamples = 95\\nvalue = [88, 7]'),\n",
       " Text(10.826744355426076, 140.93333333333334, 'gini = 0.0\\nsamples = 1\\nvalue = [0, 1]'),\n",
       " Text(11.607050254916244, 140.93333333333334, 'X[2] <= 1.674\\ngini = 0.12\\nsamples = 94\\nvalue = [88, 6]'),\n",
       " Text(10.339053168244721, 132.88, 'X[10] <= 0.5\\ngini = 0.103\\nsamples = 92\\nvalue = [87, 5]'),\n",
       " Text(8.973517844136927, 124.82666666666667, 'X[1] <= 0.19\\ngini = 0.032\\nsamples = 62\\nvalue = [61, 1]'),\n",
       " Text(8.583364894391844, 116.77333333333334, 'X[1] <= 0.173\\ngini = 0.111\\nsamples = 17\\nvalue = [16, 1]'),\n",
       " Text(8.19321194464676, 108.72, 'gini = 0.0\\nsamples = 15\\nvalue = [15, 0]'),\n",
       " Text(8.973517844136927, 108.72, 'X[25] <= 0.5\\ngini = 0.5\\nsamples = 2\\nvalue = [1, 1]'),\n",
       " Text(8.583364894391844, 100.66666666666667, 'gini = 0.0\\nsamples = 1\\nvalue = [0, 1]'),\n",
       " Text(9.363670793882012, 100.66666666666667, 'gini = 0.0\\nsamples = 1\\nvalue = [1, 0]'),\n",
       " Text(9.363670793882012, 116.77333333333334, 'gini = 0.0\\nsamples = 45\\nvalue = [45, 0]'),\n",
       " Text(11.704588492352514, 124.82666666666667, 'X[38] <= 0.5\\ngini = 0.231\\nsamples = 30\\nvalue = [26, 4]'),\n",
       " Text(10.924282592862346, 116.77333333333334, 'X[1] <= 0.381\\ngini = 0.191\\nsamples = 28\\nvalue = [25, 3]'),\n",
       " Text(10.534129643117263, 108.72, 'X[1] <= 0.37\\ngini = 0.305\\nsamples = 16\\nvalue = [13, 3]'),\n",
       " Text(10.14397669337218, 100.66666666666667, 'X[24] <= 0.5\\ngini = 0.231\\nsamples = 15\\nvalue = [13, 2]'),\n",
       " Text(9.753823743627095, 92.61333333333334, 'gini = 0.0\\nsamples = 9\\nvalue = [9, 0]'),\n",
       " Text(10.534129643117263, 92.61333333333334, 'X[1] <= 0.159\\ngini = 0.444\\nsamples = 6\\nvalue = [4, 2]'),\n",
       " Text(10.14397669337218, 84.56, 'gini = 0.0\\nsamples = 3\\nvalue = [3, 0]'),\n",
       " Text(10.924282592862346, 84.56, 'X[1] <= 0.27\\ngini = 0.444\\nsamples = 3\\nvalue = [1, 2]'),\n",
       " Text(10.534129643117263, 76.50666666666666, 'gini = 0.0\\nsamples = 2\\nvalue = [0, 2]'),\n",
       " Text(11.31443554260743, 76.50666666666666, 'gini = 0.0\\nsamples = 1\\nvalue = [1, 0]'),\n",
       " Text(10.924282592862346, 100.66666666666667, 'gini = 0.0\\nsamples = 1\\nvalue = [0, 1]'),\n",
       " Text(11.31443554260743, 108.72, 'gini = 0.0\\nsamples = 12\\nvalue = [12, 0]'),\n",
       " Text(12.484894391842682, 116.77333333333334, 'X[0] <= 0.741\\ngini = 0.5\\nsamples = 2\\nvalue = [1, 1]'),\n",
       " Text(12.094741442097598, 108.72, 'gini = 0.0\\nsamples = 1\\nvalue = [0, 1]'),\n",
       " Text(12.875047341587765, 108.72, 'gini = 0.0\\nsamples = 1\\nvalue = [1, 0]'),\n",
       " Text(12.875047341587765, 132.88, 'X[34] <= 0.5\\ngini = 0.5\\nsamples = 2\\nvalue = [1, 1]'),\n",
       " Text(12.484894391842682, 124.82666666666667, 'gini = 0.0\\nsamples = 1\\nvalue = [1, 0]'),\n",
       " Text(13.26520029133285, 124.82666666666667, 'gini = 0.0\\nsamples = 1\\nvalue = [0, 1]'),\n",
       " Text(23.409176984705027, 181.2, 'X[37] <= 0.5\\ngini = 0.079\\nsamples = 582\\nvalue = [558, 24]'),\n",
       " Text(19.50764748725419, 173.14666666666668, 'X[40] <= 0.5\\ngini = 0.06\\nsamples = 483\\nvalue = [468, 15]'),\n",
       " Text(19.117494537509106, 165.09333333333333, 'X[0] <= 1.066\\ngini = 0.076\\nsamples = 380\\nvalue = [365, 15]'),\n",
       " Text(18.727341587764023, 157.04, 'X[2] <= -0.551\\ngini = 0.094\\nsamples = 305\\nvalue = [290, 15]'),\n",
       " Text(16.58150036416606, 148.98666666666668, 'X[1] <= -0.304\\ngini = 0.053\\nsamples = 184\\nvalue = [179, 5]'),\n",
       " Text(15.606117989803352, 140.93333333333334, 'X[2] <= -0.898\\ngini = 0.044\\nsamples = 179\\nvalue = [175, 4]'),\n",
       " Text(14.825812090313184, 132.88, 'X[2] <= -0.9\\ngini = 0.142\\nsamples = 39\\nvalue = [36, 3]'),\n",
       " Text(14.4356591405681, 124.82666666666667, 'X[1] <= -1.492\\ngini = 0.1\\nsamples = 38\\nvalue = [36, 2]'),\n",
       " Text(14.045506190823017, 116.77333333333334, 'X[1] <= -1.495\\ngini = 0.245\\nsamples = 14\\nvalue = [12, 2]'),\n",
       " Text(13.655353241077933, 108.72, 'X[36] <= 0.5\\ngini = 0.142\\nsamples = 13\\nvalue = [12, 1]'),\n",
       " Text(13.26520029133285, 100.66666666666667, 'gini = 0.0\\nsamples = 11\\nvalue = [11, 0]'),\n",
       " Text(14.045506190823017, 100.66666666666667, 'X[8] <= 0.5\\ngini = 0.5\\nsamples = 2\\nvalue = [1, 1]'),\n",
       " Text(13.655353241077933, 92.61333333333334, 'gini = 0.0\\nsamples = 1\\nvalue = [0, 1]'),\n",
       " Text(14.4356591405681, 92.61333333333334, 'gini = 0.0\\nsamples = 1\\nvalue = [1, 0]'),\n",
       " Text(14.4356591405681, 108.72, 'gini = 0.0\\nsamples = 1\\nvalue = [0, 1]'),\n",
       " Text(14.825812090313184, 116.77333333333334, 'gini = 0.0\\nsamples = 24\\nvalue = [24, 0]'),\n",
       " Text(15.215965040058268, 124.82666666666667, 'gini = 0.0\\nsamples = 1\\nvalue = [0, 1]'),\n",
       " Text(16.38642388929352, 132.88, 'X[35] <= 0.5\\ngini = 0.014\\nsamples = 140\\nvalue = [139, 1]'),\n",
       " Text(15.996270939548436, 124.82666666666667, 'gini = 0.0\\nsamples = 102\\nvalue = [102, 0]'),\n",
       " Text(16.776576839038604, 124.82666666666667, 'X[2] <= -0.827\\ngini = 0.051\\nsamples = 38\\nvalue = [37, 1]'),\n",
       " Text(16.38642388929352, 116.77333333333334, 'X[2] <= -0.833\\ngini = 0.198\\nsamples = 9\\nvalue = [8, 1]'),\n",
       " Text(15.996270939548436, 108.72, 'gini = 0.0\\nsamples = 8\\nvalue = [8, 0]'),\n",
       " Text(16.776576839038604, 108.72, 'gini = 0.0\\nsamples = 1\\nvalue = [0, 1]'),\n",
       " Text(17.166729788783687, 116.77333333333334, 'gini = 0.0\\nsamples = 29\\nvalue = [29, 0]'),\n",
       " Text(17.55688273852877, 140.93333333333334, 'X[14] <= 0.5\\ngini = 0.32\\nsamples = 5\\nvalue = [4, 1]'),\n",
       " Text(17.166729788783687, 132.88, 'gini = 0.0\\nsamples = 4\\nvalue = [4, 0]'),\n",
       " Text(17.947035688273854, 132.88, 'gini = 0.0\\nsamples = 1\\nvalue = [0, 1]'),\n",
       " Text(20.873182811361982, 148.98666666666668, 'X[2] <= -0.549\\ngini = 0.152\\nsamples = 121\\nvalue = [111, 10]'),\n",
       " Text(20.4830298616169, 140.93333333333334, 'gini = 0.0\\nsamples = 1\\nvalue = [0, 1]'),\n",
       " Text(21.26333576110707, 140.93333333333334, 'X[0] <= 0.254\\ngini = 0.139\\nsamples = 120\\nvalue = [111, 9]'),\n",
       " Text(19.117494537509106, 132.88, 'X[0] <= 0.213\\ngini = 0.311\\nsamples = 26\\nvalue = [21, 5]'),\n",
       " Text(18.727341587764023, 124.82666666666667, 'X[2] <= -0.458\\ngini = 0.219\\nsamples = 24\\nvalue = [21, 3]'),\n",
       " Text(17.947035688273854, 116.77333333333334, 'X[0] <= -0.457\\ngini = 0.48\\nsamples = 5\\nvalue = [3, 2]'),\n",
       " Text(17.55688273852877, 108.72, 'gini = 0.0\\nsamples = 3\\nvalue = [3, 0]'),\n",
       " Text(18.33718863801894, 108.72, 'gini = 0.0\\nsamples = 2\\nvalue = [0, 2]'),\n",
       " Text(19.50764748725419, 116.77333333333334, 'X[0] <= -0.437\\ngini = 0.1\\nsamples = 19\\nvalue = [18, 1]'),\n",
       " Text(19.117494537509106, 108.72, 'X[20] <= 0.5\\ngini = 0.375\\nsamples = 4\\nvalue = [3, 1]'),\n",
       " Text(18.727341587764023, 100.66666666666667, 'gini = 0.0\\nsamples = 1\\nvalue = [0, 1]'),\n",
       " Text(19.50764748725419, 100.66666666666667, 'gini = 0.0\\nsamples = 3\\nvalue = [3, 0]'),\n",
       " Text(19.897800436999272, 108.72, 'gini = 0.0\\nsamples = 15\\nvalue = [15, 0]'),\n",
       " Text(19.50764748725419, 124.82666666666667, 'gini = 0.0\\nsamples = 2\\nvalue = [0, 2]'),\n",
       " Text(23.409176984705027, 132.88, 'X[0] <= 1.026\\ngini = 0.081\\nsamples = 94\\nvalue = [90, 4]'),\n",
       " Text(22.238718135469778, 124.82666666666667, 'X[11] <= 0.5\\ngini = 0.065\\nsamples = 89\\nvalue = [86, 3]'),\n",
       " Text(21.068259286234525, 116.77333333333334, 'X[36] <= 0.5\\ngini = 0.029\\nsamples = 69\\nvalue = [68, 1]'),\n",
       " Text(20.678106336489442, 108.72, 'gini = 0.0\\nsamples = 44\\nvalue = [44, 0]'),\n",
       " Text(21.45841223597961, 108.72, 'X[0] <= 0.66\\ngini = 0.077\\nsamples = 25\\nvalue = [24, 1]'),\n",
       " Text(21.068259286234525, 100.66666666666667, 'X[0] <= 0.579\\ngini = 0.165\\nsamples = 11\\nvalue = [10, 1]'),\n",
       " Text(20.678106336489442, 92.61333333333334, 'gini = 0.0\\nsamples = 9\\nvalue = [9, 0]'),\n",
       " Text(21.45841223597961, 92.61333333333334, 'X[25] <= 0.5\\ngini = 0.5\\nsamples = 2\\nvalue = [1, 1]'),\n",
       " Text(21.068259286234525, 84.56, 'gini = 0.0\\nsamples = 1\\nvalue = [1, 0]'),\n",
       " Text(21.84856518572469, 84.56, 'gini = 0.0\\nsamples = 1\\nvalue = [0, 1]'),\n",
       " Text(21.84856518572469, 100.66666666666667, 'gini = 0.0\\nsamples = 14\\nvalue = [14, 0]'),\n",
       " Text(23.409176984705027, 116.77333333333334, 'X[1] <= -0.988\\ngini = 0.18\\nsamples = 20\\nvalue = [18, 2]'),\n",
       " Text(23.019024034959944, 108.72, 'X[1] <= -1.081\\ngini = 0.444\\nsamples = 6\\nvalue = [4, 2]'),\n",
       " Text(22.62887108521486, 100.66666666666667, 'gini = 0.0\\nsamples = 3\\nvalue = [3, 0]'),\n",
       " Text(23.409176984705027, 100.66666666666667, 'X[21] <= 0.5\\ngini = 0.444\\nsamples = 3\\nvalue = [1, 2]'),\n",
       " Text(23.019024034959944, 92.61333333333334, 'gini = 0.0\\nsamples = 1\\nvalue = [1, 0]'),\n",
       " Text(23.79932993445011, 92.61333333333334, 'gini = 0.0\\nsamples = 2\\nvalue = [0, 2]'),\n",
       " Text(23.79932993445011, 108.72, 'gini = 0.0\\nsamples = 14\\nvalue = [14, 0]'),\n",
       " Text(24.57963583394028, 124.82666666666667, 'X[10] <= 0.5\\ngini = 0.32\\nsamples = 5\\nvalue = [4, 1]'),\n",
       " Text(24.189482884195197, 116.77333333333334, 'gini = 0.0\\nsamples = 1\\nvalue = [0, 1]'),\n",
       " Text(24.969788783685363, 116.77333333333334, 'gini = 0.0\\nsamples = 4\\nvalue = [4, 0]'),\n",
       " Text(19.50764748725419, 157.04, 'gini = 0.0\\nsamples = 75\\nvalue = [75, 0]'),\n",
       " Text(19.897800436999272, 165.09333333333333, 'gini = 0.0\\nsamples = 103\\nvalue = [103, 0]'),\n",
       " Text(27.310706482155865, 173.14666666666668, 'X[2] <= 1.364\\ngini = 0.165\\nsamples = 99\\nvalue = [90, 9]'),\n",
       " Text(25.75009468317553, 165.09333333333333, 'X[0] <= -0.802\\ngini = 0.124\\nsamples = 90\\nvalue = [84, 6]'),\n",
       " Text(24.57963583394028, 157.04, 'X[34] <= 0.5\\ngini = 0.375\\nsamples = 12\\nvalue = [9, 3]'),\n",
       " Text(24.189482884195197, 148.98666666666668, 'gini = 0.0\\nsamples = 6\\nvalue = [6, 0]'),\n",
       " Text(24.969788783685363, 148.98666666666668, 'X[2] <= -0.679\\ngini = 0.5\\nsamples = 6\\nvalue = [3, 3]'),\n",
       " Text(24.57963583394028, 140.93333333333334, 'X[0] <= -1.147\\ngini = 0.375\\nsamples = 4\\nvalue = [1, 3]'),\n",
       " Text(24.189482884195197, 132.88, 'gini = 0.0\\nsamples = 1\\nvalue = [1, 0]'),\n",
       " Text(24.969788783685363, 132.88, 'gini = 0.0\\nsamples = 3\\nvalue = [0, 3]'),\n",
       " Text(25.359941733430446, 140.93333333333334, 'gini = 0.0\\nsamples = 2\\nvalue = [2, 0]'),\n",
       " Text(26.920553532410782, 157.04, 'X[1] <= -0.718\\ngini = 0.074\\nsamples = 78\\nvalue = [75, 3]'),\n",
       " Text(26.5304005826657, 148.98666666666668, 'X[1] <= -0.776\\ngini = 0.198\\nsamples = 27\\nvalue = [24, 3]'),\n",
       " Text(26.140247632920616, 140.93333333333334, 'X[7] <= 0.5\\ngini = 0.142\\nsamples = 26\\nvalue = [24, 2]'),\n",
       " Text(25.75009468317553, 132.88, 'gini = 0.0\\nsamples = 17\\nvalue = [17, 0]'),\n",
       " Text(26.5304005826657, 132.88, 'X[0] <= 0.457\\ngini = 0.346\\nsamples = 9\\nvalue = [7, 2]'),\n",
       " Text(26.140247632920616, 124.82666666666667, 'gini = 0.0\\nsamples = 5\\nvalue = [5, 0]'),\n",
       " Text(26.920553532410782, 124.82666666666667, 'X[3] <= 0.5\\ngini = 0.5\\nsamples = 4\\nvalue = [2, 2]'),\n",
       " Text(26.5304005826657, 116.77333333333334, 'X[1] <= -1.494\\ngini = 0.444\\nsamples = 3\\nvalue = [1, 2]'),\n",
       " Text(26.140247632920616, 108.72, 'gini = 0.0\\nsamples = 1\\nvalue = [1, 0]'),\n",
       " Text(26.920553532410782, 108.72, 'gini = 0.0\\nsamples = 2\\nvalue = [0, 2]'),\n",
       " Text(27.310706482155865, 116.77333333333334, 'gini = 0.0\\nsamples = 1\\nvalue = [1, 0]'),\n",
       " Text(26.920553532410782, 140.93333333333334, 'gini = 0.0\\nsamples = 1\\nvalue = [0, 1]'),\n",
       " Text(27.310706482155865, 148.98666666666668, 'gini = 0.0\\nsamples = 51\\nvalue = [51, 0]'),\n",
       " Text(28.8713182811362, 165.09333333333333, 'X[22] <= 0.5\\ngini = 0.444\\nsamples = 9\\nvalue = [6, 3]'),\n",
       " Text(28.481165331391118, 157.04, 'X[1] <= 0.893\\ngini = 0.48\\nsamples = 5\\nvalue = [2, 3]'),\n",
       " Text(28.091012381646035, 148.98666666666668, 'gini = 0.0\\nsamples = 3\\nvalue = [0, 3]'),\n",
       " Text(28.8713182811362, 148.98666666666668, 'gini = 0.0\\nsamples = 2\\nvalue = [2, 0]'),\n",
       " Text(29.261471230881284, 157.04, 'gini = 0.0\\nsamples = 4\\nvalue = [4, 0]'),\n",
       " Text(34.67484340859432, 189.25333333333333, 'X[37] <= 0.5\\ngini = 0.022\\nsamples = 984\\nvalue = [973, 11]'),\n",
       " Text(32.090080116533144, 181.2, 'X[5] <= 0.5\\ngini = 0.015\\nsamples = 924\\nvalue = [917, 7]'),\n",
       " Text(30.82208302986162, 173.14666666666668, 'X[0] <= 1.391\\ngini = 0.111\\nsamples = 51\\nvalue = [48, 3]'),\n",
       " Text(30.431930080116537, 165.09333333333333, 'X[0] <= 1.351\\ngini = 0.278\\nsamples = 18\\nvalue = [15, 3]'),\n",
       " Text(30.041777130371454, 157.04, 'X[2] <= 0.969\\ngini = 0.117\\nsamples = 16\\nvalue = [15, 1]'),\n",
       " Text(29.651624180626367, 148.98666666666668, 'gini = 0.0\\nsamples = 13\\nvalue = [13, 0]'),\n",
       " Text(30.431930080116537, 148.98666666666668, 'X[29] <= 0.5\\ngini = 0.444\\nsamples = 3\\nvalue = [2, 1]'),\n",
       " Text(30.041777130371454, 140.93333333333334, 'gini = 0.0\\nsamples = 1\\nvalue = [0, 1]'),\n",
       " Text(30.82208302986162, 140.93333333333334, 'gini = 0.0\\nsamples = 2\\nvalue = [2, 0]'),\n",
       " Text(30.82208302986162, 157.04, 'gini = 0.0\\nsamples = 2\\nvalue = [0, 2]'),\n",
       " Text(31.212235979606703, 165.09333333333333, 'gini = 0.0\\nsamples = 33\\nvalue = [33, 0]'),\n",
       " Text(33.358077203204665, 173.14666666666668, 'X[42] <= 0.5\\ngini = 0.009\\nsamples = 873\\nvalue = [869, 4]'),\n",
       " Text(31.992541879096873, 165.09333333333333, 'X[2] <= 1.128\\ngini = 0.003\\nsamples = 720\\nvalue = [719, 1]'),\n",
       " Text(31.602388929351786, 157.04, 'gini = 0.0\\nsamples = 563\\nvalue = [563, 0]'),\n",
       " Text(32.382694828841956, 157.04, 'X[2] <= 1.137\\ngini = 0.013\\nsamples = 157\\nvalue = [156, 1]'),\n",
       " Text(31.992541879096873, 148.98666666666668, 'gini = 0.0\\nsamples = 1\\nvalue = [0, 1]'),\n",
       " Text(32.77284777858704, 148.98666666666668, 'gini = 0.0\\nsamples = 156\\nvalue = [156, 0]'),\n",
       " Text(34.72361252731246, 165.09333333333333, 'X[1] <= -1.492\\ngini = 0.038\\nsamples = 153\\nvalue = [150, 3]'),\n",
       " Text(33.94330662782229, 157.04, 'X[1] <= -1.496\\ngini = 0.165\\nsamples = 22\\nvalue = [20, 2]'),\n",
       " Text(33.55315367807721, 148.98666666666668, 'X[0] <= 1.066\\ngini = 0.091\\nsamples = 21\\nvalue = [20, 1]'),\n",
       " Text(33.16300072833212, 140.93333333333334, 'gini = 0.0\\nsamples = 19\\nvalue = [19, 0]'),\n",
       " Text(33.94330662782229, 140.93333333333334, 'X[10] <= 0.5\\ngini = 0.5\\nsamples = 2\\nvalue = [1, 1]'),\n",
       " Text(33.55315367807721, 132.88, 'gini = 0.0\\nsamples = 1\\nvalue = [0, 1]'),\n",
       " Text(34.333459577567375, 132.88, 'gini = 0.0\\nsamples = 1\\nvalue = [1, 0]'),\n",
       " Text(34.333459577567375, 148.98666666666668, 'gini = 0.0\\nsamples = 1\\nvalue = [0, 1]'),\n",
       " Text(35.50391842680263, 157.04, 'X[19] <= 0.5\\ngini = 0.015\\nsamples = 131\\nvalue = [130, 1]'),\n",
       " Text(35.11376547705754, 148.98666666666668, 'gini = 0.0\\nsamples = 91\\nvalue = [91, 0]'),\n",
       " Text(35.89407137654771, 148.98666666666668, 'X[1] <= -0.216\\ngini = 0.049\\nsamples = 40\\nvalue = [39, 1]'),\n",
       " Text(35.50391842680263, 140.93333333333334, 'X[0] <= 0.904\\ngini = 0.245\\nsamples = 7\\nvalue = [6, 1]'),\n",
       " Text(35.11376547705754, 132.88, 'gini = 0.0\\nsamples = 6\\nvalue = [6, 0]'),\n",
       " Text(35.89407137654771, 132.88, 'gini = 0.0\\nsamples = 1\\nvalue = [0, 1]'),\n",
       " Text(36.284224326292794, 140.93333333333334, 'gini = 0.0\\nsamples = 33\\nvalue = [33, 0]'),\n",
       " Text(37.2596067006555, 181.2, 'X[0] <= 0.315\\ngini = 0.124\\nsamples = 60\\nvalue = [56, 4]'),\n",
       " Text(36.284224326292794, 173.14666666666668, 'X[7] <= 0.5\\ngini = 0.444\\nsamples = 3\\nvalue = [2, 1]'),\n",
       " Text(35.89407137654771, 165.09333333333333, 'gini = 0.0\\nsamples = 2\\nvalue = [2, 0]'),\n",
       " Text(36.67437727603788, 165.09333333333333, 'gini = 0.0\\nsamples = 1\\nvalue = [0, 1]'),\n",
       " Text(38.23498907501821, 173.14666666666668, 'X[12] <= 0.5\\ngini = 0.1\\nsamples = 57\\nvalue = [54, 3]'),\n",
       " Text(37.45468317552805, 165.09333333333333, 'X[1] <= -0.501\\ngini = 0.278\\nsamples = 12\\nvalue = [10, 2]'),\n",
       " Text(37.06453022578296, 157.04, 'X[34] <= 0.5\\ngini = 0.48\\nsamples = 5\\nvalue = [3, 2]'),\n",
       " Text(36.67437727603788, 148.98666666666668, 'gini = 0.0\\nsamples = 2\\nvalue = [0, 2]'),\n",
       " Text(37.45468317552805, 148.98666666666668, 'gini = 0.0\\nsamples = 3\\nvalue = [3, 0]'),\n",
       " Text(37.844836125273126, 157.04, 'gini = 0.0\\nsamples = 7\\nvalue = [7, 0]'),\n",
       " Text(39.01529497450838, 165.09333333333333, 'X[2] <= 1.325\\ngini = 0.043\\nsamples = 45\\nvalue = [44, 1]'),\n",
       " Text(38.6251420247633, 157.04, 'gini = 0.0\\nsamples = 33\\nvalue = [33, 0]'),\n",
       " Text(39.405447924253465, 157.04, 'X[2] <= 1.369\\ngini = 0.153\\nsamples = 12\\nvalue = [11, 1]'),\n",
       " Text(39.01529497450838, 148.98666666666668, 'gini = 0.0\\nsamples = 1\\nvalue = [0, 1]'),\n",
       " Text(39.795600873998545, 148.98666666666668, 'gini = 0.0\\nsamples = 11\\nvalue = [11, 0]'),\n",
       " Text(51.81109249817918, 197.30666666666667, 'X[2] <= 1.909\\ngini = 0.257\\nsamples = 575\\nvalue = [488, 87]'),\n",
       " Text(46.45258557902404, 189.25333333333333, 'X[2] <= 1.903\\ngini = 0.348\\nsamples = 267\\nvalue = [207, 60]'),\n",
       " Text(46.06243262927896, 181.2, 'X[1] <= 1.225\\ngini = 0.339\\nsamples = 264\\nvalue = [207, 57]'),\n",
       " Text(43.453284777858705, 173.14666666666668, 'X[19] <= 0.5\\ngini = 0.246\\nsamples = 139\\nvalue = [119, 20]'),\n",
       " Text(41.45375091041515, 165.09333333333333, 'X[1] <= 0.973\\ngini = 0.306\\nsamples = 90\\nvalue = [73, 17]'),\n",
       " Text(41.06359796067007, 157.04, 'gini = 0.0\\nsamples = 1\\nvalue = [0, 1]'),\n",
       " Text(41.84390386016024, 157.04, 'X[2] <= 1.702\\ngini = 0.295\\nsamples = 89\\nvalue = [73, 16]'),\n",
       " Text(40.57590677348872, 148.98666666666668, 'X[39] <= 0.5\\ngini = 0.255\\nsamples = 80\\nvalue = [68, 12]'),\n",
       " Text(39.21037144938092, 140.93333333333334, 'X[1] <= 1.056\\ngini = 0.229\\nsamples = 76\\nvalue = [66, 10]'),\n",
       " Text(37.64975965040059, 132.88, 'X[1] <= 1.018\\ngini = 0.375\\nsamples = 24\\nvalue = [18, 6]'),\n",
       " Text(36.86945375091042, 124.82666666666667, 'X[1] <= 0.986\\ngini = 0.198\\nsamples = 18\\nvalue = [16, 2]'),\n",
       " Text(36.47930080116534, 116.77333333333334, 'X[3] <= 0.5\\ngini = 0.408\\nsamples = 7\\nvalue = [5, 2]'),\n",
       " Text(36.08914785142025, 108.72, 'gini = 0.0\\nsamples = 2\\nvalue = [0, 2]'),\n",
       " Text(36.86945375091042, 108.72, 'gini = 0.0\\nsamples = 5\\nvalue = [5, 0]'),\n",
       " Text(37.2596067006555, 116.77333333333334, 'gini = 0.0\\nsamples = 11\\nvalue = [11, 0]'),\n",
       " Text(38.430065549890756, 124.82666666666667, 'X[32] <= 0.5\\ngini = 0.444\\nsamples = 6\\nvalue = [2, 4]'),\n",
       " Text(38.03991260014567, 116.77333333333334, 'X[6] <= 0.5\\ngini = 0.444\\nsamples = 3\\nvalue = [2, 1]'),\n",
       " Text(37.64975965040059, 108.72, 'gini = 0.0\\nsamples = 2\\nvalue = [2, 0]'),\n",
       " Text(38.430065549890756, 108.72, 'gini = 0.0\\nsamples = 1\\nvalue = [0, 1]'),\n",
       " Text(38.820218499635835, 116.77333333333334, 'gini = 0.0\\nsamples = 3\\nvalue = [0, 3]'),\n",
       " Text(40.770983248361254, 132.88, 'X[23] <= 0.5\\ngini = 0.142\\nsamples = 52\\nvalue = [48, 4]'),\n",
       " Text(40.380830298616175, 124.82666666666667, 'X[36] <= 0.5\\ngini = 0.32\\nsamples = 20\\nvalue = [16, 4]'),\n",
       " Text(39.60052439912601, 116.77333333333334, 'X[37] <= 0.5\\ngini = 0.208\\nsamples = 17\\nvalue = [15, 2]'),\n",
       " Text(39.21037144938092, 108.72, 'gini = 0.0\\nsamples = 7\\nvalue = [7, 0]'),\n",
       " Text(39.99067734887109, 108.72, 'X[6] <= 0.5\\ngini = 0.32\\nsamples = 10\\nvalue = [8, 2]'),\n",
       " Text(39.60052439912601, 100.66666666666667, 'X[0] <= 0.843\\ngini = 0.444\\nsamples = 6\\nvalue = [4, 2]'),\n",
       " Text(39.21037144938092, 92.61333333333334, 'X[41] <= 0.5\\ngini = 0.32\\nsamples = 5\\nvalue = [4, 1]'),\n",
       " Text(38.820218499635835, 84.56, 'gini = 0.0\\nsamples = 4\\nvalue = [4, 0]'),\n",
       " Text(39.60052439912601, 84.56, 'gini = 0.0\\nsamples = 1\\nvalue = [0, 1]'),\n",
       " Text(39.99067734887109, 92.61333333333334, 'gini = 0.0\\nsamples = 1\\nvalue = [0, 1]'),\n",
       " Text(40.380830298616175, 100.66666666666667, 'gini = 0.0\\nsamples = 4\\nvalue = [4, 0]'),\n",
       " Text(41.16113619810634, 116.77333333333334, 'X[31] <= 0.5\\ngini = 0.444\\nsamples = 3\\nvalue = [1, 2]'),\n",
       " Text(40.770983248361254, 108.72, 'gini = 0.0\\nsamples = 1\\nvalue = [1, 0]'),\n",
       " Text(41.55128914785143, 108.72, 'gini = 0.0\\nsamples = 2\\nvalue = [0, 2]'),\n",
       " Text(41.16113619810634, 124.82666666666667, 'gini = 0.0\\nsamples = 32\\nvalue = [32, 0]'),\n",
       " Text(41.94144209759651, 140.93333333333334, 'X[24] <= 0.5\\ngini = 0.5\\nsamples = 4\\nvalue = [2, 2]'),\n",
       " Text(41.55128914785143, 132.88, 'gini = 0.0\\nsamples = 2\\nvalue = [0, 2]'),\n",
       " Text(42.331595047341594, 132.88, 'gini = 0.0\\nsamples = 2\\nvalue = [2, 0]'),\n",
       " Text(43.11190094683176, 148.98666666666668, 'X[7] <= 0.5\\ngini = 0.494\\nsamples = 9\\nvalue = [5, 4]'),\n",
       " Text(42.72174799708667, 140.93333333333334, 'gini = 0.0\\nsamples = 3\\nvalue = [3, 0]'),\n",
       " Text(43.50205389657685, 140.93333333333334, 'X[1] <= 1.132\\ngini = 0.444\\nsamples = 6\\nvalue = [2, 4]'),\n",
       " Text(43.11190094683176, 132.88, 'X[4] <= 0.5\\ngini = 0.444\\nsamples = 3\\nvalue = [2, 1]'),\n",
       " Text(42.72174799708667, 124.82666666666667, 'gini = 0.0\\nsamples = 2\\nvalue = [2, 0]'),\n",
       " Text(43.50205389657685, 124.82666666666667, 'gini = 0.0\\nsamples = 1\\nvalue = [0, 1]'),\n",
       " Text(43.892206846321926, 132.88, 'gini = 0.0\\nsamples = 3\\nvalue = [0, 3]'),\n",
       " Text(45.452818645302266, 165.09333333333333, 'X[0] <= 1.371\\ngini = 0.115\\nsamples = 49\\nvalue = [46, 3]'),\n",
       " Text(45.06266569555718, 157.04, 'X[2] <= 0.668\\ngini = 0.08\\nsamples = 48\\nvalue = [46, 2]'),\n",
       " Text(44.67251274581209, 148.98666666666668, 'X[2] <= 0.608\\ngini = 0.346\\nsamples = 9\\nvalue = [7, 2]'),\n",
       " Text(44.28235979606701, 140.93333333333334, 'gini = 0.0\\nsamples = 7\\nvalue = [7, 0]'),\n",
       " Text(45.06266569555718, 140.93333333333334, 'gini = 0.0\\nsamples = 2\\nvalue = [0, 2]'),\n",
       " Text(45.452818645302266, 148.98666666666668, 'gini = 0.0\\nsamples = 39\\nvalue = [39, 0]'),\n",
       " Text(45.842971595047345, 157.04, 'gini = 0.0\\nsamples = 1\\nvalue = [0, 1]'),\n",
       " Text(48.671580480699205, 173.14666666666668, 'X[1] <= 1.611\\ngini = 0.417\\nsamples = 125\\nvalue = [88, 37]'),\n",
       " Text(48.28142753095412, 165.09333333333333, 'X[1] <= 1.572\\ngini = 0.434\\nsamples = 116\\nvalue = [79, 37]'),\n",
       " Text(47.89127458120904, 157.04, 'X[1] <= 1.522\\ngini = 0.426\\nsamples = 114\\nvalue = [79, 35]'),\n",
       " Text(46.818353969410055, 148.98666666666668, 'X[1] <= 1.492\\ngini = 0.444\\nsamples = 102\\nvalue = [68, 34]'),\n",
       " Text(45.842971595047345, 140.93333333333334, 'X[1] <= 1.472\\ngini = 0.421\\nsamples = 93\\nvalue = [65, 28]'),\n",
       " Text(45.452818645302266, 132.88, 'X[1] <= 1.458\\ngini = 0.442\\nsamples = 85\\nvalue = [57, 28]'),\n",
       " Text(45.06266569555718, 124.82666666666667, 'X[34] <= 0.5\\ngini = 0.43\\nsamples = 83\\nvalue = [57, 26]'),\n",
       " Text(43.50205389657685, 116.77333333333334, 'X[1] <= 1.245\\ngini = 0.153\\nsamples = 12\\nvalue = [11, 1]'),\n",
       " Text(43.11190094683176, 108.72, 'X[10] <= 0.5\\ngini = 0.5\\nsamples = 2\\nvalue = [1, 1]'),\n",
       " Text(42.72174799708667, 100.66666666666667, 'gini = 0.0\\nsamples = 1\\nvalue = [0, 1]'),\n",
       " Text(43.50205389657685, 100.66666666666667, 'gini = 0.0\\nsamples = 1\\nvalue = [1, 0]'),\n",
       " Text(43.892206846321926, 108.72, 'gini = 0.0\\nsamples = 10\\nvalue = [10, 0]'),\n",
       " Text(46.62327749453751, 116.77333333333334, 'X[2] <= 1.49\\ngini = 0.456\\nsamples = 71\\nvalue = [46, 25]'),\n",
       " Text(45.06266569555718, 108.72, 'X[1] <= 1.302\\ngini = 0.402\\nsamples = 43\\nvalue = [31, 12]'),\n",
       " Text(44.28235979606701, 100.66666666666667, 'X[0] <= 0.213\\ngini = 0.496\\nsamples = 11\\nvalue = [5, 6]'),\n",
       " Text(43.892206846321926, 92.61333333333334, 'gini = 0.0\\nsamples = 4\\nvalue = [0, 4]'),\n",
       " Text(44.67251274581209, 92.61333333333334, 'X[7] <= 0.5\\ngini = 0.408\\nsamples = 7\\nvalue = [5, 2]'),\n",
       " Text(44.28235979606701, 84.56, 'X[1] <= 1.276\\ngini = 0.444\\nsamples = 3\\nvalue = [1, 2]'),\n",
       " Text(43.892206846321926, 76.50666666666666, 'gini = 0.0\\nsamples = 2\\nvalue = [0, 2]'),\n",
       " Text(44.67251274581209, 76.50666666666666, 'gini = 0.0\\nsamples = 1\\nvalue = [1, 0]'),\n",
       " Text(45.06266569555718, 84.56, 'gini = 0.0\\nsamples = 4\\nvalue = [4, 0]'),\n",
       " Text(45.842971595047345, 100.66666666666667, 'X[1] <= 1.329\\ngini = 0.305\\nsamples = 32\\nvalue = [26, 6]'),\n",
       " Text(45.452818645302266, 92.61333333333334, 'gini = 0.0\\nsamples = 12\\nvalue = [12, 0]'),\n",
       " Text(46.23312454479243, 92.61333333333334, 'X[14] <= 0.5\\ngini = 0.42\\nsamples = 20\\nvalue = [14, 6]'),\n",
       " Text(45.842971595047345, 84.56, 'gini = 0.0\\nsamples = 2\\nvalue = [0, 2]'),\n",
       " Text(46.62327749453751, 84.56, 'X[1] <= 1.33\\ngini = 0.346\\nsamples = 18\\nvalue = [14, 4]'),\n",
       " Text(46.23312454479243, 76.50666666666666, 'gini = 0.0\\nsamples = 1\\nvalue = [0, 1]'),\n",
       " Text(47.0134304442826, 76.50666666666666, 'X[1] <= 1.379\\ngini = 0.291\\nsamples = 17\\nvalue = [14, 3]'),\n",
       " Text(46.62327749453751, 68.45333333333335, 'gini = 0.0\\nsamples = 8\\nvalue = [8, 0]'),\n",
       " Text(47.403583394027685, 68.45333333333335, 'X[1] <= 1.443\\ngini = 0.444\\nsamples = 9\\nvalue = [6, 3]'),\n",
       " Text(47.0134304442826, 60.400000000000006, 'X[0] <= 0.701\\ngini = 0.48\\nsamples = 5\\nvalue = [2, 3]'),\n",
       " Text(46.62327749453751, 52.346666666666664, 'gini = 0.0\\nsamples = 3\\nvalue = [0, 3]'),\n",
       " Text(47.403583394027685, 52.346666666666664, 'gini = 0.0\\nsamples = 2\\nvalue = [2, 0]'),\n",
       " Text(47.793736343772764, 60.400000000000006, 'gini = 0.0\\nsamples = 4\\nvalue = [4, 0]'),\n",
       " Text(48.18388929351785, 108.72, 'X[2] <= 1.566\\ngini = 0.497\\nsamples = 28\\nvalue = [15, 13]'),\n",
       " Text(47.403583394027685, 100.66666666666667, 'X[18] <= 0.5\\ngini = 0.278\\nsamples = 6\\nvalue = [1, 5]'),\n",
       " Text(47.0134304442826, 92.61333333333334, 'gini = 0.0\\nsamples = 5\\nvalue = [0, 5]'),\n",
       " Text(47.793736343772764, 92.61333333333334, 'gini = 0.0\\nsamples = 1\\nvalue = [1, 0]'),\n",
       " Text(48.96419519300802, 100.66666666666667, 'X[0] <= 1.005\\ngini = 0.463\\nsamples = 22\\nvalue = [14, 8]'),\n",
       " Text(48.57404224326293, 92.61333333333334, 'gini = 0.0\\nsamples = 4\\nvalue = [4, 0]'),\n",
       " Text(49.3543481427531, 92.61333333333334, 'X[2] <= 1.748\\ngini = 0.494\\nsamples = 18\\nvalue = [10, 8]'),\n",
       " Text(48.57404224326293, 84.56, 'X[27] <= 0.5\\ngini = 0.32\\nsamples = 5\\nvalue = [1, 4]'),\n",
       " Text(48.18388929351785, 76.50666666666666, 'gini = 0.0\\nsamples = 1\\nvalue = [1, 0]'),\n",
       " Text(48.96419519300802, 76.50666666666666, 'gini = 0.0\\nsamples = 4\\nvalue = [0, 4]'),\n",
       " Text(50.13465404224327, 84.56, 'X[2] <= 1.809\\ngini = 0.426\\nsamples = 13\\nvalue = [9, 4]'),\n",
       " Text(49.74450109249818, 76.50666666666666, 'gini = 0.0\\nsamples = 5\\nvalue = [5, 0]'),\n",
       " Text(50.52480699198835, 76.50666666666666, 'X[2] <= 1.851\\ngini = 0.5\\nsamples = 8\\nvalue = [4, 4]'),\n",
       " Text(50.13465404224327, 68.45333333333335, 'X[1] <= 1.315\\ngini = 0.32\\nsamples = 5\\nvalue = [1, 4]'),\n",
       " Text(49.74450109249818, 60.400000000000006, 'X[6] <= 0.5\\ngini = 0.5\\nsamples = 2\\nvalue = [1, 1]'),\n",
       " Text(49.3543481427531, 52.346666666666664, 'gini = 0.0\\nsamples = 1\\nvalue = [1, 0]'),\n",
       " Text(50.13465404224327, 52.346666666666664, 'gini = 0.0\\nsamples = 1\\nvalue = [0, 1]'),\n",
       " Text(50.52480699198835, 60.400000000000006, 'gini = 0.0\\nsamples = 3\\nvalue = [0, 3]'),\n",
       " Text(50.914959941733436, 68.45333333333335, 'gini = 0.0\\nsamples = 3\\nvalue = [3, 0]'),\n",
       " Text(45.842971595047345, 124.82666666666667, 'gini = 0.0\\nsamples = 2\\nvalue = [0, 2]'),\n",
       " Text(46.23312454479243, 132.88, 'gini = 0.0\\nsamples = 8\\nvalue = [8, 0]'),\n",
       " Text(47.793736343772764, 140.93333333333334, 'X[36] <= 0.5\\ngini = 0.444\\nsamples = 9\\nvalue = [3, 6]'),\n",
       " Text(47.403583394027685, 132.88, 'X[35] <= 0.5\\ngini = 0.245\\nsamples = 7\\nvalue = [1, 6]'),\n",
       " Text(47.0134304442826, 124.82666666666667, 'gini = 0.0\\nsamples = 5\\nvalue = [0, 5]'),\n",
       " Text(47.793736343772764, 124.82666666666667, 'X[1] <= 1.502\\ngini = 0.5\\nsamples = 2\\nvalue = [1, 1]'),\n",
       " Text(47.403583394027685, 116.77333333333334, 'gini = 0.0\\nsamples = 1\\nvalue = [0, 1]'),\n",
       " Text(48.18388929351785, 116.77333333333334, 'gini = 0.0\\nsamples = 1\\nvalue = [1, 0]'),\n",
       " Text(48.18388929351785, 132.88, 'gini = 0.0\\nsamples = 2\\nvalue = [2, 0]'),\n",
       " Text(48.96419519300802, 148.98666666666668, 'X[22] <= 0.5\\ngini = 0.153\\nsamples = 12\\nvalue = [11, 1]'),\n",
       " Text(48.57404224326293, 140.93333333333334, 'gini = 0.0\\nsamples = 11\\nvalue = [11, 0]'),\n",
       " Text(49.3543481427531, 140.93333333333334, 'gini = 0.0\\nsamples = 1\\nvalue = [0, 1]'),\n",
       " Text(48.671580480699205, 157.04, 'gini = 0.0\\nsamples = 2\\nvalue = [0, 2]'),\n",
       " Text(49.061733430444285, 165.09333333333333, 'gini = 0.0\\nsamples = 9\\nvalue = [9, 0]'),\n",
       " Text(46.842738528769125, 181.2, 'gini = 0.0\\nsamples = 3\\nvalue = [0, 3]'),\n",
       " Text(57.16959941733431, 189.25333333333333, 'X[0] <= 1.594\\ngini = 0.16\\nsamples = 308\\nvalue = [281, 27]'),\n",
       " Text(54.694566642388935, 181.2, 'X[4] <= 0.5\\ngini = 0.222\\nsamples = 204\\nvalue = [178, 26]'),\n",
       " Text(52.47557174071377, 173.14666666666668, 'X[32] <= 0.5\\ngini = 0.114\\nsamples = 99\\nvalue = [93, 6]'),\n",
       " Text(52.08541879096869, 165.09333333333333, 'X[2] <= 2.356\\ngini = 0.223\\nsamples = 47\\nvalue = [41, 6]'),\n",
       " Text(51.30511289147852, 157.04, 'X[2] <= 2.083\\ngini = 0.165\\nsamples = 44\\nvalue = [40, 4]'),\n",
       " Text(50.914959941733436, 148.98666666666668, 'X[1] <= 1.37\\ngini = 0.346\\nsamples = 18\\nvalue = [14, 4]'),\n",
       " Text(50.13465404224327, 140.93333333333334, 'X[2] <= 1.938\\ngini = 0.142\\nsamples = 13\\nvalue = [12, 1]'),\n",
       " Text(49.74450109249818, 132.88, 'X[24] <= 0.5\\ngini = 0.5\\nsamples = 2\\nvalue = [1, 1]'),\n",
       " Text(49.3543481427531, 124.82666666666667, 'gini = 0.0\\nsamples = 1\\nvalue = [1, 0]'),\n",
       " Text(50.13465404224327, 124.82666666666667, 'gini = 0.0\\nsamples = 1\\nvalue = [0, 1]'),\n",
       " Text(50.52480699198835, 132.88, 'gini = 0.0\\nsamples = 11\\nvalue = [11, 0]'),\n",
       " Text(51.6952658412236, 140.93333333333334, 'X[0] <= 1.229\\ngini = 0.48\\nsamples = 5\\nvalue = [2, 3]'),\n",
       " Text(51.30511289147852, 132.88, 'gini = 0.0\\nsamples = 2\\nvalue = [2, 0]'),\n",
       " Text(52.08541879096869, 132.88, 'gini = 0.0\\nsamples = 3\\nvalue = [0, 3]'),\n",
       " Text(51.6952658412236, 148.98666666666668, 'gini = 0.0\\nsamples = 26\\nvalue = [26, 0]'),\n",
       " Text(52.865724690458855, 157.04, 'X[1] <= 1.47\\ngini = 0.444\\nsamples = 3\\nvalue = [1, 2]'),\n",
       " Text(52.47557174071377, 148.98666666666668, 'gini = 0.0\\nsamples = 1\\nvalue = [1, 0]'),\n",
       " Text(53.25587764020394, 148.98666666666668, 'gini = 0.0\\nsamples = 2\\nvalue = [0, 2]'),\n",
       " Text(52.865724690458855, 165.09333333333333, 'gini = 0.0\\nsamples = 52\\nvalue = [52, 0]'),\n",
       " Text(56.9135615440641, 173.14666666666668, 'X[2] <= 2.029\\ngini = 0.308\\nsamples = 105\\nvalue = [85, 20]'),\n",
       " Text(56.523408594319015, 165.09333333333333, 'gini = 0.0\\nsamples = 24\\nvalue = [24, 0]'),\n",
       " Text(57.30371449380918, 165.09333333333333, 'X[2] <= 2.447\\ngini = 0.372\\nsamples = 81\\nvalue = [61, 20]'),\n",
       " Text(56.9135615440641, 157.04, 'X[2] <= 2.303\\ngini = 0.419\\nsamples = 67\\nvalue = [47, 20]'),\n",
       " Text(54.03618353969411, 148.98666666666668, 'X[14] <= 0.5\\ngini = 0.343\\nsamples = 50\\nvalue = [39, 11]'),\n",
       " Text(53.64603058994902, 140.93333333333334, 'gini = 0.0\\nsamples = 13\\nvalue = [13, 0]'),\n",
       " Text(54.42633648943919, 140.93333333333334, 'X[0] <= 1.554\\ngini = 0.418\\nsamples = 37\\nvalue = [26, 11]'),\n",
       " Text(54.03618353969411, 132.88, 'X[1] <= 1.321\\ngini = 0.464\\nsamples = 30\\nvalue = [19, 11]'),\n",
       " Text(52.76818645302259, 124.82666666666667, 'X[5] <= 0.5\\ngini = 0.32\\nsamples = 5\\nvalue = [1, 4]'),\n",
       " Text(52.3780335032775, 116.77333333333334, 'gini = 0.0\\nsamples = 1\\nvalue = [1, 0]'),\n",
       " Text(53.158339402767666, 116.77333333333334, 'gini = 0.0\\nsamples = 4\\nvalue = [0, 4]'),\n",
       " Text(55.30418062636563, 124.82666666666667, 'X[1] <= 1.485\\ngini = 0.403\\nsamples = 25\\nvalue = [18, 7]'),\n",
       " Text(53.93864530225783, 116.77333333333334, 'X[8] <= 0.5\\ngini = 0.48\\nsamples = 15\\nvalue = [9, 6]'),\n",
       " Text(53.158339402767666, 108.72, 'X[2] <= 2.225\\ngini = 0.375\\nsamples = 4\\nvalue = [1, 3]'),\n",
       " Text(52.76818645302259, 100.66666666666667, 'gini = 0.0\\nsamples = 3\\nvalue = [0, 3]'),\n",
       " Text(53.54849235251275, 100.66666666666667, 'gini = 0.0\\nsamples = 1\\nvalue = [1, 0]'),\n",
       " Text(54.718951201748006, 108.72, 'X[1] <= 1.462\\ngini = 0.397\\nsamples = 11\\nvalue = [8, 3]'),\n",
       " Text(54.32879825200292, 100.66666666666667, 'X[9] <= 0.5\\ngini = 0.32\\nsamples = 10\\nvalue = [8, 2]'),\n",
       " Text(53.93864530225783, 92.61333333333334, 'gini = 0.0\\nsamples = 4\\nvalue = [4, 0]'),\n",
       " Text(54.718951201748006, 92.61333333333334, 'X[0] <= 1.33\\ngini = 0.444\\nsamples = 6\\nvalue = [4, 2]'),\n",
       " Text(54.32879825200292, 84.56, 'gini = 0.0\\nsamples = 3\\nvalue = [3, 0]'),\n",
       " Text(55.109104151493085, 84.56, 'X[31] <= 0.5\\ngini = 0.444\\nsamples = 3\\nvalue = [1, 2]'),\n",
       " Text(54.718951201748006, 76.50666666666666, 'gini = 0.0\\nsamples = 2\\nvalue = [0, 2]'),\n",
       " Text(55.49925710123817, 76.50666666666666, 'gini = 0.0\\nsamples = 1\\nvalue = [1, 0]'),\n",
       " Text(55.109104151493085, 100.66666666666667, 'gini = 0.0\\nsamples = 1\\nvalue = [0, 1]'),\n",
       " Text(56.669715950473424, 116.77333333333334, 'X[19] <= 0.5\\ngini = 0.18\\nsamples = 10\\nvalue = [9, 1]'),\n",
       " Text(56.27956300072834, 108.72, 'X[2] <= 2.199\\ngini = 0.5\\nsamples = 2\\nvalue = [1, 1]'),\n",
       " Text(55.88941005098325, 100.66666666666667, 'gini = 0.0\\nsamples = 1\\nvalue = [1, 0]'),\n",
       " Text(56.669715950473424, 100.66666666666667, 'gini = 0.0\\nsamples = 1\\nvalue = [0, 1]'),\n",
       " Text(57.059868900218504, 108.72, 'gini = 0.0\\nsamples = 8\\nvalue = [8, 0]'),\n",
       " Text(54.816489439184274, 132.88, 'gini = 0.0\\nsamples = 7\\nvalue = [7, 0]'),\n",
       " Text(59.79093954843409, 148.98666666666668, 'X[31] <= 0.5\\ngini = 0.498\\nsamples = 17\\nvalue = [8, 9]'),\n",
       " Text(59.40078659868901, 140.93333333333334, 'X[1] <= 1.695\\ngini = 0.473\\nsamples = 13\\nvalue = [8, 5]'),\n",
       " Text(59.01063364894392, 132.88, 'X[1] <= 1.529\\ngini = 0.444\\nsamples = 12\\nvalue = [8, 4]'),\n",
       " Text(58.62048069919884, 124.82666666666667, 'X[35] <= 0.5\\ngini = 0.5\\nsamples = 8\\nvalue = [4, 4]'),\n",
       " Text(58.23032774945376, 116.77333333333334, 'X[7] <= 0.5\\ngini = 0.444\\nsamples = 6\\nvalue = [4, 2]'),\n",
       " Text(57.84017479970867, 108.72, 'X[18] <= 0.5\\ngini = 0.32\\nsamples = 5\\nvalue = [4, 1]'),\n",
       " Text(57.45002184996359, 100.66666666666667, 'gini = 0.0\\nsamples = 3\\nvalue = [3, 0]'),\n",
       " Text(58.23032774945376, 100.66666666666667, 'X[6] <= 0.5\\ngini = 0.5\\nsamples = 2\\nvalue = [1, 1]'),\n",
       " Text(57.84017479970867, 92.61333333333334, 'gini = 0.0\\nsamples = 1\\nvalue = [0, 1]'),\n",
       " Text(58.62048069919884, 92.61333333333334, 'gini = 0.0\\nsamples = 1\\nvalue = [1, 0]'),\n",
       " Text(58.62048069919884, 108.72, 'gini = 0.0\\nsamples = 1\\nvalue = [0, 1]'),\n",
       " Text(59.01063364894392, 116.77333333333334, 'gini = 0.0\\nsamples = 2\\nvalue = [0, 2]'),\n",
       " Text(59.40078659868901, 124.82666666666667, 'gini = 0.0\\nsamples = 4\\nvalue = [4, 0]'),\n",
       " Text(59.79093954843409, 132.88, 'gini = 0.0\\nsamples = 1\\nvalue = [0, 1]'),\n",
       " Text(60.181092498179176, 140.93333333333334, 'gini = 0.0\\nsamples = 4\\nvalue = [0, 4]'),\n",
       " Text(57.69386744355427, 157.04, 'gini = 0.0\\nsamples = 14\\nvalue = [14, 0]'),\n",
       " Text(59.64463219227969, 181.2, 'X[5] <= 0.5\\ngini = 0.019\\nsamples = 104\\nvalue = [103, 1]'),\n",
       " Text(59.2544792425346, 173.14666666666668, 'X[1] <= 1.329\\ngini = 0.095\\nsamples = 20\\nvalue = [19, 1]'),\n",
       " Text(58.86432629278952, 165.09333333333333, 'X[2] <= 2.228\\ngini = 0.444\\nsamples = 3\\nvalue = [2, 1]'),\n",
       " Text(58.474173343044434, 157.04, 'gini = 0.0\\nsamples = 2\\nvalue = [2, 0]'),\n",
       " Text(59.2544792425346, 157.04, 'gini = 0.0\\nsamples = 1\\nvalue = [0, 1]'),\n",
       " Text(59.64463219227969, 165.09333333333333, 'gini = 0.0\\nsamples = 17\\nvalue = [17, 0]'),\n",
       " Text(60.03478514202477, 173.14666666666668, 'gini = 0.0\\nsamples = 84\\nvalue = [84, 0]'),\n",
       " Text(174.98674128277497, 205.36, 'X[16] <= 0.5\\ngini = 0.49\\nsamples = 2924\\nvalue = [1673, 1251]'),\n",
       " Text(106.35477967953388, 197.30666666666667, 'X[0] <= -1.168\\ngini = 0.4\\nsamples = 1318\\nvalue = [953, 365]'),\n",
       " Text(80.31664238892937, 189.25333333333333, 'X[15] <= 0.5\\ngini = 0.494\\nsamples = 440\\nvalue = [244, 196]'),\n",
       " Text(71.59306627822288, 181.2, 'X[2] <= -0.992\\ngini = 0.419\\nsamples = 174\\nvalue = [122, 52]'),\n",
       " Text(66.61861616897306, 173.14666666666668, 'X[33] <= 0.5\\ngini = 0.479\\nsamples = 111\\nvalue = [67, 44]'),\n",
       " Text(64.4727749453751, 165.09333333333333, 'X[2] <= -0.992\\ngini = 0.493\\nsamples = 34\\nvalue = [15, 19]'),\n",
       " Text(62.52201019664968, 157.04, 'X[1] <= -1.492\\ngini = 0.444\\nsamples = 24\\nvalue = [8, 16]'),\n",
       " Text(61.74170429715951, 148.98666666666668, 'X[2] <= -0.992\\ngini = 0.497\\nsamples = 13\\nvalue = [7, 6]'),\n",
       " Text(61.35155134741443, 140.93333333333334, 'X[10] <= 0.5\\ngini = 0.48\\nsamples = 10\\nvalue = [4, 6]'),\n",
       " Text(60.57124544792426, 132.88, 'X[2] <= -0.992\\ngini = 0.278\\nsamples = 6\\nvalue = [1, 5]'),\n",
       " Text(60.181092498179176, 124.82666666666667, 'gini = 0.0\\nsamples = 3\\nvalue = [0, 3]'),\n",
       " Text(60.96139839766934, 124.82666666666667, 'X[2] <= -0.992\\ngini = 0.444\\nsamples = 3\\nvalue = [1, 2]'),\n",
       " Text(60.57124544792426, 116.77333333333334, 'gini = 0.0\\nsamples = 1\\nvalue = [1, 0]'),\n",
       " Text(61.35155134741443, 116.77333333333334, 'gini = 0.0\\nsamples = 2\\nvalue = [0, 2]'),\n",
       " Text(62.131857246904595, 132.88, 'X[2] <= -0.992\\ngini = 0.375\\nsamples = 4\\nvalue = [3, 1]'),\n",
       " Text(61.74170429715951, 124.82666666666667, 'gini = 0.0\\nsamples = 3\\nvalue = [3, 0]'),\n",
       " Text(62.52201019664968, 124.82666666666667, 'gini = 0.0\\nsamples = 1\\nvalue = [0, 1]'),\n",
       " Text(62.131857246904595, 140.93333333333334, 'gini = 0.0\\nsamples = 3\\nvalue = [3, 0]'),\n",
       " Text(63.30231609613985, 148.98666666666668, 'X[10] <= 0.5\\ngini = 0.165\\nsamples = 11\\nvalue = [1, 10]'),\n",
       " Text(62.91216314639476, 140.93333333333334, 'gini = 0.0\\nsamples = 8\\nvalue = [0, 8]'),\n",
       " Text(63.69246904588493, 140.93333333333334, 'X[4] <= 0.5\\ngini = 0.444\\nsamples = 3\\nvalue = [1, 2]'),\n",
       " Text(63.30231609613985, 132.88, 'gini = 0.0\\nsamples = 2\\nvalue = [0, 2]'),\n",
       " Text(64.08262199563002, 132.88, 'gini = 0.0\\nsamples = 1\\nvalue = [1, 0]'),\n",
       " Text(66.42353969410051, 157.04, 'X[10] <= 0.5\\ngini = 0.42\\nsamples = 10\\nvalue = [7, 3]'),\n",
       " Text(65.64323379461035, 148.98666666666668, 'X[1] <= -1.477\\ngini = 0.245\\nsamples = 7\\nvalue = [6, 1]'),\n",
       " Text(65.25308084486527, 140.93333333333334, 'X[4] <= 0.5\\ngini = 0.444\\nsamples = 3\\nvalue = [2, 1]'),\n",
       " Text(64.86292789512018, 132.88, 'gini = 0.5\\nsamples = 2\\nvalue = [1, 1]'),\n",
       " Text(65.64323379461035, 132.88, 'gini = 0.0\\nsamples = 1\\nvalue = [1, 0]'),\n",
       " Text(66.03338674435544, 140.93333333333334, 'gini = 0.0\\nsamples = 4\\nvalue = [4, 0]'),\n",
       " Text(67.20384559359069, 148.98666666666668, 'X[3] <= 0.5\\ngini = 0.444\\nsamples = 3\\nvalue = [1, 2]'),\n",
       " Text(66.8136926438456, 140.93333333333334, 'gini = 0.0\\nsamples = 1\\nvalue = [1, 0]'),\n",
       " Text(67.59399854333577, 140.93333333333334, 'gini = 0.0\\nsamples = 2\\nvalue = [0, 2]'),\n",
       " Text(68.76445739257102, 165.09333333333333, 'X[1] <= -1.511\\ngini = 0.439\\nsamples = 77\\nvalue = [52, 25]'),\n",
       " Text(68.37430444282593, 157.04, 'gini = 0.0\\nsamples = 6\\nvalue = [6, 0]'),\n",
       " Text(69.1546103423161, 157.04, 'X[36] <= 0.5\\ngini = 0.456\\nsamples = 71\\nvalue = [46, 25]'),\n",
       " Text(68.76445739257102, 148.98666666666668, 'X[5] <= 0.5\\ngini = 0.473\\nsamples = 65\\nvalue = [40, 25]'),\n",
       " Text(68.37430444282593, 140.93333333333334, 'gini = 0.0\\nsamples = 1\\nvalue = [0, 1]'),\n",
       " Text(69.1546103423161, 140.93333333333334, 'X[1] <= -1.506\\ngini = 0.469\\nsamples = 64\\nvalue = [40, 24]'),\n",
       " Text(67.59399854333577, 132.88, 'X[7] <= 0.5\\ngini = 0.444\\nsamples = 3\\nvalue = [1, 2]'),\n",
       " Text(67.20384559359069, 124.82666666666667, 'gini = 0.0\\nsamples = 1\\nvalue = [1, 0]'),\n",
       " Text(67.98415149308086, 124.82666666666667, 'gini = 0.0\\nsamples = 2\\nvalue = [0, 2]'),\n",
       " Text(70.71522214129644, 132.88, 'X[3] <= 0.5\\ngini = 0.461\\nsamples = 61\\nvalue = [39, 22]'),\n",
       " Text(68.76445739257102, 124.82666666666667, 'X[1] <= -1.477\\ngini = 0.48\\nsamples = 40\\nvalue = [24, 16]'),\n",
       " Text(67.98415149308086, 116.77333333333334, 'X[1] <= -1.502\\ngini = 0.498\\nsamples = 32\\nvalue = [17, 15]'),\n",
       " Text(67.59399854333577, 108.72, 'gini = 0.0\\nsamples = 2\\nvalue = [2, 0]'),\n",
       " Text(68.37430444282593, 108.72, 'X[37] <= 0.5\\ngini = 0.5\\nsamples = 30\\nvalue = [15, 15]'),\n",
       " Text(67.98415149308086, 100.66666666666667, 'X[7] <= 0.5\\ngini = 0.499\\nsamples = 29\\nvalue = [15, 14]'),\n",
       " Text(66.42353969410051, 92.61333333333334, 'X[1] <= -1.492\\ngini = 0.444\\nsamples = 3\\nvalue = [1, 2]'),\n",
       " Text(66.03338674435544, 84.56, 'gini = 0.0\\nsamples = 1\\nvalue = [1, 0]'),\n",
       " Text(66.8136926438456, 84.56, 'gini = 0.0\\nsamples = 2\\nvalue = [0, 2]'),\n",
       " Text(69.54476329206119, 92.61333333333334, 'X[1] <= -1.492\\ngini = 0.497\\nsamples = 26\\nvalue = [14, 12]'),\n",
       " Text(67.59399854333577, 84.56, 'X[38] <= 0.5\\ngini = 0.496\\nsamples = 11\\nvalue = [5, 6]'),\n",
       " Text(67.20384559359069, 76.50666666666666, 'gini = 0.0\\nsamples = 2\\nvalue = [2, 0]'),\n",
       " Text(67.98415149308086, 76.50666666666666, 'X[1] <= -1.499\\ngini = 0.444\\nsamples = 9\\nvalue = [3, 6]'),\n",
       " Text(67.20384559359069, 68.45333333333335, 'X[9] <= 0.5\\ngini = 0.444\\nsamples = 3\\nvalue = [2, 1]'),\n",
       " Text(66.8136926438456, 60.400000000000006, 'gini = 0.0\\nsamples = 1\\nvalue = [1, 0]'),\n",
       " Text(67.59399854333577, 60.400000000000006, 'gini = 0.5\\nsamples = 2\\nvalue = [1, 1]'),\n",
       " Text(68.76445739257102, 68.45333333333335, 'X[1] <= -1.495\\ngini = 0.278\\nsamples = 6\\nvalue = [1, 5]'),\n",
       " Text(68.37430444282593, 60.400000000000006, 'gini = 0.0\\nsamples = 2\\nvalue = [0, 2]'),\n",
       " Text(69.1546103423161, 60.400000000000006, 'X[10] <= 0.5\\ngini = 0.375\\nsamples = 4\\nvalue = [1, 3]'),\n",
       " Text(68.76445739257102, 52.346666666666664, 'X[2] <= -0.992\\ngini = 0.444\\nsamples = 3\\nvalue = [1, 2]'),\n",
       " Text(68.37430444282593, 44.29333333333335, 'gini = 0.5\\nsamples = 2\\nvalue = [1, 1]'),\n",
       " Text(69.1546103423161, 44.29333333333335, 'gini = 0.0\\nsamples = 1\\nvalue = [0, 1]'),\n",
       " Text(69.54476329206119, 52.346666666666664, 'gini = 0.0\\nsamples = 1\\nvalue = [0, 1]'),\n",
       " Text(71.49552804078661, 84.56, 'X[38] <= 0.5\\ngini = 0.48\\nsamples = 15\\nvalue = [9, 6]'),\n",
       " Text(71.10537509104152, 76.50666666666666, 'gini = 0.0\\nsamples = 1\\nvalue = [0, 1]'),\n",
       " Text(71.8856809905317, 76.50666666666666, 'X[1] <= -1.483\\ngini = 0.459\\nsamples = 14\\nvalue = [9, 5]'),\n",
       " Text(71.10537509104152, 68.45333333333335, 'X[2] <= -0.992\\ngini = 0.245\\nsamples = 7\\nvalue = [6, 1]'),\n",
       " Text(70.71522214129644, 60.400000000000006, 'X[1] <= -1.487\\ngini = 0.375\\nsamples = 4\\nvalue = [3, 1]'),\n",
       " Text(70.32506919155135, 52.346666666666664, 'gini = 0.0\\nsamples = 2\\nvalue = [2, 0]'),\n",
       " Text(71.10537509104152, 52.346666666666664, 'gini = 0.5\\nsamples = 2\\nvalue = [1, 1]'),\n",
       " Text(71.49552804078661, 60.400000000000006, 'gini = 0.0\\nsamples = 3\\nvalue = [3, 0]'),\n",
       " Text(72.66598689002186, 68.45333333333335, 'X[1] <= -1.48\\ngini = 0.49\\nsamples = 7\\nvalue = [3, 4]'),\n",
       " Text(72.27583394027677, 60.400000000000006, 'gini = 0.0\\nsamples = 2\\nvalue = [0, 2]'),\n",
       " Text(73.05613983976694, 60.400000000000006, 'X[1] <= -1.478\\ngini = 0.48\\nsamples = 5\\nvalue = [3, 2]'),\n",
       " Text(72.66598689002186, 52.346666666666664, 'gini = 0.444\\nsamples = 3\\nvalue = [2, 1]'),\n",
       " Text(73.44629278951203, 52.346666666666664, 'gini = 0.5\\nsamples = 2\\nvalue = [1, 1]'),\n",
       " Text(68.76445739257102, 100.66666666666667, 'gini = 0.0\\nsamples = 1\\nvalue = [0, 1]'),\n",
       " Text(69.54476329206119, 116.77333333333334, 'X[2] <= -0.992\\ngini = 0.219\\nsamples = 8\\nvalue = [7, 1]'),\n",
       " Text(69.1546103423161, 108.72, 'gini = 0.0\\nsamples = 4\\nvalue = [4, 0]'),\n",
       " Text(69.93491624180628, 108.72, 'X[1] <= -1.462\\ngini = 0.375\\nsamples = 4\\nvalue = [3, 1]'),\n",
       " Text(69.54476329206119, 100.66666666666667, 'gini = 0.5\\nsamples = 2\\nvalue = [1, 1]'),\n",
       " Text(70.32506919155135, 100.66666666666667, 'gini = 0.0\\nsamples = 2\\nvalue = [2, 0]'),\n",
       " Text(72.66598689002186, 124.82666666666667, 'X[2] <= -0.992\\ngini = 0.408\\nsamples = 21\\nvalue = [15, 6]'),\n",
       " Text(71.8856809905317, 116.77333333333334, 'X[2] <= -0.992\\ngini = 0.231\\nsamples = 15\\nvalue = [13, 2]'),\n",
       " Text(71.49552804078661, 108.72, 'X[38] <= 0.5\\ngini = 0.5\\nsamples = 4\\nvalue = [2, 2]'),\n",
       " Text(71.10537509104152, 100.66666666666667, 'gini = 0.0\\nsamples = 1\\nvalue = [1, 0]'),\n",
       " Text(71.8856809905317, 100.66666666666667, 'X[10] <= 0.5\\ngini = 0.444\\nsamples = 3\\nvalue = [1, 2]'),\n",
       " Text(71.49552804078661, 92.61333333333334, 'gini = 0.5\\nsamples = 2\\nvalue = [1, 1]'),\n",
       " Text(72.27583394027677, 92.61333333333334, 'gini = 0.0\\nsamples = 1\\nvalue = [0, 1]'),\n",
       " Text(72.27583394027677, 108.72, 'gini = 0.0\\nsamples = 11\\nvalue = [11, 0]'),\n",
       " Text(73.44629278951203, 116.77333333333334, 'X[2] <= -0.992\\ngini = 0.444\\nsamples = 6\\nvalue = [2, 4]'),\n",
       " Text(73.05613983976694, 108.72, 'gini = 0.5\\nsamples = 2\\nvalue = [1, 1]'),\n",
       " Text(73.83644573925712, 108.72, 'X[2] <= -0.992\\ngini = 0.375\\nsamples = 4\\nvalue = [1, 3]'),\n",
       " Text(73.44629278951203, 100.66666666666667, 'gini = 0.0\\nsamples = 1\\nvalue = [0, 1]'),\n",
       " Text(74.22659868900219, 100.66666666666667, 'gini = 0.444\\nsamples = 3\\nvalue = [1, 2]'),\n",
       " Text(69.54476329206119, 148.98666666666668, 'gini = 0.0\\nsamples = 6\\nvalue = [6, 0]'),\n",
       " Text(76.5675163874727, 173.14666666666668, 'X[2] <= -0.984\\ngini = 0.222\\nsamples = 63\\nvalue = [55, 8]'),\n",
       " Text(75.00690458849236, 165.09333333333333, 'X[2] <= -0.984\\ngini = 0.346\\nsamples = 18\\nvalue = [14, 4]'),\n",
       " Text(74.61675163874727, 157.04, 'X[33] <= 0.5\\ngini = 0.291\\nsamples = 17\\nvalue = [14, 3]'),\n",
       " Text(73.83644573925712, 148.98666666666668, 'X[1] <= -1.483\\ngini = 0.444\\nsamples = 6\\nvalue = [4, 2]'),\n",
       " Text(73.44629278951203, 140.93333333333334, 'gini = 0.0\\nsamples = 1\\nvalue = [0, 1]'),\n",
       " Text(74.22659868900219, 140.93333333333334, 'X[3] <= 0.5\\ngini = 0.32\\nsamples = 5\\nvalue = [4, 1]'),\n",
       " Text(73.83644573925712, 132.88, 'X[2] <= -0.991\\ngini = 0.5\\nsamples = 2\\nvalue = [1, 1]'),\n",
       " Text(73.44629278951203, 124.82666666666667, 'gini = 0.0\\nsamples = 1\\nvalue = [1, 0]'),\n",
       " Text(74.22659868900219, 124.82666666666667, 'gini = 0.0\\nsamples = 1\\nvalue = [0, 1]'),\n",
       " Text(74.61675163874727, 132.88, 'gini = 0.0\\nsamples = 3\\nvalue = [3, 0]'),\n",
       " Text(75.39705753823745, 148.98666666666668, 'X[1] <= -1.476\\ngini = 0.165\\nsamples = 11\\nvalue = [10, 1]'),\n",
       " Text(75.00690458849236, 140.93333333333334, 'gini = 0.0\\nsamples = 6\\nvalue = [6, 0]'),\n",
       " Text(75.78721048798253, 140.93333333333334, 'X[2] <= -0.988\\ngini = 0.32\\nsamples = 5\\nvalue = [4, 1]'),\n",
       " Text(75.39705753823745, 132.88, 'gini = 0.0\\nsamples = 3\\nvalue = [3, 0]'),\n",
       " Text(76.1773634377276, 132.88, 'X[4] <= 0.5\\ngini = 0.5\\nsamples = 2\\nvalue = [1, 1]'),\n",
       " Text(75.78721048798253, 124.82666666666667, 'gini = 0.0\\nsamples = 1\\nvalue = [1, 0]'),\n",
       " Text(76.5675163874727, 124.82666666666667, 'gini = 0.0\\nsamples = 1\\nvalue = [0, 1]'),\n",
       " Text(75.39705753823745, 157.04, 'gini = 0.0\\nsamples = 1\\nvalue = [0, 1]'),\n",
       " Text(78.12812818645303, 165.09333333333333, 'X[36] <= 0.5\\ngini = 0.162\\nsamples = 45\\nvalue = [41, 4]'),\n",
       " Text(77.34782228696287, 157.04, 'X[2] <= -0.975\\ngini = 0.13\\nsamples = 43\\nvalue = [40, 3]'),\n",
       " Text(76.95766933721778, 148.98666666666668, 'gini = 0.0\\nsamples = 28\\nvalue = [28, 0]'),\n",
       " Text(77.73797523670795, 148.98666666666668, 'X[2] <= -0.974\\ngini = 0.32\\nsamples = 15\\nvalue = [12, 3]'),\n",
       " Text(77.34782228696287, 140.93333333333334, 'gini = 0.0\\nsamples = 2\\nvalue = [0, 2]'),\n",
       " Text(78.12812818645303, 140.93333333333334, 'X[1] <= -1.488\\ngini = 0.142\\nsamples = 13\\nvalue = [12, 1]'),\n",
       " Text(77.73797523670795, 132.88, 'X[1] <= -1.494\\ngini = 0.444\\nsamples = 3\\nvalue = [2, 1]'),\n",
       " Text(77.34782228696287, 124.82666666666667, 'gini = 0.0\\nsamples = 2\\nvalue = [2, 0]'),\n",
       " Text(78.12812818645303, 124.82666666666667, 'gini = 0.0\\nsamples = 1\\nvalue = [0, 1]'),\n",
       " Text(78.51828113619811, 132.88, 'gini = 0.0\\nsamples = 10\\nvalue = [10, 0]'),\n",
       " Text(78.9084340859432, 157.04, 'X[1] <= -1.464\\ngini = 0.5\\nsamples = 2\\nvalue = [1, 1]'),\n",
       " Text(78.51828113619811, 148.98666666666668, 'gini = 0.0\\nsamples = 1\\nvalue = [0, 1]'),\n",
       " Text(79.29858703568829, 148.98666666666668, 'gini = 0.0\\nsamples = 1\\nvalue = [1, 0]'),\n",
       " Text(89.04021849963584, 181.2, 'X[5] <= 0.5\\ngini = 0.497\\nsamples = 266\\nvalue = [122, 144]'),\n",
       " Text(82.078426802622, 173.14666666666668, 'X[2] <= -0.982\\ngini = 0.32\\nsamples = 25\\nvalue = [5, 20]'),\n",
       " Text(81.68827385287692, 165.09333333333333, 'gini = 0.0\\nsamples = 7\\nvalue = [0, 7]'),\n",
       " Text(82.46857975236709, 165.09333333333333, 'X[1] <= -0.685\\ngini = 0.401\\nsamples = 18\\nvalue = [5, 13]'),\n",
       " Text(82.078426802622, 157.04, 'gini = 0.0\\nsamples = 2\\nvalue = [2, 0]'),\n",
       " Text(82.85873270211218, 157.04, 'X[3] <= 0.5\\ngini = 0.305\\nsamples = 16\\nvalue = [3, 13]'),\n",
       " Text(82.46857975236709, 148.98666666666668, 'X[2] <= -0.98\\ngini = 0.42\\nsamples = 10\\nvalue = [3, 7]'),\n",
       " Text(81.68827385287692, 140.93333333333334, 'X[2] <= -0.981\\ngini = 0.444\\nsamples = 3\\nvalue = [2, 1]'),\n",
       " Text(81.29812090313183, 132.88, 'gini = 0.0\\nsamples = 1\\nvalue = [0, 1]'),\n",
       " Text(82.078426802622, 132.88, 'gini = 0.0\\nsamples = 2\\nvalue = [2, 0]'),\n",
       " Text(83.24888565185725, 140.93333333333334, 'X[2] <= -0.956\\ngini = 0.245\\nsamples = 7\\nvalue = [1, 6]'),\n",
       " Text(82.85873270211218, 132.88, 'gini = 0.0\\nsamples = 6\\nvalue = [0, 6]'),\n",
       " Text(83.63903860160234, 132.88, 'gini = 0.0\\nsamples = 1\\nvalue = [1, 0]'),\n",
       " Text(83.24888565185725, 148.98666666666668, 'gini = 0.0\\nsamples = 6\\nvalue = [0, 6]'),\n",
       " Text(96.00201019664968, 173.14666666666668, 'X[2] <= -0.914\\ngini = 0.5\\nsamples = 241\\nvalue = [117, 124]'),\n",
       " Text(95.61185724690459, 165.09333333333333, 'X[29] <= 0.5\\ngini = 0.499\\nsamples = 236\\nvalue = [112, 124]'),\n",
       " Text(90.22286962855063, 157.04, 'X[1] <= -0.022\\ngini = 0.5\\nsamples = 197\\nvalue = [99, 98]'),\n",
       " Text(89.83271667880554, 148.98666666666668, 'X[1] <= -0.475\\ngini = 0.5\\nsamples = 195\\nvalue = [97, 98]'),\n",
       " Text(84.8094974508376, 140.93333333333334, 'X[1] <= -0.487\\ngini = 0.498\\nsamples = 145\\nvalue = [77, 68]'),\n",
       " Text(84.41934450109251, 132.88, 'X[33] <= 0.5\\ngini = 0.5\\nsamples = 137\\nvalue = [69, 68]'),\n",
       " Text(78.9084340859432, 124.82666666666667, 'X[18] <= 0.5\\ngini = 0.49\\nsamples = 70\\nvalue = [30, 40]'),\n",
       " Text(78.51828113619811, 116.77333333333334, 'gini = 0.0\\nsamples = 3\\nvalue = [0, 3]'),\n",
       " Text(79.29858703568829, 116.77333333333334, 'X[1] <= -1.342\\ngini = 0.495\\nsamples = 67\\nvalue = [30, 37]'),\n",
       " Text(78.9084340859432, 108.72, 'gini = 0.0\\nsamples = 2\\nvalue = [0, 2]'),\n",
       " Text(79.68873998543337, 108.72, 'X[2] <= -0.99\\ngini = 0.497\\nsamples = 65\\nvalue = [30, 35]'),\n",
       " Text(79.29858703568829, 100.66666666666667, 'gini = 0.0\\nsamples = 2\\nvalue = [2, 0]'),\n",
       " Text(80.07889293517844, 100.66666666666667, 'X[22] <= 0.5\\ngini = 0.494\\nsamples = 63\\nvalue = [28, 35]'),\n",
       " Text(79.68873998543337, 92.61333333333334, 'gini = 0.0\\nsamples = 2\\nvalue = [0, 2]'),\n",
       " Text(80.46904588492353, 92.61333333333334, 'X[1] <= -1.324\\ngini = 0.497\\nsamples = 61\\nvalue = [28, 33]'),\n",
       " Text(80.07889293517844, 84.56, 'gini = 0.0\\nsamples = 2\\nvalue = [0, 2]'),\n",
       " Text(80.85919883466862, 84.56, 'X[1] <= -1.32\\ngini = 0.499\\nsamples = 59\\nvalue = [28, 31]'),\n",
       " Text(80.46904588492353, 76.50666666666666, 'gini = 0.0\\nsamples = 2\\nvalue = [2, 0]'),\n",
       " Text(81.2493517844137, 76.50666666666666, 'X[1] <= -1.162\\ngini = 0.496\\nsamples = 57\\nvalue = [26, 31]'),\n",
       " Text(80.32273852876912, 68.45333333333335, 'X[37] <= 0.5\\ngini = 0.278\\nsamples = 6\\nvalue = [1, 5]'),\n",
       " Text(79.93258557902405, 60.400000000000006, 'X[2] <= -0.99\\ngini = 0.5\\nsamples = 2\\nvalue = [1, 1]'),\n",
       " Text(79.54243262927896, 52.346666666666664, 'gini = 0.0\\nsamples = 1\\nvalue = [0, 1]'),\n",
       " Text(80.32273852876912, 52.346666666666664, 'gini = 0.0\\nsamples = 1\\nvalue = [1, 0]'),\n",
       " Text(80.71289147851421, 60.400000000000006, 'gini = 0.0\\nsamples = 4\\nvalue = [0, 4]'),\n",
       " Text(82.17596504005827, 68.45333333333335, 'X[1] <= -1.134\\ngini = 0.5\\nsamples = 51\\nvalue = [25, 26]'),\n",
       " Text(81.78581209031319, 60.400000000000006, 'gini = 0.0\\nsamples = 3\\nvalue = [3, 0]'),\n",
       " Text(82.56611798980336, 60.400000000000006, 'X[2] <= -0.981\\ngini = 0.497\\nsamples = 48\\nvalue = [22, 26]'),\n",
       " Text(81.1030444282593, 52.346666666666664, 'X[1] <= -0.708\\ngini = 0.459\\nsamples = 14\\nvalue = [9, 5]'),\n",
       " Text(80.71289147851421, 44.29333333333335, 'gini = 0.0\\nsamples = 2\\nvalue = [0, 2]'),\n",
       " Text(81.49319737800438, 44.29333333333335, 'X[10] <= 0.5\\ngini = 0.375\\nsamples = 12\\nvalue = [9, 3]'),\n",
       " Text(81.1030444282593, 36.24000000000001, 'X[4] <= 0.5\\ngini = 0.18\\nsamples = 10\\nvalue = [9, 1]'),\n",
       " Text(80.71289147851421, 28.186666666666667, 'X[2] <= -0.981\\ngini = 0.444\\nsamples = 3\\nvalue = [2, 1]'),\n",
       " Text(80.32273852876912, 20.133333333333354, 'gini = 0.0\\nsamples = 2\\nvalue = [2, 0]'),\n",
       " Text(81.1030444282593, 20.133333333333354, 'gini = 0.0\\nsamples = 1\\nvalue = [0, 1]'),\n",
       " Text(81.49319737800438, 28.186666666666667, 'gini = 0.0\\nsamples = 7\\nvalue = [7, 0]'),\n",
       " Text(81.88335032774947, 36.24000000000001, 'gini = 0.0\\nsamples = 2\\nvalue = [0, 2]'),\n",
       " Text(84.02919155134742, 52.346666666666664, 'X[2] <= -0.98\\ngini = 0.472\\nsamples = 34\\nvalue = [13, 21]'),\n",
       " Text(83.05380917698471, 44.29333333333335, 'X[2] <= -0.981\\ngini = 0.298\\nsamples = 11\\nvalue = [2, 9]'),\n",
       " Text(82.66365622723963, 36.24000000000001, 'X[2] <= -0.981\\ngini = 0.444\\nsamples = 6\\nvalue = [2, 4]'),\n",
       " Text(82.27350327749454, 28.186666666666667, 'gini = 0.0\\nsamples = 3\\nvalue = [0, 3]'),\n",
       " Text(83.05380917698471, 28.186666666666667, 'X[4] <= 0.5\\ngini = 0.444\\nsamples = 3\\nvalue = [2, 1]'),\n",
       " Text(82.66365622723963, 20.133333333333354, 'gini = 0.5\\nsamples = 2\\nvalue = [1, 1]'),\n",
       " Text(83.4439621267298, 20.133333333333354, 'gini = 0.0\\nsamples = 1\\nvalue = [1, 0]'),\n",
       " Text(83.4439621267298, 36.24000000000001, 'gini = 0.0\\nsamples = 5\\nvalue = [0, 5]'),\n",
       " Text(85.00457392571013, 44.29333333333335, 'X[2] <= -0.979\\ngini = 0.499\\nsamples = 23\\nvalue = [11, 12]'),\n",
       " Text(84.22426802621996, 36.24000000000001, 'X[38] <= 0.5\\ngini = 0.278\\nsamples = 6\\nvalue = [5, 1]'),\n",
       " Text(83.83411507647489, 28.186666666666667, 'gini = 0.0\\nsamples = 5\\nvalue = [5, 0]'),\n",
       " Text(84.61442097596505, 28.186666666666667, 'gini = 0.0\\nsamples = 1\\nvalue = [0, 1]'),\n",
       " Text(85.7848798252003, 36.24000000000001, 'X[1] <= -0.56\\ngini = 0.457\\nsamples = 17\\nvalue = [6, 11]'),\n",
       " Text(85.39472687545522, 28.186666666666667, 'X[1] <= -0.645\\ngini = 0.5\\nsamples = 12\\nvalue = [6, 6]'),\n",
       " Text(84.61442097596505, 20.133333333333354, 'X[26] <= 0.5\\ngini = 0.408\\nsamples = 7\\nvalue = [2, 5]'),\n",
       " Text(84.22426802621996, 12.080000000000013, 'gini = 0.0\\nsamples = 1\\nvalue = [1, 0]'),\n",
       " Text(85.00457392571013, 12.080000000000013, 'X[10] <= 0.5\\ngini = 0.278\\nsamples = 6\\nvalue = [1, 5]'),\n",
       " Text(84.61442097596505, 4.026666666666671, 'gini = 0.0\\nsamples = 5\\nvalue = [0, 5]'),\n",
       " Text(85.39472687545522, 4.026666666666671, 'gini = 0.0\\nsamples = 1\\nvalue = [1, 0]'),\n",
       " Text(86.17503277494538, 20.133333333333354, 'X[36] <= 0.5\\ngini = 0.32\\nsamples = 5\\nvalue = [4, 1]'),\n",
       " Text(85.7848798252003, 12.080000000000013, 'gini = 0.0\\nsamples = 4\\nvalue = [4, 0]'),\n",
       " Text(86.56518572469047, 12.080000000000013, 'gini = 0.0\\nsamples = 1\\nvalue = [0, 1]'),\n",
       " Text(86.17503277494538, 28.186666666666667, 'gini = 0.0\\nsamples = 5\\nvalue = [0, 5]'),\n",
       " Text(89.93025491624182, 124.82666666666667, 'X[1] <= -0.522\\ngini = 0.487\\nsamples = 67\\nvalue = [39, 28]'),\n",
       " Text(89.54010196649674, 116.77333333333334, 'X[1] <= -0.631\\ngini = 0.497\\nsamples = 61\\nvalue = [33, 28]'),\n",
       " Text(87.63810633648944, 108.72, 'X[7] <= 0.5\\ngini = 0.473\\nsamples = 52\\nvalue = [32, 20]'),\n",
       " Text(85.00457392571013, 100.66666666666667, 'X[1] <= -1.174\\ngini = 0.444\\nsamples = 9\\nvalue = [3, 6]'),\n",
       " Text(84.61442097596505, 92.61333333333334, 'gini = 0.0\\nsamples = 1\\nvalue = [1, 0]'),\n",
       " Text(85.39472687545522, 92.61333333333334, 'X[3] <= 0.5\\ngini = 0.375\\nsamples = 8\\nvalue = [2, 6]'),\n",
       " Text(85.00457392571013, 84.56, 'X[2] <= -0.984\\ngini = 0.5\\nsamples = 4\\nvalue = [2, 2]'),\n",
       " Text(84.61442097596505, 76.50666666666666, 'gini = 0.0\\nsamples = 1\\nvalue = [0, 1]'),\n",
       " Text(85.39472687545522, 76.50666666666666, 'X[1] <= -0.666\\ngini = 0.444\\nsamples = 3\\nvalue = [2, 1]'),\n",
       " Text(85.00457392571013, 68.45333333333335, 'gini = 0.0\\nsamples = 2\\nvalue = [2, 0]'),\n",
       " Text(85.7848798252003, 68.45333333333335, 'gini = 0.0\\nsamples = 1\\nvalue = [0, 1]'),\n",
       " Text(85.7848798252003, 84.56, 'gini = 0.0\\nsamples = 4\\nvalue = [0, 4]'),\n",
       " Text(90.27163874726877, 100.66666666666667, 'X[2] <= -0.965\\ngini = 0.439\\nsamples = 43\\nvalue = [29, 14]'),\n",
       " Text(89.88148579752368, 92.61333333333334, 'X[2] <= -0.978\\ngini = 0.48\\nsamples = 35\\nvalue = [21, 14]'),\n",
       " Text(88.1257975236708, 84.56, 'X[1] <= -0.68\\ngini = 0.428\\nsamples = 29\\nvalue = [20, 9]'),\n",
       " Text(86.95533867443555, 76.50666666666666, 'X[2] <= -0.988\\ngini = 0.332\\nsamples = 19\\nvalue = [15, 4]'),\n",
       " Text(86.56518572469047, 68.45333333333335, 'X[38] <= 0.5\\ngini = 0.48\\nsamples = 10\\nvalue = [6, 4]'),\n",
       " Text(85.7848798252003, 60.400000000000006, 'X[2] <= -0.99\\ngini = 0.375\\nsamples = 4\\nvalue = [1, 3]'),\n",
       " Text(85.39472687545522, 52.346666666666664, 'gini = 0.0\\nsamples = 2\\nvalue = [0, 2]'),\n",
       " Text(86.17503277494538, 52.346666666666664, 'X[35] <= 0.5\\ngini = 0.5\\nsamples = 2\\nvalue = [1, 1]'),\n",
       " Text(85.7848798252003, 44.29333333333335, 'gini = 0.0\\nsamples = 1\\nvalue = [1, 0]'),\n",
       " Text(86.56518572469047, 44.29333333333335, 'gini = 0.0\\nsamples = 1\\nvalue = [0, 1]'),\n",
       " Text(87.34549162418064, 60.400000000000006, 'X[19] <= 0.5\\ngini = 0.278\\nsamples = 6\\nvalue = [5, 1]'),\n",
       " Text(86.95533867443555, 52.346666666666664, 'gini = 0.0\\nsamples = 4\\nvalue = [4, 0]'),\n",
       " Text(87.73564457392573, 52.346666666666664, 'X[3] <= 0.5\\ngini = 0.5\\nsamples = 2\\nvalue = [1, 1]'),\n",
       " Text(87.34549162418064, 44.29333333333335, 'gini = 0.0\\nsamples = 1\\nvalue = [0, 1]'),\n",
       " Text(88.1257975236708, 44.29333333333335, 'gini = 0.0\\nsamples = 1\\nvalue = [1, 0]'),\n",
       " Text(87.34549162418064, 68.45333333333335, 'gini = 0.0\\nsamples = 9\\nvalue = [9, 0]'),\n",
       " Text(89.29625637290606, 76.50666666666666, 'X[4] <= 0.5\\ngini = 0.5\\nsamples = 10\\nvalue = [5, 5]'),\n",
       " Text(88.51595047341588, 68.45333333333335, 'X[2] <= -0.981\\ngini = 0.32\\nsamples = 5\\nvalue = [4, 1]'),\n",
       " Text(88.1257975236708, 60.400000000000006, 'gini = 0.0\\nsamples = 1\\nvalue = [0, 1]'),\n",
       " Text(88.90610342316097, 60.400000000000006, 'gini = 0.0\\nsamples = 4\\nvalue = [4, 0]'),\n",
       " Text(90.07656227239622, 68.45333333333335, 'X[1] <= -0.639\\ngini = 0.32\\nsamples = 5\\nvalue = [1, 4]'),\n",
       " Text(89.68640932265114, 60.400000000000006, 'gini = 0.0\\nsamples = 4\\nvalue = [0, 4]'),\n",
       " Text(90.4667152221413, 60.400000000000006, 'gini = 0.0\\nsamples = 1\\nvalue = [1, 0]'),\n",
       " Text(91.63717407137656, 84.56, 'X[1] <= -1.313\\ngini = 0.278\\nsamples = 6\\nvalue = [1, 5]'),\n",
       " Text(91.24702112163148, 76.50666666666666, 'X[1] <= -1.322\\ngini = 0.5\\nsamples = 2\\nvalue = [1, 1]'),\n",
       " Text(90.85686817188639, 68.45333333333335, 'gini = 0.0\\nsamples = 1\\nvalue = [0, 1]'),\n",
       " Text(91.63717407137656, 68.45333333333335, 'gini = 0.0\\nsamples = 1\\nvalue = [1, 0]'),\n",
       " Text(92.02732702112164, 76.50666666666666, 'gini = 0.0\\nsamples = 4\\nvalue = [0, 4]'),\n",
       " Text(90.66179169701385, 92.61333333333334, 'gini = 0.0\\nsamples = 8\\nvalue = [8, 0]'),\n",
       " Text(91.44209759650401, 108.72, 'X[18] <= 0.5\\ngini = 0.198\\nsamples = 9\\nvalue = [1, 8]'),\n",
       " Text(91.05194464675893, 100.66666666666667, 'gini = 0.0\\nsamples = 1\\nvalue = [1, 0]'),\n",
       " Text(91.8322505462491, 100.66666666666667, 'gini = 0.0\\nsamples = 8\\nvalue = [0, 8]'),\n",
       " Text(90.3204078659869, 116.77333333333334, 'gini = 0.0\\nsamples = 6\\nvalue = [6, 0]'),\n",
       " Text(85.19965040058267, 132.88, 'gini = 0.0\\nsamples = 8\\nvalue = [8, 0]'),\n",
       " Text(94.8559359067735, 140.93333333333334, 'X[18] <= 0.5\\ngini = 0.48\\nsamples = 50\\nvalue = [20, 30]'),\n",
       " Text(93.00270939548435, 132.88, 'X[2] <= -0.958\\ngini = 0.484\\nsamples = 17\\nvalue = [10, 7]'),\n",
       " Text(92.22240349599419, 124.82666666666667, 'X[37] <= 0.5\\ngini = 0.32\\nsamples = 10\\nvalue = [8, 2]'),\n",
       " Text(91.8322505462491, 116.77333333333334, 'gini = 0.0\\nsamples = 6\\nvalue = [6, 0]'),\n",
       " Text(92.61255644573927, 116.77333333333334, 'X[34] <= 0.5\\ngini = 0.5\\nsamples = 4\\nvalue = [2, 2]'),\n",
       " Text(92.22240349599419, 108.72, 'gini = 0.0\\nsamples = 2\\nvalue = [2, 0]'),\n",
       " Text(93.00270939548435, 108.72, 'gini = 0.0\\nsamples = 2\\nvalue = [0, 2]'),\n",
       " Text(93.78301529497452, 124.82666666666667, 'X[1] <= -0.3\\ngini = 0.408\\nsamples = 7\\nvalue = [2, 5]'),\n",
       " Text(93.39286234522943, 116.77333333333334, 'gini = 0.0\\nsamples = 4\\nvalue = [0, 4]'),\n",
       " Text(94.1731682447196, 116.77333333333334, 'X[7] <= 0.5\\ngini = 0.444\\nsamples = 3\\nvalue = [2, 1]'),\n",
       " Text(93.78301529497452, 108.72, 'gini = 0.0\\nsamples = 1\\nvalue = [0, 1]'),\n",
       " Text(94.56332119446469, 108.72, 'gini = 0.0\\nsamples = 2\\nvalue = [2, 0]'),\n",
       " Text(96.70916241806265, 132.88, 'X[1] <= -0.359\\ngini = 0.422\\nsamples = 33\\nvalue = [10, 23]'),\n",
       " Text(95.34362709395485, 124.82666666666667, 'X[14] <= 0.5\\ngini = 0.133\\nsamples = 14\\nvalue = [1, 13]'),\n",
       " Text(94.95347414420976, 116.77333333333334, 'gini = 0.0\\nsamples = 11\\nvalue = [0, 11]'),\n",
       " Text(95.73378004369994, 116.77333333333334, 'X[33] <= 0.5\\ngini = 0.444\\nsamples = 3\\nvalue = [1, 2]'),\n",
       " Text(95.34362709395485, 108.72, 'gini = 0.0\\nsamples = 2\\nvalue = [0, 2]'),\n",
       " Text(96.12393299344502, 108.72, 'gini = 0.0\\nsamples = 1\\nvalue = [1, 0]'),\n",
       " Text(98.07469774217044, 124.82666666666667, 'X[3] <= 0.5\\ngini = 0.499\\nsamples = 19\\nvalue = [9, 10]'),\n",
       " Text(97.29439184268027, 116.77333333333334, 'X[1] <= -0.343\\ngini = 0.346\\nsamples = 9\\nvalue = [2, 7]'),\n",
       " Text(96.90423889293518, 108.72, 'gini = 0.0\\nsamples = 1\\nvalue = [1, 0]'),\n",
       " Text(97.68454479242536, 108.72, 'X[8] <= 0.5\\ngini = 0.219\\nsamples = 8\\nvalue = [1, 7]'),\n",
       " Text(97.29439184268027, 100.66666666666667, 'gini = 0.0\\nsamples = 6\\nvalue = [0, 6]'),\n",
       " Text(98.07469774217044, 100.66666666666667, 'X[10] <= 0.5\\ngini = 0.5\\nsamples = 2\\nvalue = [1, 1]'),\n",
       " Text(97.68454479242536, 92.61333333333334, 'gini = 0.0\\nsamples = 1\\nvalue = [1, 0]'),\n",
       " Text(98.46485069191553, 92.61333333333334, 'gini = 0.0\\nsamples = 1\\nvalue = [0, 1]'),\n",
       " Text(98.8550036416606, 116.77333333333334, 'X[1] <= -0.327\\ngini = 0.42\\nsamples = 10\\nvalue = [7, 3]'),\n",
       " Text(98.46485069191553, 108.72, 'gini = 0.0\\nsamples = 4\\nvalue = [4, 0]'),\n",
       " Text(99.24515659140569, 108.72, 'X[1] <= -0.313\\ngini = 0.5\\nsamples = 6\\nvalue = [3, 3]'),\n",
       " Text(98.8550036416606, 100.66666666666667, 'gini = 0.0\\nsamples = 2\\nvalue = [0, 2]'),\n",
       " Text(99.63530954115078, 100.66666666666667, 'X[24] <= 0.5\\ngini = 0.375\\nsamples = 4\\nvalue = [3, 1]'),\n",
       " Text(99.24515659140569, 92.61333333333334, 'gini = 0.0\\nsamples = 1\\nvalue = [0, 1]'),\n",
       " Text(100.02546249089586, 92.61333333333334, 'gini = 0.0\\nsamples = 3\\nvalue = [3, 0]'),\n",
       " Text(90.61302257829571, 148.98666666666668, 'gini = 0.0\\nsamples = 2\\nvalue = [2, 0]'),\n",
       " Text(101.00084486525857, 157.04, 'X[1] <= -0.454\\ngini = 0.444\\nsamples = 39\\nvalue = [13, 26]'),\n",
       " Text(99.63530954115078, 148.98666666666668, 'X[9] <= 0.5\\ngini = 0.231\\nsamples = 15\\nvalue = [2, 13]'),\n",
       " Text(99.24515659140569, 140.93333333333334, 'gini = 0.0\\nsamples = 1\\nvalue = [1, 0]'),\n",
       " Text(100.02546249089586, 140.93333333333334, 'X[2] <= -0.985\\ngini = 0.133\\nsamples = 14\\nvalue = [1, 13]'),\n",
       " Text(99.63530954115078, 132.88, 'gini = 0.0\\nsamples = 1\\nvalue = [1, 0]'),\n",
       " Text(100.41561544064095, 132.88, 'gini = 0.0\\nsamples = 13\\nvalue = [0, 13]'),\n",
       " Text(102.36638018936637, 148.98666666666668, 'X[4] <= 0.5\\ngini = 0.497\\nsamples = 24\\nvalue = [11, 13]'),\n",
       " Text(101.5860742898762, 140.93333333333334, 'X[2] <= -0.946\\ngini = 0.426\\nsamples = 13\\nvalue = [4, 9]'),\n",
       " Text(101.19592134013111, 132.88, 'X[0] <= -1.249\\ngini = 0.494\\nsamples = 9\\nvalue = [4, 5]'),\n",
       " Text(100.80576839038602, 124.82666666666667, 'X[1] <= -0.293\\ngini = 0.278\\nsamples = 6\\nvalue = [1, 5]'),\n",
       " Text(100.41561544064095, 116.77333333333334, 'X[2] <= -0.976\\ngini = 0.444\\nsamples = 3\\nvalue = [1, 2]'),\n",
       " Text(100.02546249089586, 108.72, 'gini = 0.0\\nsamples = 2\\nvalue = [0, 2]'),\n",
       " Text(100.80576839038602, 108.72, 'gini = 0.0\\nsamples = 1\\nvalue = [1, 0]'),\n",
       " Text(101.19592134013111, 116.77333333333334, 'gini = 0.0\\nsamples = 3\\nvalue = [0, 3]'),\n",
       " Text(101.5860742898762, 124.82666666666667, 'gini = 0.0\\nsamples = 3\\nvalue = [3, 0]'),\n",
       " Text(101.97622723962128, 132.88, 'gini = 0.0\\nsamples = 4\\nvalue = [0, 4]'),\n",
       " Text(103.14668608885653, 140.93333333333334, 'X[2] <= -0.977\\ngini = 0.463\\nsamples = 11\\nvalue = [7, 4]'),\n",
       " Text(102.75653313911144, 132.88, 'gini = 0.0\\nsamples = 1\\nvalue = [0, 1]'),\n",
       " Text(103.53683903860161, 132.88, 'X[14] <= 0.5\\ngini = 0.42\\nsamples = 10\\nvalue = [7, 3]'),\n",
       " Text(103.14668608885653, 124.82666666666667, 'X[2] <= -0.917\\ngini = 0.346\\nsamples = 9\\nvalue = [7, 2]'),\n",
       " Text(102.75653313911144, 116.77333333333334, 'X[2] <= -0.975\\ngini = 0.219\\nsamples = 8\\nvalue = [7, 1]'),\n",
       " Text(102.36638018936637, 108.72, 'X[37] <= 0.5\\ngini = 0.5\\nsamples = 2\\nvalue = [1, 1]'),\n",
       " Text(101.97622723962128, 100.66666666666667, 'gini = 0.0\\nsamples = 1\\nvalue = [0, 1]'),\n",
       " Text(102.75653313911144, 100.66666666666667, 'gini = 0.0\\nsamples = 1\\nvalue = [1, 0]'),\n",
       " Text(103.14668608885653, 108.72, 'gini = 0.0\\nsamples = 6\\nvalue = [6, 0]'),\n",
       " Text(103.53683903860161, 116.77333333333334, 'gini = 0.0\\nsamples = 1\\nvalue = [0, 1]'),\n",
       " Text(103.9269919883467, 124.82666666666667, 'gini = 0.0\\nsamples = 1\\nvalue = [0, 1]'),\n",
       " Text(96.39216314639476, 165.09333333333333, 'gini = 0.0\\nsamples = 5\\nvalue = [5, 0]'),\n",
       " Text(132.3929169701384, 189.25333333333333, 'X[12] <= 0.5\\ngini = 0.311\\nsamples = 878\\nvalue = [709, 169]'),\n",
       " Text(110.90097596504008, 181.2, 'X[9] <= 0.5\\ngini = 0.424\\nsamples = 210\\nvalue = [146, 64]'),\n",
       " Text(106.2679096868172, 173.14666666666668, 'X[34] <= 0.5\\ngini = 0.268\\nsamples = 44\\nvalue = [37, 7]'),\n",
       " Text(104.31714493809179, 165.09333333333333, 'X[5] <= 0.5\\ngini = 0.401\\nsamples = 18\\nvalue = [13, 5]'),\n",
       " Text(103.9269919883467, 157.04, 'gini = 0.0\\nsamples = 1\\nvalue = [0, 1]'),\n",
       " Text(104.70729788783686, 157.04, 'X[0] <= -1.005\\ngini = 0.36\\nsamples = 17\\nvalue = [13, 4]'),\n",
       " Text(104.31714493809179, 148.98666666666668, 'gini = 0.0\\nsamples = 5\\nvalue = [5, 0]'),\n",
       " Text(105.09745083758195, 148.98666666666668, 'X[2] <= -0.862\\ngini = 0.444\\nsamples = 12\\nvalue = [8, 4]'),\n",
       " Text(104.70729788783686, 140.93333333333334, 'gini = 0.0\\nsamples = 2\\nvalue = [0, 2]'),\n",
       " Text(105.48760378732703, 140.93333333333334, 'X[1] <= -0.457\\ngini = 0.32\\nsamples = 10\\nvalue = [8, 2]'),\n",
       " Text(105.09745083758195, 132.88, 'X[41] <= 0.5\\ngini = 0.198\\nsamples = 9\\nvalue = [8, 1]'),\n",
       " Text(104.70729788783686, 124.82666666666667, 'gini = 0.0\\nsamples = 7\\nvalue = [7, 0]'),\n",
       " Text(105.48760378732703, 124.82666666666667, 'X[23] <= 0.5\\ngini = 0.5\\nsamples = 2\\nvalue = [1, 1]'),\n",
       " Text(105.09745083758195, 116.77333333333334, 'gini = 0.0\\nsamples = 1\\nvalue = [1, 0]'),\n",
       " Text(105.87775673707212, 116.77333333333334, 'gini = 0.0\\nsamples = 1\\nvalue = [0, 1]'),\n",
       " Text(105.87775673707212, 132.88, 'gini = 0.0\\nsamples = 1\\nvalue = [0, 1]'),\n",
       " Text(108.21867443554262, 165.09333333333333, 'X[0] <= -0.558\\ngini = 0.142\\nsamples = 26\\nvalue = [24, 2]'),\n",
       " Text(107.82852148579754, 157.04, 'X[2] <= -0.757\\ngini = 0.32\\nsamples = 10\\nvalue = [8, 2]'),\n",
       " Text(107.43836853605245, 148.98666666666668, 'X[20] <= 0.5\\ngini = 0.198\\nsamples = 9\\nvalue = [8, 1]'),\n",
       " Text(107.04821558630736, 140.93333333333334, 'X[4] <= 0.5\\ngini = 0.444\\nsamples = 3\\nvalue = [2, 1]'),\n",
       " Text(106.65806263656228, 132.88, 'gini = 0.0\\nsamples = 2\\nvalue = [2, 0]'),\n",
       " Text(107.43836853605245, 132.88, 'gini = 0.0\\nsamples = 1\\nvalue = [0, 1]'),\n",
       " Text(107.82852148579754, 140.93333333333334, 'gini = 0.0\\nsamples = 6\\nvalue = [6, 0]'),\n",
       " Text(108.21867443554262, 148.98666666666668, 'gini = 0.0\\nsamples = 1\\nvalue = [0, 1]'),\n",
       " Text(108.6088273852877, 157.04, 'gini = 0.0\\nsamples = 16\\nvalue = [16, 0]'),\n",
       " Text(115.53404224326295, 173.14666666666668, 'X[37] <= 0.5\\ngini = 0.451\\nsamples = 166\\nvalue = [109, 57]'),\n",
       " Text(110.90097596504008, 165.09333333333333, 'X[1] <= -1.343\\ngini = 0.378\\nsamples = 87\\nvalue = [65, 22]'),\n",
       " Text(110.51082301529499, 157.04, 'gini = 0.0\\nsamples = 1\\nvalue = [0, 1]'),\n",
       " Text(111.29112891478515, 157.04, 'X[1] <= -0.362\\ngini = 0.369\\nsamples = 86\\nvalue = [65, 21]'),\n",
       " Text(110.07190094683176, 148.98666666666668, 'X[1] <= -0.508\\ngini = 0.341\\nsamples = 78\\nvalue = [61, 17]'),\n",
       " Text(109.68174799708669, 140.93333333333334, 'X[1] <= -0.945\\ngini = 0.375\\nsamples = 68\\nvalue = [51, 17]'),\n",
       " Text(108.41375091041516, 132.88, 'X[38] <= 0.5\\ngini = 0.287\\nsamples = 46\\nvalue = [38, 8]'),\n",
       " Text(107.04821558630736, 124.82666666666667, 'X[26] <= 0.5\\ngini = 0.403\\nsamples = 25\\nvalue = [18, 7]'),\n",
       " Text(106.65806263656228, 116.77333333333334, 'gini = 0.0\\nsamples = 2\\nvalue = [0, 2]'),\n",
       " Text(107.43836853605245, 116.77333333333334, 'X[40] <= 0.5\\ngini = 0.34\\nsamples = 23\\nvalue = [18, 5]'),\n",
       " Text(106.65806263656228, 108.72, 'X[2] <= -0.943\\ngini = 0.255\\nsamples = 20\\nvalue = [17, 3]'),\n",
       " Text(106.2679096868172, 100.66666666666667, 'gini = 0.0\\nsamples = 1\\nvalue = [0, 1]'),\n",
       " Text(107.04821558630736, 100.66666666666667, 'X[20] <= 0.5\\ngini = 0.188\\nsamples = 19\\nvalue = [17, 2]'),\n",
       " Text(106.65806263656228, 92.61333333333334, 'X[33] <= 0.5\\ngini = 0.408\\nsamples = 7\\nvalue = [5, 2]'),\n",
       " Text(106.2679096868172, 84.56, 'X[22] <= 0.5\\ngini = 0.278\\nsamples = 6\\nvalue = [5, 1]'),\n",
       " Text(105.87775673707212, 76.50666666666666, 'X[8] <= 0.5\\ngini = 0.444\\nsamples = 3\\nvalue = [2, 1]'),\n",
       " Text(105.48760378732703, 68.45333333333335, 'gini = 0.0\\nsamples = 1\\nvalue = [0, 1]'),\n",
       " Text(106.2679096868172, 68.45333333333335, 'gini = 0.0\\nsamples = 2\\nvalue = [2, 0]'),\n",
       " Text(106.65806263656228, 76.50666666666666, 'gini = 0.0\\nsamples = 3\\nvalue = [3, 0]'),\n",
       " Text(107.04821558630736, 84.56, 'gini = 0.0\\nsamples = 1\\nvalue = [0, 1]'),\n",
       " Text(107.43836853605245, 92.61333333333334, 'gini = 0.0\\nsamples = 12\\nvalue = [12, 0]'),\n",
       " Text(108.21867443554262, 108.72, 'X[25] <= 0.5\\ngini = 0.444\\nsamples = 3\\nvalue = [1, 2]'),\n",
       " Text(107.82852148579754, 100.66666666666667, 'gini = 0.0\\nsamples = 2\\nvalue = [0, 2]'),\n",
       " Text(108.6088273852877, 100.66666666666667, 'gini = 0.0\\nsamples = 1\\nvalue = [1, 0]'),\n",
       " Text(109.77928623452296, 124.82666666666667, 'X[2] <= -0.888\\ngini = 0.091\\nsamples = 21\\nvalue = [20, 1]'),\n",
       " Text(109.38913328477787, 116.77333333333334, 'X[2] <= -0.894\\ngini = 0.245\\nsamples = 7\\nvalue = [6, 1]'),\n",
       " Text(108.99898033503278, 108.72, 'gini = 0.0\\nsamples = 6\\nvalue = [6, 0]'),\n",
       " Text(109.77928623452296, 108.72, 'gini = 0.0\\nsamples = 1\\nvalue = [0, 1]'),\n",
       " Text(110.16943918426804, 116.77333333333334, 'gini = 0.0\\nsamples = 14\\nvalue = [14, 0]'),\n",
       " Text(110.9497450837582, 132.88, 'X[1] <= -0.798\\ngini = 0.483\\nsamples = 22\\nvalue = [13, 9]'),\n",
       " Text(110.55959213401312, 124.82666666666667, 'gini = 0.0\\nsamples = 6\\nvalue = [0, 6]'),\n",
       " Text(111.33989803350329, 124.82666666666667, 'X[1] <= -0.649\\ngini = 0.305\\nsamples = 16\\nvalue = [13, 3]'),\n",
       " Text(110.9497450837582, 116.77333333333334, 'gini = 0.0\\nsamples = 10\\nvalue = [10, 0]'),\n",
       " Text(111.73005098324838, 116.77333333333334, 'X[8] <= 0.5\\ngini = 0.5\\nsamples = 6\\nvalue = [3, 3]'),\n",
       " Text(111.33989803350329, 108.72, 'X[41] <= 0.5\\ngini = 0.375\\nsamples = 4\\nvalue = [3, 1]'),\n",
       " Text(110.9497450837582, 100.66666666666667, 'gini = 0.0\\nsamples = 3\\nvalue = [3, 0]'),\n",
       " Text(111.73005098324838, 100.66666666666667, 'gini = 0.0\\nsamples = 1\\nvalue = [0, 1]'),\n",
       " Text(112.12020393299346, 108.72, 'gini = 0.0\\nsamples = 2\\nvalue = [0, 2]'),\n",
       " Text(110.46205389657685, 140.93333333333334, 'gini = 0.0\\nsamples = 10\\nvalue = [10, 0]'),\n",
       " Text(112.51035688273853, 148.98666666666668, 'X[1] <= -0.2\\ngini = 0.5\\nsamples = 8\\nvalue = [4, 4]'),\n",
       " Text(112.12020393299346, 140.93333333333334, 'X[28] <= 0.5\\ngini = 0.32\\nsamples = 5\\nvalue = [1, 4]'),\n",
       " Text(111.73005098324838, 132.88, 'gini = 0.0\\nsamples = 4\\nvalue = [0, 4]'),\n",
       " Text(112.51035688273853, 132.88, 'gini = 0.0\\nsamples = 1\\nvalue = [1, 0]'),\n",
       " Text(112.90050983248362, 140.93333333333334, 'gini = 0.0\\nsamples = 3\\nvalue = [3, 0]'),\n",
       " Text(120.16710852148582, 165.09333333333333, 'X[0] <= -0.437\\ngini = 0.494\\nsamples = 79\\nvalue = [44, 35]'),\n",
       " Text(116.3143481427531, 157.04, 'X[34] <= 0.5\\ngini = 0.487\\nsamples = 43\\nvalue = [18, 25]'),\n",
       " Text(114.46112163146395, 148.98666666666668, 'X[0] <= -1.005\\ngini = 0.42\\nsamples = 10\\nvalue = [7, 3]'),\n",
       " Text(113.6808157319738, 140.93333333333334, 'X[6] <= 0.5\\ngini = 0.444\\nsamples = 3\\nvalue = [1, 2]'),\n",
       " Text(113.29066278222871, 132.88, 'gini = 0.0\\nsamples = 1\\nvalue = [1, 0]'),\n",
       " Text(114.07096868171888, 132.88, 'gini = 0.0\\nsamples = 2\\nvalue = [0, 2]'),\n",
       " Text(115.24142753095413, 140.93333333333334, 'X[2] <= -0.71\\ngini = 0.245\\nsamples = 7\\nvalue = [6, 1]'),\n",
       " Text(114.85127458120904, 132.88, 'gini = 0.0\\nsamples = 6\\nvalue = [6, 0]'),\n",
       " Text(115.63158048069921, 132.88, 'gini = 0.0\\nsamples = 1\\nvalue = [0, 1]'),\n",
       " Text(118.16757465404226, 148.98666666666668, 'X[2] <= -0.915\\ngini = 0.444\\nsamples = 33\\nvalue = [11, 22]'),\n",
       " Text(116.80203932993446, 140.93333333333334, 'X[26] <= 0.5\\ngini = 0.494\\nsamples = 9\\nvalue = [5, 4]'),\n",
       " Text(116.41188638018937, 132.88, 'gini = 0.0\\nsamples = 1\\nvalue = [0, 1]'),\n",
       " Text(117.19219227967955, 132.88, 'X[20] <= 0.5\\ngini = 0.469\\nsamples = 8\\nvalue = [5, 3]'),\n",
       " Text(116.80203932993446, 124.82666666666667, 'gini = 0.0\\nsamples = 1\\nvalue = [0, 1]'),\n",
       " Text(117.58234522942463, 124.82666666666667, 'X[2] <= -0.946\\ngini = 0.408\\nsamples = 7\\nvalue = [5, 2]'),\n",
       " Text(117.19219227967955, 116.77333333333334, 'X[1] <= -1.318\\ngini = 0.5\\nsamples = 4\\nvalue = [2, 2]'),\n",
       " Text(116.80203932993446, 108.72, 'gini = 0.0\\nsamples = 1\\nvalue = [0, 1]'),\n",
       " Text(117.58234522942463, 108.72, 'X[8] <= 0.5\\ngini = 0.444\\nsamples = 3\\nvalue = [2, 1]'),\n",
       " Text(117.19219227967955, 100.66666666666667, 'gini = 0.0\\nsamples = 1\\nvalue = [0, 1]'),\n",
       " Text(117.97249817916972, 100.66666666666667, 'gini = 0.0\\nsamples = 2\\nvalue = [2, 0]'),\n",
       " Text(117.97249817916972, 116.77333333333334, 'gini = 0.0\\nsamples = 3\\nvalue = [3, 0]'),\n",
       " Text(119.53310997815005, 140.93333333333334, 'X[20] <= 0.5\\ngini = 0.375\\nsamples = 24\\nvalue = [6, 18]'),\n",
       " Text(118.75280407865988, 132.88, 'X[26] <= 0.5\\ngini = 0.375\\nsamples = 4\\nvalue = [3, 1]'),\n",
       " Text(118.36265112891479, 124.82666666666667, 'gini = 0.0\\nsamples = 1\\nvalue = [0, 1]'),\n",
       " Text(119.14295702840496, 124.82666666666667, 'gini = 0.0\\nsamples = 3\\nvalue = [3, 0]'),\n",
       " Text(120.31341587764021, 132.88, 'X[1] <= -0.33\\ngini = 0.255\\nsamples = 20\\nvalue = [3, 17]'),\n",
       " Text(119.92326292789514, 124.82666666666667, 'X[0] <= -0.68\\ngini = 0.188\\nsamples = 19\\nvalue = [2, 17]'),\n",
       " Text(119.53310997815005, 116.77333333333334, 'gini = 0.0\\nsamples = 11\\nvalue = [0, 11]'),\n",
       " Text(120.31341587764021, 116.77333333333334, 'X[2] <= -0.706\\ngini = 0.375\\nsamples = 8\\nvalue = [2, 6]'),\n",
       " Text(119.92326292789514, 108.72, 'X[7] <= 0.5\\ngini = 0.444\\nsamples = 3\\nvalue = [2, 1]'),\n",
       " Text(119.53310997815005, 100.66666666666667, 'gini = 0.0\\nsamples = 1\\nvalue = [0, 1]'),\n",
       " Text(120.31341587764021, 100.66666666666667, 'gini = 0.0\\nsamples = 2\\nvalue = [2, 0]'),\n",
       " Text(120.7035688273853, 108.72, 'gini = 0.0\\nsamples = 5\\nvalue = [0, 5]'),\n",
       " Text(120.7035688273853, 124.82666666666667, 'gini = 0.0\\nsamples = 1\\nvalue = [1, 0]'),\n",
       " Text(124.01986890021851, 157.04, 'X[1] <= -0.469\\ngini = 0.401\\nsamples = 36\\nvalue = [26, 10]'),\n",
       " Text(123.0444865258558, 148.98666666666668, 'X[1] <= -0.809\\ngini = 0.293\\nsamples = 28\\nvalue = [23, 5]'),\n",
       " Text(122.26418062636563, 140.93333333333334, 'X[27] <= 0.5\\ngini = 0.444\\nsamples = 12\\nvalue = [8, 4]'),\n",
       " Text(121.87402767662056, 132.88, 'X[20] <= 0.5\\ngini = 0.32\\nsamples = 10\\nvalue = [8, 2]'),\n",
       " Text(121.48387472687547, 124.82666666666667, 'X[33] <= 0.5\\ngini = 0.5\\nsamples = 4\\nvalue = [2, 2]'),\n",
       " Text(121.09372177713038, 116.77333333333334, 'gini = 0.0\\nsamples = 2\\nvalue = [0, 2]'),\n",
       " Text(121.87402767662056, 116.77333333333334, 'gini = 0.0\\nsamples = 2\\nvalue = [2, 0]'),\n",
       " Text(122.26418062636563, 124.82666666666667, 'gini = 0.0\\nsamples = 6\\nvalue = [6, 0]'),\n",
       " Text(122.65433357611072, 132.88, 'gini = 0.0\\nsamples = 2\\nvalue = [0, 2]'),\n",
       " Text(123.82479242534598, 140.93333333333334, 'X[0] <= 0.965\\ngini = 0.117\\nsamples = 16\\nvalue = [15, 1]'),\n",
       " Text(123.43463947560089, 132.88, 'gini = 0.0\\nsamples = 11\\nvalue = [11, 0]'),\n",
       " Text(124.21494537509105, 132.88, 'X[0] <= 1.046\\ngini = 0.32\\nsamples = 5\\nvalue = [4, 1]'),\n",
       " Text(123.82479242534598, 124.82666666666667, 'gini = 0.0\\nsamples = 1\\nvalue = [0, 1]'),\n",
       " Text(124.60509832483613, 124.82666666666667, 'gini = 0.0\\nsamples = 4\\nvalue = [4, 0]'),\n",
       " Text(124.99525127458122, 148.98666666666668, 'X[24] <= 0.5\\ngini = 0.469\\nsamples = 8\\nvalue = [3, 5]'),\n",
       " Text(124.60509832483613, 140.93333333333334, 'gini = 0.0\\nsamples = 2\\nvalue = [2, 0]'),\n",
       " Text(125.38540422432631, 140.93333333333334, 'X[2] <= 0.351\\ngini = 0.278\\nsamples = 6\\nvalue = [1, 5]'),\n",
       " Text(124.99525127458122, 132.88, 'gini = 0.0\\nsamples = 5\\nvalue = [0, 5]'),\n",
       " Text(125.7755571740714, 132.88, 'gini = 0.0\\nsamples = 1\\nvalue = [1, 0]'),\n",
       " Text(153.8848579752367, 181.2, 'X[0] <= -0.599\\ngini = 0.265\\nsamples = 668\\nvalue = [563, 105]'),\n",
       " Text(139.8393517844137, 173.14666666666668, 'X[1] <= -1.309\\ngini = 0.332\\nsamples = 381\\nvalue = [301, 80]'),\n",
       " Text(131.53031318281137, 165.09333333333333, 'X[35] <= 0.5\\ngini = 0.232\\nsamples = 142\\nvalue = [123, 19]'),\n",
       " Text(128.31155134741442, 157.04, 'X[5] <= 0.5\\ngini = 0.175\\nsamples = 124\\nvalue = [112, 12]'),\n",
       " Text(127.92139839766935, 148.98666666666668, 'gini = 0.0\\nsamples = 1\\nvalue = [0, 1]'),\n",
       " Text(128.70170429715952, 148.98666666666668, 'X[1] <= -1.506\\ngini = 0.163\\nsamples = 123\\nvalue = [112, 11]'),\n",
       " Text(126.94601602330664, 140.93333333333334, 'X[7] <= 0.5\\ngini = 0.32\\nsamples = 15\\nvalue = [12, 3]'),\n",
       " Text(126.55586307356155, 132.88, 'X[2] <= -0.897\\ngini = 0.469\\nsamples = 8\\nvalue = [5, 3]'),\n",
       " Text(126.16571012381647, 124.82666666666667, 'X[3] <= 0.5\\ngini = 0.48\\nsamples = 5\\nvalue = [2, 3]'),\n",
       " Text(125.7755571740714, 116.77333333333334, 'X[9] <= 0.5\\ngini = 0.444\\nsamples = 3\\nvalue = [2, 1]'),\n",
       " Text(125.38540422432631, 108.72, 'gini = 0.0\\nsamples = 2\\nvalue = [2, 0]'),\n",
       " Text(126.16571012381647, 108.72, 'gini = 0.0\\nsamples = 1\\nvalue = [0, 1]'),\n",
       " Text(126.55586307356155, 116.77333333333334, 'gini = 0.0\\nsamples = 2\\nvalue = [0, 2]'),\n",
       " Text(126.94601602330664, 124.82666666666667, 'gini = 0.0\\nsamples = 3\\nvalue = [3, 0]'),\n",
       " Text(127.33616897305173, 132.88, 'gini = 0.0\\nsamples = 7\\nvalue = [7, 0]'),\n",
       " Text(130.4573925710124, 140.93333333333334, 'X[34] <= 0.5\\ngini = 0.137\\nsamples = 108\\nvalue = [100, 8]'),\n",
       " Text(128.89678077203206, 132.88, 'X[2] <= -0.967\\ngini = 0.18\\nsamples = 70\\nvalue = [63, 7]'),\n",
       " Text(127.72632192279681, 124.82666666666667, 'X[2] <= -0.97\\ngini = 0.5\\nsamples = 2\\nvalue = [1, 1]'),\n",
       " Text(127.33616897305173, 116.77333333333334, 'gini = 0.0\\nsamples = 1\\nvalue = [1, 0]'),\n",
       " Text(128.1164748725419, 116.77333333333334, 'gini = 0.0\\nsamples = 1\\nvalue = [0, 1]'),\n",
       " Text(130.0672396212673, 124.82666666666667, 'X[1] <= -1.456\\ngini = 0.161\\nsamples = 68\\nvalue = [62, 6]'),\n",
       " Text(128.89678077203206, 116.77333333333334, 'X[1] <= -1.492\\ngini = 0.123\\nsamples = 61\\nvalue = [57, 4]'),\n",
       " Text(128.506627822287, 108.72, 'gini = 0.0\\nsamples = 20\\nvalue = [20, 0]'),\n",
       " Text(129.28693372177713, 108.72, 'X[1] <= -1.476\\ngini = 0.176\\nsamples = 41\\nvalue = [37, 4]'),\n",
       " Text(128.89678077203206, 100.66666666666667, 'X[1] <= -1.478\\ngini = 0.278\\nsamples = 24\\nvalue = [20, 4]'),\n",
       " Text(128.506627822287, 92.61333333333334, 'X[36] <= 0.5\\ngini = 0.227\\nsamples = 23\\nvalue = [20, 3]'),\n",
       " Text(127.72632192279681, 84.56, 'X[44] <= 0.5\\ngini = 0.111\\nsamples = 17\\nvalue = [16, 1]'),\n",
       " Text(127.33616897305173, 76.50666666666666, 'gini = 0.0\\nsamples = 11\\nvalue = [11, 0]'),\n",
       " Text(128.1164748725419, 76.50666666666666, 'X[1] <= -1.485\\ngini = 0.278\\nsamples = 6\\nvalue = [5, 1]'),\n",
       " Text(127.72632192279681, 68.45333333333335, 'gini = 0.0\\nsamples = 4\\nvalue = [4, 0]'),\n",
       " Text(128.506627822287, 68.45333333333335, 'X[0] <= -1.046\\ngini = 0.5\\nsamples = 2\\nvalue = [1, 1]'),\n",
       " Text(128.1164748725419, 60.400000000000006, 'gini = 0.0\\nsamples = 1\\nvalue = [1, 0]'),\n",
       " Text(128.89678077203206, 60.400000000000006, 'gini = 0.0\\nsamples = 1\\nvalue = [0, 1]'),\n",
       " Text(129.28693372177713, 84.56, 'X[3] <= 0.5\\ngini = 0.444\\nsamples = 6\\nvalue = [4, 2]'),\n",
       " Text(128.89678077203206, 76.50666666666666, 'gini = 0.0\\nsamples = 4\\nvalue = [4, 0]'),\n",
       " Text(129.67708667152223, 76.50666666666666, 'gini = 0.0\\nsamples = 2\\nvalue = [0, 2]'),\n",
       " Text(129.28693372177713, 92.61333333333334, 'gini = 0.0\\nsamples = 1\\nvalue = [0, 1]'),\n",
       " Text(129.67708667152223, 100.66666666666667, 'gini = 0.0\\nsamples = 17\\nvalue = [17, 0]'),\n",
       " Text(131.23769847050255, 116.77333333333334, 'X[1] <= -1.353\\ngini = 0.408\\nsamples = 7\\nvalue = [5, 2]'),\n",
       " Text(130.84754552075748, 108.72, 'X[4] <= 0.5\\ngini = 0.5\\nsamples = 4\\nvalue = [2, 2]'),\n",
       " Text(130.4573925710124, 100.66666666666667, 'gini = 0.0\\nsamples = 1\\nvalue = [1, 0]'),\n",
       " Text(131.23769847050255, 100.66666666666667, 'X[39] <= 0.5\\ngini = 0.444\\nsamples = 3\\nvalue = [1, 2]'),\n",
       " Text(130.84754552075748, 92.61333333333334, 'gini = 0.0\\nsamples = 2\\nvalue = [0, 2]'),\n",
       " Text(131.62785142024765, 92.61333333333334, 'gini = 0.0\\nsamples = 1\\nvalue = [1, 0]'),\n",
       " Text(131.62785142024765, 108.72, 'gini = 0.0\\nsamples = 3\\nvalue = [3, 0]'),\n",
       " Text(132.01800436999272, 132.88, 'X[0] <= -0.68\\ngini = 0.051\\nsamples = 38\\nvalue = [37, 1]'),\n",
       " Text(131.62785142024765, 124.82666666666667, 'gini = 0.0\\nsamples = 36\\nvalue = [36, 0]'),\n",
       " Text(132.40815731973782, 124.82666666666667, 'X[1] <= -1.481\\ngini = 0.5\\nsamples = 2\\nvalue = [1, 1]'),\n",
       " Text(132.01800436999272, 116.77333333333334, 'gini = 0.0\\nsamples = 1\\nvalue = [0, 1]'),\n",
       " Text(132.7983102694829, 116.77333333333334, 'gini = 0.0\\nsamples = 1\\nvalue = [1, 0]'),\n",
       " Text(134.74907501820832, 157.04, 'X[2] <= -0.878\\ngini = 0.475\\nsamples = 18\\nvalue = [11, 7]'),\n",
       " Text(134.35892206846324, 148.98666666666668, 'X[2] <= -0.931\\ngini = 0.391\\nsamples = 15\\nvalue = [11, 4]'),\n",
       " Text(133.96876911871814, 140.93333333333334, 'X[7] <= 0.5\\ngini = 0.494\\nsamples = 9\\nvalue = [5, 4]'),\n",
       " Text(133.57861616897307, 132.88, 'gini = 0.0\\nsamples = 2\\nvalue = [0, 2]'),\n",
       " Text(134.35892206846324, 132.88, 'X[34] <= 0.5\\ngini = 0.408\\nsamples = 7\\nvalue = [5, 2]'),\n",
       " Text(133.96876911871814, 124.82666666666667, 'X[1] <= -1.494\\ngini = 0.48\\nsamples = 5\\nvalue = [3, 2]'),\n",
       " Text(133.57861616897307, 116.77333333333334, 'gini = 0.0\\nsamples = 2\\nvalue = [2, 0]'),\n",
       " Text(134.35892206846324, 116.77333333333334, 'X[4] <= 0.5\\ngini = 0.444\\nsamples = 3\\nvalue = [1, 2]'),\n",
       " Text(133.96876911871814, 108.72, 'gini = 0.0\\nsamples = 2\\nvalue = [0, 2]'),\n",
       " Text(134.74907501820832, 108.72, 'gini = 0.0\\nsamples = 1\\nvalue = [1, 0]'),\n",
       " Text(134.74907501820832, 124.82666666666667, 'gini = 0.0\\nsamples = 2\\nvalue = [2, 0]'),\n",
       " Text(134.74907501820832, 140.93333333333334, 'gini = 0.0\\nsamples = 6\\nvalue = [6, 0]'),\n",
       " Text(135.1392279679534, 148.98666666666668, 'gini = 0.0\\nsamples = 3\\nvalue = [0, 3]'),\n",
       " Text(148.14839038601605, 165.09333333333333, 'X[1] <= -0.354\\ngini = 0.38\\nsamples = 239\\nvalue = [178, 61]'),\n",
       " Text(141.96690458849235, 157.04, 'X[2] <= -0.881\\ngini = 0.457\\nsamples = 99\\nvalue = [64, 35]'),\n",
       " Text(136.79737800437002, 148.98666666666668, 'X[1] <= -0.645\\ngini = 0.5\\nsamples = 35\\nvalue = [18, 17]'),\n",
       " Text(135.5293809176985, 140.93333333333334, 'X[35] <= 0.5\\ngini = 0.219\\nsamples = 8\\nvalue = [7, 1]'),\n",
       " Text(135.1392279679534, 132.88, 'gini = 0.0\\nsamples = 7\\nvalue = [7, 0]'),\n",
       " Text(135.91953386744356, 132.88, 'gini = 0.0\\nsamples = 1\\nvalue = [0, 1]'),\n",
       " Text(138.06537509104152, 140.93333333333334, 'X[1] <= -0.557\\ngini = 0.483\\nsamples = 27\\nvalue = [11, 16]'),\n",
       " Text(136.69983976693374, 132.88, 'X[4] <= 0.5\\ngini = 0.245\\nsamples = 7\\nvalue = [1, 6]'),\n",
       " Text(136.30968681718866, 124.82666666666667, 'gini = 0.0\\nsamples = 5\\nvalue = [0, 5]'),\n",
       " Text(137.0899927166788, 124.82666666666667, 'X[34] <= 0.5\\ngini = 0.5\\nsamples = 2\\nvalue = [1, 1]'),\n",
       " Text(136.69983976693374, 116.77333333333334, 'gini = 0.0\\nsamples = 1\\nvalue = [0, 1]'),\n",
       " Text(137.4801456664239, 116.77333333333334, 'gini = 0.0\\nsamples = 1\\nvalue = [1, 0]'),\n",
       " Text(139.43091041514933, 132.88, 'X[2] <= -0.896\\ngini = 0.5\\nsamples = 20\\nvalue = [10, 10]'),\n",
       " Text(138.65060451565915, 124.82666666666667, 'X[2] <= -0.922\\ngini = 0.444\\nsamples = 12\\nvalue = [8, 4]'),\n",
       " Text(138.26045156591408, 116.77333333333334, 'gini = 0.0\\nsamples = 2\\nvalue = [0, 2]'),\n",
       " Text(139.04075746540423, 116.77333333333334, 'X[4] <= 0.5\\ngini = 0.32\\nsamples = 10\\nvalue = [8, 2]'),\n",
       " Text(138.65060451565915, 108.72, 'gini = 0.0\\nsamples = 5\\nvalue = [5, 0]'),\n",
       " Text(139.43091041514933, 108.72, 'X[33] <= 0.5\\ngini = 0.48\\nsamples = 5\\nvalue = [3, 2]'),\n",
       " Text(139.04075746540423, 100.66666666666667, 'gini = 0.0\\nsamples = 2\\nvalue = [2, 0]'),\n",
       " Text(139.8210633648944, 100.66666666666667, 'X[20] <= 0.5\\ngini = 0.444\\nsamples = 3\\nvalue = [1, 2]'),\n",
       " Text(139.43091041514933, 92.61333333333334, 'gini = 0.0\\nsamples = 1\\nvalue = [1, 0]'),\n",
       " Text(140.2112163146395, 92.61333333333334, 'gini = 0.0\\nsamples = 2\\nvalue = [0, 2]'),\n",
       " Text(140.2112163146395, 124.82666666666667, 'X[20] <= 0.5\\ngini = 0.375\\nsamples = 8\\nvalue = [2, 6]'),\n",
       " Text(139.8210633648944, 116.77333333333334, 'gini = 0.0\\nsamples = 2\\nvalue = [2, 0]'),\n",
       " Text(140.60136926438457, 116.77333333333334, 'gini = 0.0\\nsamples = 6\\nvalue = [0, 6]'),\n",
       " Text(147.13643117261472, 148.98666666666668, 'X[2] <= -0.663\\ngini = 0.404\\nsamples = 64\\nvalue = [46, 18]'),\n",
       " Text(144.69797523670795, 140.93333333333334, 'X[34] <= 0.5\\ngini = 0.366\\nsamples = 58\\nvalue = [44, 14]'),\n",
       " Text(142.55213401311, 132.88, 'X[23] <= 0.5\\ngini = 0.153\\nsamples = 24\\nvalue = [22, 2]'),\n",
       " Text(141.77182811361982, 124.82666666666667, 'X[25] <= 0.5\\ngini = 0.087\\nsamples = 22\\nvalue = [21, 1]'),\n",
       " Text(141.38167516387475, 116.77333333333334, 'gini = 0.0\\nsamples = 18\\nvalue = [18, 0]'),\n",
       " Text(142.16198106336492, 116.77333333333334, 'X[1] <= -0.493\\ngini = 0.375\\nsamples = 4\\nvalue = [3, 1]'),\n",
       " Text(141.77182811361982, 108.72, 'gini = 0.0\\nsamples = 3\\nvalue = [3, 0]'),\n",
       " Text(142.55213401311, 108.72, 'gini = 0.0\\nsamples = 1\\nvalue = [0, 1]'),\n",
       " Text(143.33243991260017, 124.82666666666667, 'X[2] <= -0.767\\ngini = 0.5\\nsamples = 2\\nvalue = [1, 1]'),\n",
       " Text(142.94228696285506, 116.77333333333334, 'gini = 0.0\\nsamples = 1\\nvalue = [0, 1]'),\n",
       " Text(143.72259286234524, 116.77333333333334, 'gini = 0.0\\nsamples = 1\\nvalue = [1, 0]'),\n",
       " Text(146.8438164603059, 132.88, 'X[2] <= -0.771\\ngini = 0.457\\nsamples = 34\\nvalue = [22, 12]'),\n",
       " Text(145.67335761107066, 124.82666666666667, 'X[2] <= -0.818\\ngini = 0.497\\nsamples = 24\\nvalue = [13, 11]'),\n",
       " Text(144.5028987618354, 116.77333333333334, 'X[0] <= -0.965\\ngini = 0.415\\nsamples = 17\\nvalue = [12, 5]'),\n",
       " Text(143.33243991260017, 108.72, 'X[1] <= -0.482\\ngini = 0.278\\nsamples = 12\\nvalue = [10, 2]'),\n",
       " Text(142.94228696285506, 100.66666666666667, 'gini = 0.0\\nsamples = 8\\nvalue = [8, 0]'),\n",
       " Text(143.72259286234524, 100.66666666666667, 'X[45] <= 0.5\\ngini = 0.5\\nsamples = 4\\nvalue = [2, 2]'),\n",
       " Text(143.33243991260017, 92.61333333333334, 'X[14] <= 0.5\\ngini = 0.444\\nsamples = 3\\nvalue = [1, 2]'),\n",
       " Text(142.94228696285506, 84.56, 'gini = 0.0\\nsamples = 2\\nvalue = [0, 2]'),\n",
       " Text(143.72259286234524, 84.56, 'gini = 0.0\\nsamples = 1\\nvalue = [1, 0]'),\n",
       " Text(144.11274581209034, 92.61333333333334, 'gini = 0.0\\nsamples = 1\\nvalue = [1, 0]'),\n",
       " Text(145.67335761107066, 108.72, 'X[1] <= -0.688\\ngini = 0.48\\nsamples = 5\\nvalue = [2, 3]'),\n",
       " Text(145.28320466132558, 100.66666666666667, 'X[1] <= -1.29\\ngini = 0.444\\nsamples = 3\\nvalue = [2, 1]'),\n",
       " Text(144.89305171158048, 92.61333333333334, 'gini = 0.0\\nsamples = 1\\nvalue = [0, 1]'),\n",
       " Text(145.67335761107066, 92.61333333333334, 'gini = 0.0\\nsamples = 2\\nvalue = [2, 0]'),\n",
       " Text(146.06351056081576, 100.66666666666667, 'gini = 0.0\\nsamples = 2\\nvalue = [0, 2]'),\n",
       " Text(146.8438164603059, 116.77333333333334, 'X[38] <= 0.5\\ngini = 0.245\\nsamples = 7\\nvalue = [1, 6]'),\n",
       " Text(146.45366351056083, 108.72, 'gini = 0.0\\nsamples = 5\\nvalue = [0, 5]'),\n",
       " Text(147.233969410051, 108.72, 'X[3] <= 0.5\\ngini = 0.5\\nsamples = 2\\nvalue = [1, 1]'),\n",
       " Text(146.8438164603059, 100.66666666666667, 'gini = 0.0\\nsamples = 1\\nvalue = [0, 1]'),\n",
       " Text(147.62412235979608, 100.66666666666667, 'gini = 0.0\\nsamples = 1\\nvalue = [1, 0]'),\n",
       " Text(148.01427530954118, 124.82666666666667, 'X[0] <= -0.741\\ngini = 0.18\\nsamples = 10\\nvalue = [9, 1]'),\n",
       " Text(147.62412235979608, 116.77333333333334, 'gini = 0.0\\nsamples = 7\\nvalue = [7, 0]'),\n",
       " Text(148.40442825928625, 116.77333333333334, 'X[2] <= -0.694\\ngini = 0.444\\nsamples = 3\\nvalue = [2, 1]'),\n",
       " Text(148.01427530954118, 108.72, 'gini = 0.0\\nsamples = 1\\nvalue = [0, 1]'),\n",
       " Text(148.79458120903132, 108.72, 'gini = 0.0\\nsamples = 2\\nvalue = [2, 0]'),\n",
       " Text(149.5748871085215, 140.93333333333334, 'X[1] <= -0.457\\ngini = 0.444\\nsamples = 6\\nvalue = [2, 4]'),\n",
       " Text(149.18473415877642, 132.88, 'X[37] <= 0.5\\ngini = 0.444\\nsamples = 3\\nvalue = [2, 1]'),\n",
       " Text(148.79458120903132, 124.82666666666667, 'gini = 0.0\\nsamples = 2\\nvalue = [2, 0]'),\n",
       " Text(149.5748871085215, 124.82666666666667, 'gini = 0.0\\nsamples = 1\\nvalue = [0, 1]'),\n",
       " Text(149.9650400582666, 132.88, 'gini = 0.0\\nsamples = 3\\nvalue = [0, 3]'),\n",
       " Text(154.3298761835397, 157.04, 'X[3] <= 0.5\\ngini = 0.302\\nsamples = 140\\nvalue = [114, 26]'),\n",
       " Text(151.915804806992, 148.98666666666668, 'X[2] <= -0.898\\ngini = 0.195\\nsamples = 73\\nvalue = [65, 8]'),\n",
       " Text(151.13549890750184, 140.93333333333334, 'X[1] <= -0.068\\ngini = 0.444\\nsamples = 3\\nvalue = [1, 2]'),\n",
       " Text(150.74534595775674, 132.88, 'gini = 0.0\\nsamples = 2\\nvalue = [0, 2]'),\n",
       " Text(151.5256518572469, 132.88, 'gini = 0.0\\nsamples = 1\\nvalue = [1, 0]'),\n",
       " Text(152.69611070648216, 140.93333333333334, 'X[0] <= -0.965\\ngini = 0.157\\nsamples = 70\\nvalue = [64, 6]'),\n",
       " Text(152.3059577567371, 132.88, 'gini = 0.0\\nsamples = 30\\nvalue = [30, 0]'),\n",
       " Text(153.08626365622726, 132.88, 'X[2] <= -0.781\\ngini = 0.255\\nsamples = 40\\nvalue = [34, 6]'),\n",
       " Text(152.01334304442827, 124.82666666666667, 'X[38] <= 0.5\\ngini = 0.444\\nsamples = 3\\nvalue = [1, 2]'),\n",
       " Text(151.6231900946832, 116.77333333333334, 'gini = 0.0\\nsamples = 2\\nvalue = [0, 2]'),\n",
       " Text(152.40349599417337, 116.77333333333334, 'gini = 0.0\\nsamples = 1\\nvalue = [1, 0]'),\n",
       " Text(154.15918426802622, 124.82666666666667, 'X[36] <= 0.5\\ngini = 0.193\\nsamples = 37\\nvalue = [33, 4]'),\n",
       " Text(153.1838018936635, 116.77333333333334, 'X[1] <= -0.264\\ngini = 0.124\\nsamples = 30\\nvalue = [28, 2]'),\n",
       " Text(152.40349599417337, 108.72, 'X[1] <= -0.293\\ngini = 0.375\\nsamples = 4\\nvalue = [3, 1]'),\n",
       " Text(152.01334304442827, 100.66666666666667, 'gini = 0.0\\nsamples = 3\\nvalue = [3, 0]'),\n",
       " Text(152.79364894391844, 100.66666666666667, 'gini = 0.0\\nsamples = 1\\nvalue = [0, 1]'),\n",
       " Text(153.9641077931537, 108.72, 'X[2] <= -0.588\\ngini = 0.074\\nsamples = 26\\nvalue = [25, 1]'),\n",
       " Text(153.57395484340861, 100.66666666666667, 'gini = 0.0\\nsamples = 19\\nvalue = [19, 0]'),\n",
       " Text(154.3542607428988, 100.66666666666667, 'X[14] <= 0.5\\ngini = 0.245\\nsamples = 7\\nvalue = [6, 1]'),\n",
       " Text(153.9641077931537, 92.61333333333334, 'gini = 0.0\\nsamples = 1\\nvalue = [0, 1]'),\n",
       " Text(154.74441369264386, 92.61333333333334, 'gini = 0.0\\nsamples = 6\\nvalue = [6, 0]'),\n",
       " Text(155.13456664238893, 116.77333333333334, 'X[1] <= -0.253\\ngini = 0.408\\nsamples = 7\\nvalue = [5, 2]'),\n",
       " Text(154.74441369264386, 108.72, 'gini = 0.0\\nsamples = 4\\nvalue = [4, 0]'),\n",
       " Text(155.52471959213403, 108.72, 'X[7] <= 0.5\\ngini = 0.444\\nsamples = 3\\nvalue = [1, 2]'),\n",
       " Text(155.13456664238893, 100.66666666666667, 'gini = 0.0\\nsamples = 1\\nvalue = [1, 0]'),\n",
       " Text(155.9148725418791, 100.66666666666667, 'gini = 0.0\\nsamples = 2\\nvalue = [0, 2]'),\n",
       " ...]"
      ]
     },
     "execution_count": 60,
     "metadata": {},
     "output_type": "execute_result"
    },
    {
     "data": {
      "image/png": "[encoded data removed]",
      "text/plain": [
       "<Figure size 432x288 with 1 Axes>"
      ]
     },
     "metadata": {
      "needs_background": "light"
     },
     "output_type": "display_data"
    }
   ],
   "source": [
    "tree.plot_tree(DT)"
   ]
  },
  {
   "cell_type": "markdown",
   "metadata": {},
   "source": [
    "\n",
    "### LIST of all parameters to use in a decision tree for hyperparameter tuning\n",
    "\n",
    "https://scikit-learn.org/stable/modules/generated/sklearn.tree.DecisionTreeClassifier.html"
   ]
  },
  {
   "cell_type": "markdown",
   "metadata": {},
   "source": [
    "## TUNING HYPERPARAMETER"
   ]
  },
  {
   "cell_type": "code",
   "execution_count": 61,
   "metadata": {},
   "outputs": [],
   "source": [
    "#to balance the overfitting we do hyperparameter tuning\n",
    "#go to sklearn site and check for all hyperparameters we can tune\n",
    "param={\n",
    "    \"criterion\":['gini','entropy'],\n",
    "    \"max_depth\": range(1,10),\n",
    "    \"min_samples_split\":range(1,10), #\n",
    "    \"min_samples_leaf\":range(1,5)\n",
    "}\n",
    "\n",
    "#1st optimization we did on gini and entropy\n",
    "#2nd optimization we did on depth(how much depth a DT is allowed to go)\n",
    "#3rd optimization we did on the split\n",
    "#4th optimization we did on the leaf(the min no. of sample required to be a leaf node)"
   ]
  },
  {
   "attachments": {
    "image.png": {
     "image/png": "[encoded data removed]"
    }
   },
   "cell_type": "markdown",
   "metadata": {},
   "source": [
    "![image.png](attachment:image.png)"
   ]
  },
  {
   "cell_type": "code",
   "execution_count": 62,
   "metadata": {},
   "outputs": [],
   "source": [
    "# Cross Validation(CV): Another method to do train test split\n",
    "\n"
   ]
  },
  {
   "cell_type": "code",
   "execution_count": 63,
   "metadata": {},
   "outputs": [
    {
     "name": "stdout",
     "output_type": "stream",
     "text": [
      "Fitting 10 folds for each of 648 candidates, totalling 6480 fits\n"
     ]
    },
    {
     "name": "stderr",
     "output_type": "stream",
     "text": [
      "C:\\Users\\asus\\anaconda3\\lib\\site-packages\\sklearn\\model_selection\\_search.py:922: UserWarning: One or more of the test scores are non-finite: [       nan 0.73457066 0.73457066 0.73457066 0.73457066 0.73457066\n",
      " 0.73457066 0.73457066 0.73457066        nan 0.73457066 0.73457066\n",
      " 0.73457066 0.73457066 0.73457066 0.73457066 0.73457066 0.73457066\n",
      "        nan 0.73457066 0.73457066 0.73457066 0.73457066 0.73457066\n",
      " 0.73457066 0.73457066 0.73457066        nan 0.73457066 0.73457066\n",
      " 0.73457066 0.73457066 0.73457066 0.73457066 0.73457066 0.73457066\n",
      "        nan 0.76600432 0.76600432 0.76600432 0.76600432 0.76600432\n",
      " 0.76600432 0.76600432 0.76600432        nan 0.76600432 0.76600432\n",
      " 0.76600432 0.76600432 0.76600432 0.76600432 0.76600432 0.76600432\n",
      "        nan 0.76600432 0.76600432 0.76600432 0.76600432 0.76600432\n",
      " 0.76600432 0.76600432 0.76600432        nan 0.76600432 0.76600432\n",
      " 0.76600432 0.76600432 0.76600432 0.76600432 0.76600432 0.76600432\n",
      "        nan 0.79004769 0.79004769 0.79004769 0.79004769 0.79004769\n",
      " 0.79004769 0.79004769 0.79004769        nan 0.79004769 0.79004769\n",
      " 0.79004769 0.79004769 0.79004769 0.79004769 0.79004769 0.79004769\n",
      "        nan 0.79004769 0.79004769 0.79004769 0.79004769 0.79004769\n",
      " 0.79004769 0.79004769 0.79004769        nan 0.79004769 0.79004769\n",
      " 0.79004769 0.79004769 0.79004769 0.79004769 0.79004769 0.79004769\n",
      "        nan 0.79440303 0.79440303 0.79440303 0.79440303 0.79440303\n",
      " 0.79440303 0.79440303 0.79440303        nan 0.79440303 0.79440303\n",
      " 0.79440303 0.79440303 0.79440303 0.79440303 0.79440303 0.79440303\n",
      "        nan 0.79440303 0.79440303 0.79440303 0.79440303 0.79440303\n",
      " 0.79440303 0.79440303 0.79440303        nan 0.79440303 0.79440303\n",
      " 0.79440303 0.79440303 0.79440303 0.79440303 0.79440303 0.79440303\n",
      "        nan 0.794591   0.794591   0.794591   0.7944016  0.7944016\n",
      " 0.7944016  0.794591   0.7944016         nan 0.79478039 0.79478039\n",
      " 0.79478039 0.79478039 0.794591   0.79478039 0.794591   0.79478039\n",
      "        nan 0.79478039 0.79478039 0.79478039 0.794591   0.79478039\n",
      " 0.794591   0.794591   0.794591          nan 0.79496978 0.79496978\n",
      " 0.79496978 0.79496978 0.79496978 0.79496978 0.79478039 0.79496978\n",
      "        nan 0.78645493 0.78664397 0.78664397 0.78683336 0.78664397\n",
      " 0.78664397 0.78645457 0.78664397        nan 0.78702276 0.78702276\n",
      " 0.78702276 0.78721215 0.78721215 0.78702276 0.78702276 0.78683336\n",
      "        nan 0.78664433 0.78702311 0.78683372 0.78683372 0.78683372\n",
      " 0.78645493 0.78683372 0.78645493        nan 0.78645493 0.78664433\n",
      " 0.78664433 0.78664433 0.78664433 0.78664433 0.78664433 0.78683372\n",
      "        nan 0.77906606 0.77906606 0.77906535 0.78039182 0.77925474\n",
      " 0.77868727 0.7796346  0.77925581        nan 0.78039146 0.77887738\n",
      " 0.78077025 0.78001375 0.77868763 0.78001339 0.78001339 0.7796346\n",
      "        nan 0.78039146 0.78058157 0.779824   0.77982328 0.77944521\n",
      " 0.77906642 0.77887703 0.779824          nan 0.78114975 0.78095964\n",
      " 0.78114904 0.78077097 0.78077097 0.78096036 0.78133915 0.78171722\n",
      "        nan 0.77149711 0.77301118 0.77414755 0.77528284 0.77433623\n",
      " 0.77433658 0.77490405 0.77604149        nan 0.77414719 0.77528284\n",
      " 0.77338854 0.7747143  0.77433479 0.7731995  0.77263132 0.77376876\n",
      "        nan 0.77244336 0.77301047 0.77301011 0.7739578  0.77357901\n",
      " 0.77282215 0.77225432 0.77358008        nan 0.77263168 0.77338997\n",
      " 0.77244336 0.77338997 0.77301047 0.772443   0.77338997 0.77339033\n",
      "        nan 0.76259881 0.7663849  0.76354399 0.76506022 0.76638454\n",
      " 0.76600504 0.76581672 0.76695452        nan 0.76581672 0.76524782\n",
      " 0.76657286 0.76543686 0.76467964 0.76392207 0.76505843 0.76543722\n",
      "        nan 0.76203027 0.76222003 0.7625981  0.76316628 0.76278642\n",
      " 0.76278749 0.76354471 0.76259917        nan 0.76581815 0.76487047\n",
      " 0.76411504 0.76562876 0.7658178  0.76544008 0.76468286 0.76562876\n",
      "        nan 0.73457066 0.73457066 0.73457066 0.73457066 0.73457066\n",
      " 0.73457066 0.73457066 0.73457066        nan 0.73457066 0.73457066\n",
      " 0.73457066 0.73457066 0.73457066 0.73457066 0.73457066 0.73457066\n",
      "        nan 0.73457066 0.73457066 0.73457066 0.73457066 0.73457066\n",
      " 0.73457066 0.73457066 0.73457066        nan 0.73457066 0.73457066\n",
      " 0.73457066 0.73457066 0.73457066 0.73457066 0.73457066 0.73457066\n",
      "        nan 0.76600432 0.76600432 0.76600432 0.76600432 0.76600432\n",
      " 0.76600432 0.76600432 0.76600432        nan 0.76600432 0.76600432\n",
      " 0.76600432 0.76600432 0.76600432 0.76600432 0.76600432 0.76600432\n",
      "        nan 0.76600432 0.76600432 0.76600432 0.76600432 0.76600432\n",
      " 0.76600432 0.76600432 0.76600432        nan 0.76600432 0.76600432\n",
      " 0.76600432 0.76600432 0.76600432 0.76600432 0.76600432 0.76600432\n",
      "        nan 0.78834314 0.78834314 0.78834314 0.78834314 0.78834314\n",
      " 0.78834314 0.78834314 0.78834314        nan 0.78834314 0.78834314\n",
      " 0.78834314 0.78834314 0.78834314 0.78834314 0.78834314 0.78834314\n",
      "        nan 0.78834314 0.78834314 0.78834314 0.78834314 0.78834314\n",
      " 0.78834314 0.78834314 0.78834314        nan 0.78834314 0.78834314\n",
      " 0.78834314 0.78834314 0.78834314 0.78834314 0.78834314 0.78834314\n",
      "        nan 0.79061515 0.79061515 0.79061515 0.79061515 0.79061515\n",
      " 0.79061515 0.79061515 0.79061515        nan 0.79061515 0.79061515\n",
      " 0.79061515 0.79061515 0.79061515 0.79061515 0.79061515 0.79061515\n",
      "        nan 0.79061515 0.79061515 0.79061515 0.79061515 0.79061515\n",
      " 0.79061515 0.79061515 0.79061515        nan 0.79061515 0.79061515\n",
      " 0.79061515 0.79061515 0.79061515 0.79061515 0.79061515 0.79061515\n",
      "        nan 0.79459207 0.79459207 0.79459207 0.79459207 0.79459207\n",
      " 0.79459207 0.79459207 0.79459207        nan 0.79459207 0.79459207\n",
      " 0.79459207 0.79459207 0.79459207 0.79459207 0.79459207 0.79459207\n",
      "        nan 0.79478146 0.79478146 0.79478146 0.79478146 0.79478146\n",
      " 0.79478146 0.79478146 0.79478146        nan 0.79478146 0.79478146\n",
      " 0.79478146 0.79478146 0.79478146 0.79478146 0.79478146 0.79478146\n",
      "        nan 0.78797116 0.78834959 0.78816019 0.78853898 0.78816019\n",
      " 0.78853898 0.78834959 0.78834959        nan 0.78853898 0.78816019\n",
      " 0.78834959 0.78853898 0.78834959 0.78853898 0.78834959 0.78834959\n",
      "        nan 0.78948595 0.78910716 0.78910716 0.78891777 0.78910716\n",
      " 0.78929656 0.78910716 0.78929656        nan 0.78948667 0.78948667\n",
      " 0.78929727 0.78929727 0.78929727 0.78929727 0.78948667 0.78948667\n",
      "        nan 0.78456278 0.78475146 0.78475146 0.78456278 0.78437375\n",
      " 0.78399496 0.78437375 0.78456314        nan 0.78475253 0.78475253\n",
      " 0.78513061 0.78456278 0.78456314 0.78456314 0.78456314 0.78456314\n",
      "        nan 0.78456207 0.78418399 0.78418435 0.78437267 0.78399496\n",
      " 0.78456207 0.78399496 0.78456171        nan 0.78607758 0.78664468\n",
      " 0.78645565 0.78607758 0.78645565 0.78626661 0.78626661 0.78588854\n",
      "        nan 0.77585102 0.77471501 0.77604041 0.77509344 0.77660824\n",
      " 0.77604113 0.77736689 0.77755628        nan 0.77679799 0.77623052\n",
      " 0.77641992 0.77698774 0.77642028 0.7756627  0.77623124 0.77642063\n",
      "        nan 0.77736653 0.77793364 0.7783135  0.77698774 0.77774496\n",
      " 0.77887989 0.77831278 0.77887989        nan 0.78001769 0.78020636\n",
      " 0.77907143 0.77982793 0.78001661 0.7796389  0.78020636 0.78020708\n",
      "        nan 0.76695201 0.76771102 0.76676333 0.76884559 0.76676262\n",
      " 0.76941449 0.76865656 0.76846716        nan 0.7671414  0.76846609\n",
      " 0.76676262 0.7680873  0.76751948 0.7673308  0.76941377 0.76865727\n",
      "        nan 0.76846788 0.76884738 0.76809016 0.76808981 0.76714391\n",
      " 0.77036182 0.77036218 0.76998267        nan 0.76960675 0.76866049\n",
      " 0.76998518 0.77017386 0.76998482 0.77168829 0.7692276  0.77112047]\n",
      "  warnings.warn(\n"
     ]
    },
    {
     "data": {
      "text/plain": [
       "GridSearchCV(cv=10, estimator=DecisionTreeClassifier(), n_jobs=-1,\n",
       "             param_grid={'criterion': ['gini', 'entropy'],\n",
       "                         'max_depth': range(1, 10),\n",
       "                         'min_samples_leaf': range(1, 5),\n",
       "                         'min_samples_split': range(1, 10)},\n",
       "             verbose=1)"
      ]
     },
     "execution_count": 63,
     "metadata": {},
     "output_type": "execute_result"
    }
   ],
   "source": [
    "from sklearn.model_selection import GridSearchCV\n",
    "grid = GridSearchCV(DT, param_grid=param, cv=10, verbose=1, n_jobs=-1)  #=(inputmodel, grid of parameter)\n",
    "grid.fit(X_train_preprocessed, y_train)\n",
    "#n_jobs=-1 we r telling python to use all of memory which is required\n",
    "#verbose=1 we are telling python to print the details"
   ]
  },
  {
   "cell_type": "markdown",
   "metadata": {},
   "source": [
    "## cv=crossvalidation\n",
    "this is other method to split in train and test but in multiple\n",
    "\n",
    "Types:\n",
    "1. k-fold cv: In entire train data if we have k=10\n",
    "            so we 1st split train in 90, 10\n",
    "            here 10 is validation and 90 is train\n",
    "            steps:1.n1 to n90, validation n91-n100\n",
    "                  2.n1 to n10 and n21 to n100 is train, validation=n11-n20\n",
    "                  like this we do multiple times with many combination\n",
    "                  and we see that which combination gives best results on test as we r always validating on the test data.\n",
    "                  \n",
    "                  3. After doing these iterations, we take avg of all the iteration \n",
    "                  4. FInally we apply it to whole test data andcheck final performance"
   ]
  },
  {
   "cell_type": "code",
   "execution_count": 64,
   "metadata": {},
   "outputs": [
    {
     "data": {
      "text/plain": [
       "{'criterion': 'gini',\n",
       " 'max_depth': 5,\n",
       " 'min_samples_leaf': 4,\n",
       " 'min_samples_split': 2}"
      ]
     },
     "execution_count": 64,
     "metadata": {},
     "output_type": "execute_result"
    }
   ],
   "source": [
    "# printing out best possible parameters\n",
    "grid.best_params_"
   ]
  },
  {
   "cell_type": "code",
   "execution_count": 65,
   "metadata": {},
   "outputs": [
    {
     "data": {
      "text/plain": [
       "DecisionTreeClassifier(max_depth=5, min_samples_leaf=4)"
      ]
     },
     "execution_count": 65,
     "metadata": {},
     "output_type": "execute_result"
    }
   ],
   "source": [
    "grid.best_estimator_"
   ]
  },
  {
   "cell_type": "code",
   "execution_count": 66,
   "metadata": {},
   "outputs": [],
   "source": [
    "# introducing the best parameters found above\n",
    "DT1=DecisionTreeClassifier(max_depth=5, min_samples_leaf=4, min_samples_split=7, criterion='gini')"
   ]
  },
  {
   "cell_type": "code",
   "execution_count": 67,
   "metadata": {},
   "outputs": [
    {
     "data": {
      "text/plain": [
       "DecisionTreeClassifier(max_depth=5, min_samples_leaf=4, min_samples_split=7)"
      ]
     },
     "execution_count": 67,
     "metadata": {},
     "output_type": "execute_result"
    }
   ],
   "source": [
    "DT1.fit(X_train_preprocessed, y_train)"
   ]
  },
  {
   "cell_type": "code",
   "execution_count": 68,
   "metadata": {},
   "outputs": [
    {
     "data": {
      "text/plain": [
       "<sklearn.metrics._plot.confusion_matrix.ConfusionMatrixDisplay at 0x27fd3fa5f70>"
      ]
     },
     "execution_count": 68,
     "metadata": {},
     "output_type": "execute_result"
    },
    {
     "data": {
      "image/png": "[encoded data removed]",
      "text/plain": [
       "<Figure size 432x288 with 2 Axes>"
      ]
     },
     "metadata": {
      "needs_background": "light"
     },
     "output_type": "display_data"
    }
   ],
   "source": [
    "plot_confusion_matrix(DT1, X_train_preprocessed, y_train)"
   ]
  },
  {
   "cell_type": "code",
   "execution_count": 69,
   "metadata": {},
   "outputs": [
    {
     "name": "stdout",
     "output_type": "stream",
     "text": [
      "              precision    recall  f1-score   support\n",
      "\n",
      "           0       0.85      0.89      0.87      3880\n",
      "           1       0.65      0.58      0.61      1402\n",
      "\n",
      "    accuracy                           0.81      5282\n",
      "   macro avg       0.75      0.73      0.74      5282\n",
      "weighted avg       0.80      0.81      0.80      5282\n",
      "\n"
     ]
    }
   ],
   "source": [
    "# prediction and classification report on Train Set\n",
    "y_pred_train_DT1=DT1.predict(X_train_preprocessed)\n",
    "print(classification_report(y_train, y_pred_train_DT1))"
   ]
  },
  {
   "cell_type": "code",
   "execution_count": 70,
   "metadata": {},
   "outputs": [
    {
     "name": "stdout",
     "output_type": "stream",
     "text": [
      "              precision    recall  f1-score   support\n",
      "\n",
      "           0       0.84      0.87      0.86      1294\n",
      "           1       0.61      0.54      0.58       467\n",
      "\n",
      "    accuracy                           0.79      1761\n",
      "   macro avg       0.73      0.71      0.72      1761\n",
      "weighted avg       0.78      0.79      0.78      1761\n",
      "\n"
     ]
    }
   ],
   "source": [
    "# prediction and classification report on Test Set\n",
    "y_pred_test_DT1=DT1.predict(X_test_preprocessed)\n",
    "print(classification_report(y_test, y_pred_test_DT1))\n"
   ]
  },
  {
   "cell_type": "code",
   "execution_count": 71,
   "metadata": {},
   "outputs": [],
   "source": [
    "from sklearn.tree import plot_tree\n",
    "import matplotlib.pyplot as plt"
   ]
  },
  {
   "cell_type": "code",
   "execution_count": 72,
   "metadata": {},
   "outputs": [],
   "source": [
    "feature_names=list(X_train_preprocessed.columns)\n",
    "target_names=list(y_train.unique())"
   ]
  },
  {
   "cell_type": "code",
   "execution_count": 73,
   "metadata": {},
   "outputs": [
    {
     "data": {
      "text/plain": [
       "['tenure',\n",
       " 'MonthlyCharges',\n",
       " 'TotalCharges',\n",
       " 'gender_Female',\n",
       " 'gender_Male',\n",
       " 'SeniorCitizen_0',\n",
       " 'SeniorCitizen_1',\n",
       " 'Partner_No',\n",
       " 'Partner_Yes',\n",
       " 'Dependents_No',\n",
       " 'Dependents_Yes',\n",
       " 'PhoneService_No',\n",
       " 'PhoneService_Yes',\n",
       " 'MultipleLines_No',\n",
       " 'MultipleLines_Yes',\n",
       " 'InternetService_DSL',\n",
       " 'InternetService_Fiber optic',\n",
       " 'InternetService_No',\n",
       " 'OnlineSecurity_No',\n",
       " 'OnlineSecurity_Yes',\n",
       " 'OnlineBackup_No',\n",
       " 'OnlineBackup_Yes',\n",
       " 'DeviceProtection_No',\n",
       " 'DeviceProtection_Yes',\n",
       " 'TechSupport_No',\n",
       " 'TechSupport_Yes',\n",
       " 'StreamingTV_No',\n",
       " 'StreamingTV_Yes',\n",
       " 'StreamingMovies_No',\n",
       " 'StreamingMovies_Yes',\n",
       " 'Contract_Month-to-month',\n",
       " 'Contract_One year',\n",
       " 'Contract_Two year',\n",
       " 'PaperlessBilling_No',\n",
       " 'PaperlessBilling_Yes',\n",
       " 'PaymentMethod_Bank transfer (automatic)',\n",
       " 'PaymentMethod_Credit card (automatic)',\n",
       " 'PaymentMethod_Electronic check',\n",
       " 'PaymentMethod_Mailed check',\n",
       " 'tenure_buc_1-2 Years',\n",
       " 'tenure_buc_2-3 Years',\n",
       " 'tenure_buc_3-4 Years',\n",
       " 'tenure_buc_4-5 Years',\n",
       " 'tenure_buc_5-6 Years',\n",
       " 'tenure_buc_6 Months - 1 Year',\n",
       " 'tenure_buc_<6 months',\n",
       " 'tenure_buc_>=6 Years']"
      ]
     },
     "execution_count": 73,
     "metadata": {},
     "output_type": "execute_result"
    }
   ],
   "source": [
    "feature_names"
   ]
  },
  {
   "cell_type": "code",
   "execution_count": 74,
   "metadata": {},
   "outputs": [
    {
     "data": {
      "text/plain": [
       "[0, 1]"
      ]
     },
     "execution_count": 74,
     "metadata": {},
     "output_type": "execute_result"
    }
   ],
   "source": [
    "target_names\n"
   ]
  },
  {
   "cell_type": "code",
   "execution_count": 75,
   "metadata": {},
   "outputs": [
    {
     "ename": "TypeError",
     "evalue": "can only concatenate str (not \"numpy.int64\") to str",
     "output_type": "error",
     "traceback": [
      "\u001b[1;31m---------------------------------------------------------------------------\u001b[0m",
      "\u001b[1;31mTypeError\u001b[0m                                 Traceback (most recent call last)",
      "\u001b[1;32m<ipython-input-75-123b455619f6>\u001b[0m in \u001b[0;36m<module>\u001b[1;34m\u001b[0m\n\u001b[0;32m      1\u001b[0m \u001b[0mplt\u001b[0m\u001b[1;33m.\u001b[0m\u001b[0mfigure\u001b[0m\u001b[1;33m(\u001b[0m\u001b[0mfigsize\u001b[0m\u001b[1;33m=\u001b[0m\u001b[1;33m(\u001b[0m\u001b[1;36m55\u001b[0m\u001b[1;33m,\u001b[0m\u001b[1;36m20\u001b[0m\u001b[1;33m)\u001b[0m\u001b[1;33m)\u001b[0m\u001b[1;33m\u001b[0m\u001b[1;33m\u001b[0m\u001b[0m\n\u001b[1;32m----> 2\u001b[1;33m a=plot_tree(DT,\n\u001b[0m\u001b[0;32m      3\u001b[0m            \u001b[0mfeature_names\u001b[0m\u001b[1;33m=\u001b[0m\u001b[0mfeature_names\u001b[0m\u001b[1;33m,\u001b[0m\u001b[1;33m\u001b[0m\u001b[1;33m\u001b[0m\u001b[0m\n\u001b[0;32m      4\u001b[0m            \u001b[0mclass_names\u001b[0m\u001b[1;33m=\u001b[0m\u001b[0mtarget_names\u001b[0m\u001b[1;33m,\u001b[0m\u001b[1;33m\u001b[0m\u001b[1;33m\u001b[0m\u001b[0m\n\u001b[0;32m      5\u001b[0m            \u001b[0mfilled\u001b[0m\u001b[1;33m=\u001b[0m\u001b[1;32mTrue\u001b[0m\u001b[1;33m,\u001b[0m\u001b[1;33m\u001b[0m\u001b[1;33m\u001b[0m\u001b[0m\n",
      "\u001b[1;32m~\\anaconda3\\lib\\site-packages\\sklearn\\utils\\validation.py\u001b[0m in \u001b[0;36minner_f\u001b[1;34m(*args, **kwargs)\u001b[0m\n\u001b[0;32m     61\u001b[0m             \u001b[0mextra_args\u001b[0m \u001b[1;33m=\u001b[0m \u001b[0mlen\u001b[0m\u001b[1;33m(\u001b[0m\u001b[0margs\u001b[0m\u001b[1;33m)\u001b[0m \u001b[1;33m-\u001b[0m \u001b[0mlen\u001b[0m\u001b[1;33m(\u001b[0m\u001b[0mall_args\u001b[0m\u001b[1;33m)\u001b[0m\u001b[1;33m\u001b[0m\u001b[1;33m\u001b[0m\u001b[0m\n\u001b[0;32m     62\u001b[0m             \u001b[1;32mif\u001b[0m \u001b[0mextra_args\u001b[0m \u001b[1;33m<=\u001b[0m \u001b[1;36m0\u001b[0m\u001b[1;33m:\u001b[0m\u001b[1;33m\u001b[0m\u001b[1;33m\u001b[0m\u001b[0m\n\u001b[1;32m---> 63\u001b[1;33m                 \u001b[1;32mreturn\u001b[0m \u001b[0mf\u001b[0m\u001b[1;33m(\u001b[0m\u001b[1;33m*\u001b[0m\u001b[0margs\u001b[0m\u001b[1;33m,\u001b[0m \u001b[1;33m**\u001b[0m\u001b[0mkwargs\u001b[0m\u001b[1;33m)\u001b[0m\u001b[1;33m\u001b[0m\u001b[1;33m\u001b[0m\u001b[0m\n\u001b[0m\u001b[0;32m     64\u001b[0m \u001b[1;33m\u001b[0m\u001b[0m\n\u001b[0;32m     65\u001b[0m             \u001b[1;31m# extra_args > 0\u001b[0m\u001b[1;33m\u001b[0m\u001b[1;33m\u001b[0m\u001b[1;33m\u001b[0m\u001b[0m\n",
      "\u001b[1;32m~\\anaconda3\\lib\\site-packages\\sklearn\\tree\\_export.py\u001b[0m in \u001b[0;36mplot_tree\u001b[1;34m(decision_tree, max_depth, feature_names, class_names, label, filled, impurity, node_ids, proportion, rotate, rounded, precision, ax, fontsize)\u001b[0m\n\u001b[0;32m    192\u001b[0m         \u001b[0mproportion\u001b[0m\u001b[1;33m=\u001b[0m\u001b[0mproportion\u001b[0m\u001b[1;33m,\u001b[0m \u001b[0mrotate\u001b[0m\u001b[1;33m=\u001b[0m\u001b[0mrotate\u001b[0m\u001b[1;33m,\u001b[0m \u001b[0mrounded\u001b[0m\u001b[1;33m=\u001b[0m\u001b[0mrounded\u001b[0m\u001b[1;33m,\u001b[0m\u001b[1;33m\u001b[0m\u001b[1;33m\u001b[0m\u001b[0m\n\u001b[0;32m    193\u001b[0m         precision=precision, fontsize=fontsize)\n\u001b[1;32m--> 194\u001b[1;33m     \u001b[1;32mreturn\u001b[0m \u001b[0mexporter\u001b[0m\u001b[1;33m.\u001b[0m\u001b[0mexport\u001b[0m\u001b[1;33m(\u001b[0m\u001b[0mdecision_tree\u001b[0m\u001b[1;33m,\u001b[0m \u001b[0max\u001b[0m\u001b[1;33m=\u001b[0m\u001b[0max\u001b[0m\u001b[1;33m)\u001b[0m\u001b[1;33m\u001b[0m\u001b[1;33m\u001b[0m\u001b[0m\n\u001b[0m\u001b[0;32m    195\u001b[0m \u001b[1;33m\u001b[0m\u001b[0m\n\u001b[0;32m    196\u001b[0m \u001b[1;33m\u001b[0m\u001b[0m\n",
      "\u001b[1;32m~\\anaconda3\\lib\\site-packages\\sklearn\\tree\\_export.py\u001b[0m in \u001b[0;36mexport\u001b[1;34m(self, decision_tree, ax)\u001b[0m\n\u001b[0;32m    582\u001b[0m         \u001b[0max\u001b[0m\u001b[1;33m.\u001b[0m\u001b[0mclear\u001b[0m\u001b[1;33m(\u001b[0m\u001b[1;33m)\u001b[0m\u001b[1;33m\u001b[0m\u001b[1;33m\u001b[0m\u001b[0m\n\u001b[0;32m    583\u001b[0m         \u001b[0max\u001b[0m\u001b[1;33m.\u001b[0m\u001b[0mset_axis_off\u001b[0m\u001b[1;33m(\u001b[0m\u001b[1;33m)\u001b[0m\u001b[1;33m\u001b[0m\u001b[1;33m\u001b[0m\u001b[0m\n\u001b[1;32m--> 584\u001b[1;33m         my_tree = self._make_tree(0, decision_tree.tree_,\n\u001b[0m\u001b[0;32m    585\u001b[0m                                   decision_tree.criterion)\n\u001b[0;32m    586\u001b[0m         \u001b[0mdraw_tree\u001b[0m \u001b[1;33m=\u001b[0m \u001b[0mbuchheim\u001b[0m\u001b[1;33m(\u001b[0m\u001b[0mmy_tree\u001b[0m\u001b[1;33m)\u001b[0m\u001b[1;33m\u001b[0m\u001b[1;33m\u001b[0m\u001b[0m\n",
      "\u001b[1;32m~\\anaconda3\\lib\\site-packages\\sklearn\\tree\\_export.py\u001b[0m in \u001b[0;36m_make_tree\u001b[1;34m(self, node_id, et, criterion, depth)\u001b[0m\n\u001b[0;32m    563\u001b[0m         \u001b[1;31m# traverses _tree.Tree recursively, builds intermediate\u001b[0m\u001b[1;33m\u001b[0m\u001b[1;33m\u001b[0m\u001b[1;33m\u001b[0m\u001b[0m\n\u001b[0;32m    564\u001b[0m         \u001b[1;31m# \"_reingold_tilford.Tree\" object\u001b[0m\u001b[1;33m\u001b[0m\u001b[1;33m\u001b[0m\u001b[1;33m\u001b[0m\u001b[0m\n\u001b[1;32m--> 565\u001b[1;33m         \u001b[0mname\u001b[0m \u001b[1;33m=\u001b[0m \u001b[0mself\u001b[0m\u001b[1;33m.\u001b[0m\u001b[0mnode_to_str\u001b[0m\u001b[1;33m(\u001b[0m\u001b[0met\u001b[0m\u001b[1;33m,\u001b[0m \u001b[0mnode_id\u001b[0m\u001b[1;33m,\u001b[0m \u001b[0mcriterion\u001b[0m\u001b[1;33m=\u001b[0m\u001b[0mcriterion\u001b[0m\u001b[1;33m)\u001b[0m\u001b[1;33m\u001b[0m\u001b[1;33m\u001b[0m\u001b[0m\n\u001b[0m\u001b[0;32m    566\u001b[0m         if (et.children_left[node_id] != _tree.TREE_LEAF\n\u001b[0;32m    567\u001b[0m                 and (self.max_depth is None or depth <= self.max_depth)):\n",
      "\u001b[1;32m~\\anaconda3\\lib\\site-packages\\sklearn\\tree\\_export.py\u001b[0m in \u001b[0;36mnode_to_str\u001b[1;34m(self, tree, node_id, criterion)\u001b[0m\n\u001b[0;32m    358\u001b[0m                                           \u001b[0mnp\u001b[0m\u001b[1;33m.\u001b[0m\u001b[0margmax\u001b[0m\u001b[1;33m(\u001b[0m\u001b[0mvalue\u001b[0m\u001b[1;33m)\u001b[0m\u001b[1;33m,\u001b[0m\u001b[1;33m\u001b[0m\u001b[1;33m\u001b[0m\u001b[0m\n\u001b[0;32m    359\u001b[0m                                           characters[2])\n\u001b[1;32m--> 360\u001b[1;33m             \u001b[0mnode_string\u001b[0m \u001b[1;33m+=\u001b[0m \u001b[0mclass_name\u001b[0m\u001b[1;33m\u001b[0m\u001b[1;33m\u001b[0m\u001b[0m\n\u001b[0m\u001b[0;32m    361\u001b[0m \u001b[1;33m\u001b[0m\u001b[0m\n\u001b[0;32m    362\u001b[0m         \u001b[1;31m# Clean up any trailing newlines\u001b[0m\u001b[1;33m\u001b[0m\u001b[1;33m\u001b[0m\u001b[1;33m\u001b[0m\u001b[0m\n",
      "\u001b[1;31mTypeError\u001b[0m: can only concatenate str (not \"numpy.int64\") to str"
     ]
    },
    {
     "data": {
      "image/png": "[encoded data removed]",
      "text/plain": [
       "<Figure size 3960x1440 with 1 Axes>"
      ]
     },
     "metadata": {
      "needs_background": "light"
     },
     "output_type": "display_data"
    }
   ],
   "source": [
    "plt.figure(figsize=(55,20))\n",
    "a=plot_tree(DT,\n",
    "           feature_names=feature_names,\n",
    "           class_names=target_names,\n",
    "           filled=True,\n",
    "           rounded=True,\n",
    "           fontsize=14)"
   ]
  },
  {
   "cell_type": "code",
   "execution_count": null,
   "metadata": {},
   "outputs": [],
   "source": []
  },
  {
   "cell_type": "code",
   "execution_count": null,
   "metadata": {},
   "outputs": [],
   "source": [
    "BY HYPERPARAMETER TUNING ABOVE MODEL WAS NOT DRASTICALLY IMPROVED \n",
    "LETS TRY TO IMPROVE MORE"
   ]
  },
  {
   "cell_type": "markdown",
   "metadata": {},
   "source": [
    "## Random Forest"
   ]
  },
  {
   "cell_type": "code",
   "execution_count": 76,
   "metadata": {},
   "outputs": [
    {
     "data": {
      "text/plain": [
       "RandomForestClassifier()"
      ]
     },
     "execution_count": 76,
     "metadata": {},
     "output_type": "execute_result"
    }
   ],
   "source": [
    "#initial model without tuning\n",
    "RF=RandomForestClassifier()\n",
    "RF.fit(X_train_preprocessed,y_train)"
   ]
  },
  {
   "cell_type": "code",
   "execution_count": 77,
   "metadata": {},
   "outputs": [
    {
     "name": "stdout",
     "output_type": "stream",
     "text": [
      "              precision    recall  f1-score   support\n",
      "\n",
      "           0       1.00      1.00      1.00      3880\n",
      "           1       1.00      1.00      1.00      1402\n",
      "\n",
      "    accuracy                           1.00      5282\n",
      "   macro avg       1.00      1.00      1.00      5282\n",
      "weighted avg       1.00      1.00      1.00      5282\n",
      "\n"
     ]
    }
   ],
   "source": [
    "#Prediction and Clasification Report on Train set\n",
    "y_pred_train_RF=RF.predict(X_train_preprocessed)\n",
    "print(classification_report(y_train, y_pred_train_RF))"
   ]
  },
  {
   "cell_type": "code",
   "execution_count": 78,
   "metadata": {},
   "outputs": [
    {
     "name": "stdout",
     "output_type": "stream",
     "text": [
      "              precision    recall  f1-score   support\n",
      "\n",
      "           0       0.83      0.89      0.86      1294\n",
      "           1       0.63      0.49      0.55       467\n",
      "\n",
      "    accuracy                           0.79      1761\n",
      "   macro avg       0.73      0.69      0.71      1761\n",
      "weighted avg       0.78      0.79      0.78      1761\n",
      "\n"
     ]
    }
   ],
   "source": [
    "#Prediction and Clasification Report on Test set\n",
    "y_pred_test_RF=RF.predict(X_test_preprocessed)\n",
    "print(classification_report(y_test, y_pred_test_RF))"
   ]
  },
  {
   "cell_type": "markdown",
   "metadata": {},
   "source": [
    "## HYPERPARAMETER TUNING"
   ]
  },
  {
   "cell_type": "code",
   "execution_count": 79,
   "metadata": {},
   "outputs": [],
   "source": [
    "#Go to Sklear official site and see all parameters for Random Forest"
   ]
  },
  {
   "cell_type": "code",
   "execution_count": 80,
   "metadata": {},
   "outputs": [],
   "source": [
    "max_depth=[int(x) for x in np.linspace(10, 110, num=11)]\n",
    "max_depth.append(None)\n",
    "n_estimators=[int(x) for x in np.linspace(start=200, stop=2000, num=10)]\n",
    "params={\n",
    "    \"n_estimators\":n_estimators,\n",
    "    \"criterion\":['gini','entropy'],\n",
    "    \"max_depth\":max_depth,\n",
    "    \"min_samples_split\":[2,5,10],\n",
    "    \"min_samples_leaf\":[1,2,4],\n",
    "    \"max_features\":['auto','sqrt','log2']\n",
    "}"
   ]
  },
  {
   "cell_type": "code",
   "execution_count": 81,
   "metadata": {},
   "outputs": [],
   "source": [
    "# Random search parameters\n",
    "model=RandomForestClassifier()\n",
    "random_search=RandomizedSearchCV(model,param_distributions=params,n_iter=5,scoring='f1',n_jobs=-1,cv=StratifiedKFold(10),verbose=3)"
   ]
  },
  {
   "cell_type": "markdown",
   "metadata": {},
   "source": [
    "Grid search Takes in account each and every combination of paramenters and make one DT at a time\n",
    "But in Random foret we havreto make many nos. of DT for that combination.\n",
    "So Random search CV take random combination and make many DTs for each combination\n",
    "In Random search CV we set limit of iterations for no. of combinaions to use.\n",
    "We cant use drid search CV in Random Forest as it would  need immense memor and time."
   ]
  },
  {
   "cell_type": "markdown",
   "metadata": {},
   "source": [
    "Difference between K fold CV and Stratified K fold\n",
    "\n",
    "like if we do 90: 10 split for example. So (90 is tain and 10 is CV)\n",
    "    but its random split , it can so happen that our 10 contains all Churn data so its not a stratified split\n",
    "    Stratified K fold does that split in a stratified way."
   ]
  },
  {
   "cell_type": "code",
   "execution_count": 82,
   "metadata": {},
   "outputs": [
    {
     "name": "stdout",
     "output_type": "stream",
     "text": [
      "Fitting 10 folds for each of 5 candidates, totalling 50 fits\n",
      "{'n_estimators': 1400, 'min_samples_split': 10, 'min_samples_leaf': 1, 'max_features': 'auto', 'max_depth': 10, 'criterion': 'entropy'}\n",
      "RandomForestClassifier(criterion='entropy', max_depth=10, min_samples_split=10,\n",
      "                       n_estimators=1400)\n"
     ]
    }
   ],
   "source": [
    "random_search.fit(X_train_preprocessed,y_train)\n",
    "print(random_search.best_params_)\n",
    "print(random_search.best_estimator_)"
   ]
  },
  {
   "cell_type": "code",
   "execution_count": 83,
   "metadata": {},
   "outputs": [],
   "source": [
    "#Above output guves best parameters suited for our model"
   ]
  },
  {
   "cell_type": "code",
   "execution_count": 84,
   "metadata": {},
   "outputs": [
    {
     "data": {
      "text/plain": [
       "RandomForestClassifier(criterion='entropy', max_depth=100, min_samples_leaf=4,\n",
       "                       min_samples_split=10, n_estimators=1000)"
      ]
     },
     "execution_count": 84,
     "metadata": {},
     "output_type": "execute_result"
    }
   ],
   "source": [
    "RF_tuned=RandomForestClassifier(bootstrap=True,class_weight=None,criterion='entropy',max_depth=100, max_features='auto', max_leaf_nodes=None, min_impurity_decrease=0.0, min_impurity_split=None, min_samples_leaf=4, min_samples_split=10, min_weight_fraction_leaf=0.0, n_estimators=1000, n_jobs=None, oob_score=False, random_state=None, verbose=0,warm_start=False)\n",
    "RF_tuned.fit(X_train_preprocessed,y_train)"
   ]
  },
  {
   "cell_type": "code",
   "execution_count": 85,
   "metadata": {},
   "outputs": [
    {
     "name": "stdout",
     "output_type": "stream",
     "text": [
      "              precision    recall  f1-score   support\n",
      "\n",
      "           0       0.89      0.95      0.92      3880\n",
      "           1       0.83      0.66      0.74      1402\n",
      "\n",
      "    accuracy                           0.87      5282\n",
      "   macro avg       0.86      0.81      0.83      5282\n",
      "weighted avg       0.87      0.87      0.87      5282\n",
      "\n"
     ]
    }
   ],
   "source": [
    "#Prediction and Clasification Report on Train set\n",
    "y_pred_train_RFtuned=RF_tuned.predict(X_train_preprocessed)\n",
    "print(classification_report(y_train, y_pred_train_RFtuned))"
   ]
  },
  {
   "cell_type": "code",
   "execution_count": 86,
   "metadata": {
    "scrolled": true
   },
   "outputs": [
    {
     "name": "stdout",
     "output_type": "stream",
     "text": [
      "              precision    recall  f1-score   support\n",
      "\n",
      "           0       0.83      0.91      0.87      1294\n",
      "           1       0.65      0.49      0.56       467\n",
      "\n",
      "    accuracy                           0.80      1761\n",
      "   macro avg       0.74      0.70      0.72      1761\n",
      "weighted avg       0.79      0.80      0.79      1761\n",
      "\n"
     ]
    }
   ],
   "source": [
    "#Prediction and Clasification Report on Test set\n",
    "y_pred_test_RFtuned=RF_tuned.predict(X_test_preprocessed)\n",
    "print(classification_report(y_test, y_pred_test_RFtuned))"
   ]
  },
  {
   "cell_type": "markdown",
   "metadata": {},
   "source": [
    "## XGBOOST\n"
   ]
  },
  {
   "cell_type": "code",
   "execution_count": 87,
   "metadata": {
    "scrolled": false
   },
   "outputs": [
    {
     "name": "stdout",
     "output_type": "stream",
     "text": [
      "Requirement already satisfied: xgboost in c:\\users\\asus\\anaconda3\\lib\\site-packages (1.4.2)\n",
      "Requirement already satisfied: scipy in c:\\users\\asus\\anaconda3\\lib\\site-packages (from xgboost) (1.5.0)\n",
      "Requirement already satisfied: numpy in c:\\users\\asus\\anaconda3\\lib\\site-packages (from xgboost) (1.18.5)\n",
      "Note: you may need to restart the kernel to use updated packages.\n"
     ]
    }
   ],
   "source": [
    "\n",
    "pip install xgboost"
   ]
  },
  {
   "cell_type": "code",
   "execution_count": 88,
   "metadata": {},
   "outputs": [],
   "source": [
    "import xgboost as xgb\n",
    "xgb_m=xgb.XGBClassifier()"
   ]
  },
  {
   "cell_type": "code",
   "execution_count": 89,
   "metadata": {},
   "outputs": [],
   "source": [
    "X_train_xgb=X_train_preprocessed\n",
    "y_train_xgb=y_train\n",
    "X_test_xgb=X_test_preprocessed\n",
    "y_test_xgb=y_test"
   ]
  },
  {
   "cell_type": "code",
   "execution_count": 90,
   "metadata": {},
   "outputs": [
    {
     "name": "stdout",
     "output_type": "stream",
     "text": [
      "Requirement already satisfied: pip in c:\\users\\asus\\anaconda3\\lib\\site-packages (21.2.2)\n",
      "Note: you may need to restart the kernel to use updated packages.\n"
     ]
    },
    {
     "name": "stderr",
     "output_type": "stream",
     "text": [
      "WARNING: Retrying (Retry(total=4, connect=None, read=None, redirect=None, status=None)) after connection broken by 'NewConnectionError('<pip._vendor.urllib3.connection.HTTPSConnection object at 0x0000023E643B1940>: Failed to establish a new connection: [Errno 11001] getaddrinfo failed')': /simple/pip/\n",
      "WARNING: Retrying (Retry(total=3, connect=None, read=None, redirect=None, status=None)) after connection broken by 'NewConnectionError('<pip._vendor.urllib3.connection.HTTPSConnection object at 0x0000023E643B1520>: Failed to establish a new connection: [Errno 11001] getaddrinfo failed')': /simple/pip/\n",
      "WARNING: Retrying (Retry(total=2, connect=None, read=None, redirect=None, status=None)) after connection broken by 'NewConnectionError('<pip._vendor.urllib3.connection.HTTPSConnection object at 0x0000023E643BB100>: Failed to establish a new connection: [Errno 11001] getaddrinfo failed')': /simple/pip/\n",
      "WARNING: Retrying (Retry(total=1, connect=None, read=None, redirect=None, status=None)) after connection broken by 'NewConnectionError('<pip._vendor.urllib3.connection.HTTPSConnection object at 0x0000023E643BB490>: Failed to establish a new connection: [Errno 11001] getaddrinfo failed')': /simple/pip/\n",
      "WARNING: Retrying (Retry(total=0, connect=None, read=None, redirect=None, status=None)) after connection broken by 'NewConnectionError('<pip._vendor.urllib3.connection.HTTPSConnection object at 0x0000023E643BB4C0>: Failed to establish a new connection: [Errno 11001] getaddrinfo failed')': /simple/pip/\n"
     ]
    }
   ],
   "source": [
    "pip install --upgrade pip"
   ]
  },
  {
   "cell_type": "code",
   "execution_count": 91,
   "metadata": {},
   "outputs": [
    {
     "name": "stdout",
     "output_type": "stream",
     "text": [
      "Requirement already satisfied: regex in c:\\users\\asus\\anaconda3\\lib\\site-packages (2020.6.8)\n",
      "Note: you may need to restart the kernel to use updated packages.\n"
     ]
    }
   ],
   "source": [
    "pip install regex"
   ]
  },
  {
   "cell_type": "code",
   "execution_count": 92,
   "metadata": {},
   "outputs": [],
   "source": [
    "import re \n",
    "regex =re.compile(r\"\\[|\\]|<\",re.IGNORECASE)\n",
    "X_train_xgb.columns=[regex.sub(\"_\",col) if any(x in str(col) for x in set(('[',']','<'))) else col for col in X_train_xgb.columns.values]\n",
    "X_test_xgb.columns=[regex.sub(\"_\",col) if any(x in str(col) for x in set(('[',']','<'))) else col for col in X_test_xgb.columns.values]"
   ]
  },
  {
   "cell_type": "code",
   "execution_count": 93,
   "metadata": {},
   "outputs": [
    {
     "name": "stdout",
     "output_type": "stream",
     "text": [
      "[15:26:04] WARNING: C:/Users/Administrator/workspace/xgboost-win64_release_1.4.0/src/learner.cc:1095: Starting in XGBoost 1.3.0, the default evaluation metric used with the objective 'binary:logistic' was changed from 'error' to 'logloss'. Explicitly set eval_metric if you'd like to restore the old behavior.\n"
     ]
    },
    {
     "name": "stderr",
     "output_type": "stream",
     "text": [
      "C:\\Users\\asus\\anaconda3\\lib\\site-packages\\xgboost\\sklearn.py:1146: UserWarning: The use of label encoder in XGBClassifier is deprecated and will be removed in a future release. To remove this warning, do the following: 1) Pass option use_label_encoder=False when constructing XGBClassifier object; and 2) Encode your labels (y) as integers starting with 0, i.e. 0, 1, 2, ..., [num_class - 1].\n",
      "  warnings.warn(label_encoder_deprecation_msg, UserWarning)\n"
     ]
    },
    {
     "data": {
      "text/plain": [
       "XGBClassifier(base_score=0.5, booster='gbtree', colsample_bylevel=1,\n",
       "              colsample_bynode=1, colsample_bytree=1, gamma=0, gpu_id=-1,\n",
       "              importance_type='gain', interaction_constraints='',\n",
       "              learning_rate=0.300000012, max_delta_step=0, max_depth=6,\n",
       "              min_child_weight=1, missing=nan, monotone_constraints='()',\n",
       "              n_estimators=100, n_jobs=12, num_parallel_tree=1, random_state=0,\n",
       "              reg_alpha=0, reg_lambda=1, scale_pos_weight=1, subsample=1,\n",
       "              tree_method='exact', validate_parameters=1, verbosity=None)"
      ]
     },
     "execution_count": 93,
     "metadata": {},
     "output_type": "execute_result"
    }
   ],
   "source": [
    "xgb_m.fit(X_train_xgb,y_train_xgb)"
   ]
  },
  {
   "cell_type": "markdown",
   "metadata": {},
   "source": [
    "Class imbalance: if we have class ratio i.e. churn:non churn is 76:24 ideal is 50:50 this is the main problem becoz of which we are not able to get good recall and precision in any model as model was not able to learn properly.\n",
    "\n",
    "\n",
    "There are 2 ways to remove class imbalance:\n",
    " For e.g. we have in train data churn=240 and non-churn=760:\n",
    "    1.Undersampling: as churn = 240 and non churn 760 then 760 is reduced to 240 and hence we have the 50:50 class ratio \n",
    "\n",
    "    2.Oversampling: churn 240 and non churn 760 then 240 is increased to 760 and hence we have the 50:50 class ratio\n",
    "    \n"
   ]
  },
  {
   "cell_type": "code",
   "execution_count": 94,
   "metadata": {},
   "outputs": [
    {
     "name": "stdout",
     "output_type": "stream",
     "text": [
      "              precision    recall  f1-score   support\n",
      "\n",
      "           0       0.95      0.97      0.96      3880\n",
      "           1       0.91      0.87      0.89      1402\n",
      "\n",
      "    accuracy                           0.94      5282\n",
      "   macro avg       0.93      0.92      0.92      5282\n",
      "weighted avg       0.94      0.94      0.94      5282\n",
      "\n"
     ]
    }
   ],
   "source": [
    "#Prediction and Clasification Report on Train set\n",
    "y_pred_train_xgb=xgb_m.predict(X_train_preprocessed)\n",
    "print(classification_report(y_train, y_pred_train_xgb))"
   ]
  },
  {
   "cell_type": "code",
   "execution_count": 95,
   "metadata": {},
   "outputs": [
    {
     "name": "stdout",
     "output_type": "stream",
     "text": [
      "              precision    recall  f1-score   support\n",
      "\n",
      "           0       0.83      0.88      0.85      1294\n",
      "           1       0.60      0.51      0.55       467\n",
      "\n",
      "    accuracy                           0.78      1761\n",
      "   macro avg       0.72      0.69      0.70      1761\n",
      "weighted avg       0.77      0.78      0.77      1761\n",
      "\n"
     ]
    }
   ],
   "source": [
    "#Prediction and Clasification Report on Train set\n",
    "y_pred_test_xgb=xgb_m.predict(X_test_preprocessed)\n",
    "print(classification_report(y_test, y_pred_test_xgb))"
   ]
  },
  {
   "cell_type": "code",
   "execution_count": 96,
   "metadata": {},
   "outputs": [],
   "source": [
    "#HYPERPARAMETER TUNING\n",
    "max_depth=[int(x) for x in np.linspace(10, 110, num=11)]\n",
    "max_depth.append(None)\n",
    "n_estimators=[int(x) for x in np.linspace(start=200, stop=2000, num=10)]\n",
    "params={\n",
    "\"n_estimators\":n_estimators,\n",
    "\"learning_rate\":[0.05,0.10,0.15,0.20,0.25,0.30],\n",
    "\"max_depth\":[3,4,5,6,8,10,12,15],\n",
    "\"min_child_weight\":[1,3,5,7],\n",
    "\"gamma\":[0.0,0.1,0.2,0.3,0.4],\n",
    "\"colsample_bytree\":[0.3,0.4,0.5,0.7]\n",
    "}    \n",
    "    \n",
    "    \n",
    "    \n",
    "    \n",
    "    \n",
    "    "
   ]
  },
  {
   "cell_type": "code",
   "execution_count": 97,
   "metadata": {},
   "outputs": [],
   "source": [
    "#Random search on Parameters\n",
    "model_xgb=xgb_m\n",
    "random_search=RandomizedSearchCV(model_xgb,param_distributions=params,n_iter=10,scoring='f1',n_jobs=-1,cv=StratifiedKFold(10),verbose=3)"
   ]
  },
  {
   "cell_type": "code",
   "execution_count": 98,
   "metadata": {},
   "outputs": [
    {
     "name": "stdout",
     "output_type": "stream",
     "text": [
      "Fitting 10 folds for each of 10 candidates, totalling 100 fits\n"
     ]
    },
    {
     "name": "stderr",
     "output_type": "stream",
     "text": [
      "C:\\Users\\asus\\anaconda3\\lib\\site-packages\\xgboost\\sklearn.py:1146: UserWarning: The use of label encoder in XGBClassifier is deprecated and will be removed in a future release. To remove this warning, do the following: 1) Pass option use_label_encoder=False when constructing XGBClassifier object; and 2) Encode your labels (y) as integers starting with 0, i.e. 0, 1, 2, ..., [num_class - 1].\n",
      "  warnings.warn(label_encoder_deprecation_msg, UserWarning)\n"
     ]
    },
    {
     "name": "stdout",
     "output_type": "stream",
     "text": [
      "[15:29:16] WARNING: C:/Users/Administrator/workspace/xgboost-win64_release_1.4.0/src/learner.cc:1095: Starting in XGBoost 1.3.0, the default evaluation metric used with the objective 'binary:logistic' was changed from 'error' to 'logloss'. Explicitly set eval_metric if you'd like to restore the old behavior.\n",
      "{'n_estimators': 1200, 'min_child_weight': 3, 'max_depth': 5, 'learning_rate': 0.05, 'gamma': 0.3, 'colsample_bytree': 0.5}\n",
      "XGBClassifier(base_score=0.5, booster='gbtree', colsample_bylevel=1,\n",
      "              colsample_bynode=1, colsample_bytree=0.5, gamma=0.3, gpu_id=-1,\n",
      "              importance_type='gain', interaction_constraints='',\n",
      "              learning_rate=0.05, max_delta_step=0, max_depth=5,\n",
      "              min_child_weight=3, missing=nan, monotone_constraints='()',\n",
      "              n_estimators=1200, n_jobs=12, num_parallel_tree=1, random_state=0,\n",
      "              reg_alpha=0, reg_lambda=1, scale_pos_weight=1, subsample=1,\n",
      "              tree_method='exact', validate_parameters=1, verbosity=None)\n"
     ]
    }
   ],
   "source": [
    "random_search.fit(X_train_xgb, y_train_xgb)\n",
    "print(random_search.best_params_)\n",
    "print(random_search.best_estimator_)"
   ]
  },
  {
   "cell_type": "code",
   "execution_count": 99,
   "metadata": {},
   "outputs": [
    {
     "name": "stdout",
     "output_type": "stream",
     "text": [
      "[15:29:18] WARNING: C:/Users/Administrator/workspace/xgboost-win64_release_1.4.0/src/learner.cc:1095: Starting in XGBoost 1.3.0, the default evaluation metric used with the objective 'binary:logistic' was changed from 'error' to 'logloss'. Explicitly set eval_metric if you'd like to restore the old behavior.\n"
     ]
    },
    {
     "data": {
      "text/plain": [
       "XGBClassifier(base_score=0.5, booster='gbtree', colsample_bylevel=1,\n",
       "              colsample_bynode=1, colsample_bytree=0.7, gamma=0.4, gpu_id=-1,\n",
       "              importance_type='gain', interaction_constraints='',\n",
       "              learning_rate=0.2, max_delta_step=0, max_depth=6,\n",
       "              min_child_weight=7, missing=nan, monotone_constraints='()',\n",
       "              n_estimators=200, n_jobs=12, num_parallel_tree=1, random_state=0,\n",
       "              reg_alpha=0, reg_lambda=1, scale_pos_weight=1, subsample=1,\n",
       "              tree_method='exact', validate_parameters=1, verbosity=None)"
      ]
     },
     "execution_count": 99,
     "metadata": {},
     "output_type": "execute_result"
    }
   ],
   "source": [
    "XGB_tuned=xgb.XGBClassifier(base_score=0.5, booster='gbtree', colsample_bylevel=1,\n",
    "              colsample_bynode=1, colsample_bytree=0.7, gamma=0.4, gpu_id=-1,\n",
    "              importance_type='gain', interaction_constraints='',\n",
    "              learning_rate=0.2, max_delta_step=0, max_depth=6,\n",
    "              min_child_weight=7, monotone_constraints='()',\n",
    "              n_estimators=200, n_jobs=12, num_parallel_tree=1, random_state=0,\n",
    "              reg_alpha=0, reg_lambda=1, scale_pos_weight=1, subsample=1,\n",
    "              tree_method='exact', validate_parameters=1, verbosity=None)\n",
    "XGB_tuned.fit(X_train_xgb, y_train_xgb)"
   ]
  },
  {
   "cell_type": "code",
   "execution_count": 100,
   "metadata": {},
   "outputs": [
    {
     "name": "stdout",
     "output_type": "stream",
     "text": [
      "              precision    recall  f1-score   support\n",
      "\n",
      "           0       0.91      0.95      0.93      3880\n",
      "           1       0.84      0.75      0.79      1402\n",
      "\n",
      "    accuracy                           0.90      5282\n",
      "   macro avg       0.88      0.85      0.86      5282\n",
      "weighted avg       0.89      0.90      0.89      5282\n",
      "\n"
     ]
    }
   ],
   "source": [
    "#Prediction and Clasification Report on Train set\n",
    "y_pred_train_XGBtuned=XGB_tuned.predict(X_train_xgb)\n",
    "print(classification_report(y_train_xgb, y_pred_train_XGBtuned))"
   ]
  },
  {
   "cell_type": "code",
   "execution_count": 101,
   "metadata": {
    "scrolled": true
   },
   "outputs": [
    {
     "name": "stdout",
     "output_type": "stream",
     "text": [
      "              precision    recall  f1-score   support\n",
      "\n",
      "           0       0.83      0.88      0.85      1294\n",
      "           1       0.60      0.49      0.54       467\n",
      "\n",
      "    accuracy                           0.78      1761\n",
      "   macro avg       0.71      0.69      0.70      1761\n",
      "weighted avg       0.77      0.78      0.77      1761\n",
      "\n"
     ]
    }
   ],
   "source": [
    "#Prediction and Clasification Report on Train set\n",
    "y_pred_test_XGBtuned=XGB_tuned.predict(X_test_xgb)\n",
    "print(classification_report(y_test_xgb, y_pred_test_XGBtuned))"
   ]
  },
  {
   "cell_type": "code",
   "execution_count": 102,
   "metadata": {},
   "outputs": [
    {
     "name": "stdout",
     "output_type": "stream",
     "text": [
      "[15:29:19] WARNING: C:/Users/Administrator/workspace/xgboost-win64_release_1.4.0/src/learner.cc:1095: Starting in XGBoost 1.3.0, the default evaluation metric used with the objective 'binary:logistic' was changed from 'error' to 'logloss'. Explicitly set eval_metric if you'd like to restore the old behavior.\n"
     ]
    },
    {
     "name": "stderr",
     "output_type": "stream",
     "text": [
      "C:\\Users\\asus\\anaconda3\\lib\\site-packages\\xgboost\\sklearn.py:1146: UserWarning: The use of label encoder in XGBClassifier is deprecated and will be removed in a future release. To remove this warning, do the following: 1) Pass option use_label_encoder=False when constructing XGBClassifier object; and 2) Encode your labels (y) as integers starting with 0, i.e. 0, 1, 2, ..., [num_class - 1].\n",
      "  warnings.warn(label_encoder_deprecation_msg, UserWarning)\n"
     ]
    },
    {
     "data": {
      "text/plain": [
       "XGBClassifier(base_score=0.5, booster='gbtree', colsample_bylevel=1,\n",
       "              colsample_bynode=1, colsample_bytree=0.7, gamma=0.2, gpu_id=-1,\n",
       "              importance_type='gain', interaction_constraints='',\n",
       "              learning_rate=0.2, max_delta_step=0, max_depth=5,\n",
       "              min_child_weight=7, missing=nan, monotone_constraints='()',\n",
       "              n_estimators=200, n_jobs=12, num_parallel_tree=1, random_state=0,\n",
       "              reg_alpha=0, reg_lambda=1, scale_pos_weight=1, subsample=1,\n",
       "              tree_method='exact', validate_parameters=1, verbosity=None)"
      ]
     },
     "execution_count": 102,
     "metadata": {},
     "output_type": "execute_result"
    }
   ],
   "source": [
    "XGB_tuned_1=xgb.XGBClassifier(base_score=0.5, booster='gbtree', colsample_bylevel=1,\n",
    "              colsample_bynode=1, colsample_bytree=0.7, gamma=0.2, gpu_id=-1,\n",
    "              importance_type='gain',\n",
    "              learning_rate=0.2, max_delta_step=0, max_depth=5,\n",
    "              min_child_weight=7,\n",
    "              n_estimators=200, n_jobs=12, num_parallel_tree=1, random_state=0,\n",
    "              reg_alpha=0, reg_lambda=1, scale_pos_weight=1, subsample=1,\n",
    "              tree_method='exact', validate_parameters=1, verbosity=None)\n",
    "XGB_tuned_1.fit(X_train_xgb, y_train_xgb)"
   ]
  },
  {
   "cell_type": "code",
   "execution_count": 103,
   "metadata": {},
   "outputs": [
    {
     "name": "stdout",
     "output_type": "stream",
     "text": [
      "              precision    recall  f1-score   support\n",
      "\n",
      "           0       0.90      0.94      0.92      3880\n",
      "           1       0.82      0.72      0.76      1402\n",
      "\n",
      "    accuracy                           0.88      5282\n",
      "   macro avg       0.86      0.83      0.84      5282\n",
      "weighted avg       0.88      0.88      0.88      5282\n",
      "\n"
     ]
    }
   ],
   "source": [
    "#Prediction and Clasification Report on Train set\n",
    "y_pred_train_XGBtuned1=XGB_tuned_1.predict(X_train_xgb)\n",
    "print(classification_report(y_train_xgb, y_pred_train_XGBtuned1))"
   ]
  },
  {
   "cell_type": "code",
   "execution_count": 104,
   "metadata": {},
   "outputs": [
    {
     "name": "stdout",
     "output_type": "stream",
     "text": [
      "              precision    recall  f1-score   support\n",
      "\n",
      "           0       0.83      0.88      0.86      1294\n",
      "           1       0.60      0.51      0.56       467\n",
      "\n",
      "    accuracy                           0.78      1761\n",
      "   macro avg       0.72      0.70      0.71      1761\n",
      "weighted avg       0.77      0.78      0.78      1761\n",
      "\n"
     ]
    }
   ],
   "source": [
    "#Prediction and Clasification Report on Train set\n",
    "y_pred_test_XGBtuned1=XGB_tuned_1.predict(X_test_xgb)\n",
    "print(classification_report(y_test_xgb, y_pred_test_XGBtuned1))"
   ]
  },
  {
   "cell_type": "markdown",
   "metadata": {},
   "source": [
    "### Why our precision not becoming good?\n",
    "This is becoz of class imbalance"
   ]
  },
  {
   "cell_type": "code",
   "execution_count": 105,
   "metadata": {},
   "outputs": [
    {
     "name": "stdout",
     "output_type": "stream",
     "text": [
      "Requirement already satisfied: imblearn in c:\\users\\asus\\anaconda3\\lib\\site-packages (0.0)\n",
      "Requirement already satisfied: imbalanced-learn in c:\\users\\asus\\anaconda3\\lib\\site-packages (from imblearn) (0.8.0)\n",
      "Requirement already satisfied: joblib>=0.11 in c:\\users\\asus\\anaconda3\\lib\\site-packages (from imbalanced-learn->imblearn) (0.16.0)\n",
      "Requirement already satisfied: scikit-learn>=0.24 in c:\\users\\asus\\anaconda3\\lib\\site-packages (from imbalanced-learn->imblearn) (0.24.2)\n",
      "Requirement already satisfied: scipy>=0.19.1 in c:\\users\\asus\\anaconda3\\lib\\site-packages (from imbalanced-learn->imblearn) (1.5.0)\n",
      "Requirement already satisfied: numpy>=1.13.3 in c:\\users\\asus\\anaconda3\\lib\\site-packages (from imbalanced-learn->imblearn) (1.18.5)\n",
      "Requirement already satisfied: threadpoolctl>=2.0.0 in c:\\users\\asus\\anaconda3\\lib\\site-packages (from scikit-learn>=0.24->imbalanced-learn->imblearn) (2.1.0)\n"
     ]
    }
   ],
   "source": [
    "!pip install imblearn"
   ]
  },
  {
   "cell_type": "code",
   "execution_count": 106,
   "metadata": {},
   "outputs": [
    {
     "name": "stdout",
     "output_type": "stream",
     "text": [
      "Requirement already satisfied: imbalanced-learn in c:\\users\\asus\\anaconda3\\lib\\site-packages (0.8.0)\n",
      "Requirement already satisfied: scipy>=0.19.1 in c:\\users\\asus\\anaconda3\\lib\\site-packages (from imbalanced-learn) (1.5.0)\n",
      "Requirement already satisfied: scikit-learn>=0.24 in c:\\users\\asus\\anaconda3\\lib\\site-packages (from imbalanced-learn) (0.24.2)\n",
      "Requirement already satisfied: joblib>=0.11 in c:\\users\\asus\\anaconda3\\lib\\site-packages (from imbalanced-learn) (0.16.0)\n",
      "Requirement already satisfied: numpy>=1.13.3 in c:\\users\\asus\\anaconda3\\lib\\site-packages (from imbalanced-learn) (1.18.5)\n",
      "Requirement already satisfied: threadpoolctl>=2.0.0 in c:\\users\\asus\\anaconda3\\lib\\site-packages (from scikit-learn>=0.24->imbalanced-learn) (2.1.0)\n"
     ]
    }
   ],
   "source": [
    "!pip install imbalanced-learn"
   ]
  },
  {
   "cell_type": "code",
   "execution_count": 107,
   "metadata": {},
   "outputs": [],
   "source": [
    "import imblearn"
   ]
  },
  {
   "cell_type": "markdown",
   "metadata": {},
   "source": [
    "#### PERFORMING OVERSAMPLING"
   ]
  },
  {
   "cell_type": "code",
   "execution_count": 108,
   "metadata": {},
   "outputs": [],
   "source": [
    "\n",
    "from imblearn.over_sampling import RandomOverSampler"
   ]
  },
  {
   "cell_type": "code",
   "execution_count": 109,
   "metadata": {},
   "outputs": [],
   "source": [
    "#fit_resamples take the data and resamples it, wrt oversampling\n",
    "ros=RandomOverSampler()\n",
    "X_ros, y_ros = ros.fit_resample(X_train_preprocessed, y_train)"
   ]
  },
  {
   "cell_type": "code",
   "execution_count": 110,
   "metadata": {},
   "outputs": [
    {
     "data": {
      "text/plain": [
       "1    3880\n",
       "0    3880\n",
       "Name: Churn_target, dtype: int64"
      ]
     },
     "execution_count": 110,
     "metadata": {},
     "output_type": "execute_result"
    }
   ],
   "source": [
    "y_ros.value_counts()"
   ]
  },
  {
   "cell_type": "code",
   "execution_count": 111,
   "metadata": {
    "scrolled": true
   },
   "outputs": [
    {
     "name": "stdout",
     "output_type": "stream",
     "text": [
      "              precision    recall  f1-score   support\n",
      "\n",
      "           0       0.80      0.73      0.77      3880\n",
      "           1       0.76      0.82      0.79      3880\n",
      "\n",
      "    accuracy                           0.78      7760\n",
      "   macro avg       0.78      0.78      0.78      7760\n",
      "weighted avg       0.78      0.78      0.78      7760\n",
      "\n"
     ]
    },
    {
     "name": "stderr",
     "output_type": "stream",
     "text": [
      "C:\\Users\\asus\\anaconda3\\lib\\site-packages\\sklearn\\linear_model\\_logistic.py:763: ConvergenceWarning: lbfgs failed to converge (status=1):\n",
      "STOP: TOTAL NO. of ITERATIONS REACHED LIMIT.\n",
      "\n",
      "Increase the number of iterations (max_iter) or scale the data as shown in:\n",
      "    https://scikit-learn.org/stable/modules/preprocessing.html\n",
      "Please also refer to the documentation for alternative solver options:\n",
      "    https://scikit-learn.org/stable/modules/linear_model.html#logistic-regression\n",
      "  n_iter_i = _check_optimize_result(\n"
     ]
    }
   ],
   "source": [
    "LR.fit(X_ros, y_ros)\n",
    "y_pred_ros_LR=LR.predict(X_ros)\n",
    "print(classification_report(y_ros, y_pred_ros_LR))"
   ]
  },
  {
   "cell_type": "code",
   "execution_count": 112,
   "metadata": {},
   "outputs": [
    {
     "name": "stdout",
     "output_type": "stream",
     "text": [
      "              precision    recall  f1-score   support\n",
      "\n",
      "           0       0.90      0.75      0.82      1294\n",
      "           1       0.52      0.77      0.62       467\n",
      "\n",
      "    accuracy                           0.75      1761\n",
      "   macro avg       0.71      0.76      0.72      1761\n",
      "weighted avg       0.80      0.75      0.76      1761\n",
      "\n"
     ]
    }
   ],
   "source": [
    "y_pred_test_LR=LR.predict(X_test_preprocessed)\n",
    "print(classification_report(y_test, y_pred_test_LR))"
   ]
  },
  {
   "cell_type": "code",
   "execution_count": 113,
   "metadata": {},
   "outputs": [
    {
     "name": "stdout",
     "output_type": "stream",
     "text": [
      "              precision    recall  f1-score   support\n",
      "\n",
      "           0       0.81      0.74      0.77      3880\n",
      "           1       0.76      0.82      0.79      3880\n",
      "\n",
      "    accuracy                           0.78      7760\n",
      "   macro avg       0.78      0.78      0.78      7760\n",
      "weighted avg       0.78      0.78      0.78      7760\n",
      "\n"
     ]
    }
   ],
   "source": [
    "DT1.fit(X_ros, y_ros)\n",
    "y_pred_ros_DT=DT1.predict(X_ros)\n",
    "print(classification_report(y_ros, y_pred_ros_DT))"
   ]
  },
  {
   "cell_type": "code",
   "execution_count": 114,
   "metadata": {},
   "outputs": [
    {
     "name": "stdout",
     "output_type": "stream",
     "text": [
      "              precision    recall  f1-score   support\n",
      "\n",
      "           0       0.89      0.74      0.81      1294\n",
      "           1       0.51      0.76      0.61       467\n",
      "\n",
      "    accuracy                           0.74      1761\n",
      "   macro avg       0.70      0.75      0.71      1761\n",
      "weighted avg       0.79      0.74      0.75      1761\n",
      "\n"
     ]
    }
   ],
   "source": [
    "y_pred_test_DT=DT1.predict(X_test_preprocessed)\n",
    "print(classification_report(y_test, y_pred_test_DT))"
   ]
  },
  {
   "cell_type": "code",
   "execution_count": 115,
   "metadata": {},
   "outputs": [
    {
     "name": "stdout",
     "output_type": "stream",
     "text": [
      "              precision    recall  f1-score   support\n",
      "\n",
      "           0       0.95      0.87      0.91      3880\n",
      "           1       0.88      0.95      0.91      3880\n",
      "\n",
      "    accuracy                           0.91      7760\n",
      "   macro avg       0.91      0.91      0.91      7760\n",
      "weighted avg       0.91      0.91      0.91      7760\n",
      "\n"
     ]
    }
   ],
   "source": [
    "RF_tuned.fit(X_ros, y_ros)\n",
    "y_pred_ros_RF=RF_tuned.predict(X_ros)\n",
    "print(classification_report(y_ros, y_pred_ros_RF))"
   ]
  },
  {
   "cell_type": "code",
   "execution_count": 116,
   "metadata": {
    "scrolled": true
   },
   "outputs": [
    {
     "name": "stdout",
     "output_type": "stream",
     "text": [
      "              precision    recall  f1-score   support\n",
      "\n",
      "           0       0.87      0.80      0.84      1294\n",
      "           1       0.55      0.68      0.61       467\n",
      "\n",
      "    accuracy                           0.77      1761\n",
      "   macro avg       0.71      0.74      0.72      1761\n",
      "weighted avg       0.79      0.77      0.78      1761\n",
      "\n"
     ]
    }
   ],
   "source": [
    "y_pred_test_RF=RF_tuned.predict(X_test_preprocessed)\n",
    "print(classification_report(y_test, y_pred_test_RF))"
   ]
  },
  {
   "cell_type": "code",
   "execution_count": 118,
   "metadata": {},
   "outputs": [
    {
     "ename": "NameError",
     "evalue": "name 'RF_tuned1' is not defined",
     "output_type": "error",
     "traceback": [
      "\u001b[1;31m---------------------------------------------------------------------------\u001b[0m",
      "\u001b[1;31mNameError\u001b[0m                                 Traceback (most recent call last)",
      "\u001b[1;32m<ipython-input-118-867d11bffb6b>\u001b[0m in \u001b[0;36m<module>\u001b[1;34m\u001b[0m\n\u001b[1;32m----> 1\u001b[1;33m \u001b[0mRF_tuned1\u001b[0m\u001b[1;33m.\u001b[0m\u001b[0mfit\u001b[0m\u001b[1;33m(\u001b[0m\u001b[0mX_ros\u001b[0m\u001b[1;33m,\u001b[0m \u001b[0my_ros\u001b[0m\u001b[1;33m)\u001b[0m\u001b[1;33m\u001b[0m\u001b[1;33m\u001b[0m\u001b[0m\n\u001b[0m\u001b[0;32m      2\u001b[0m \u001b[0my_pred_ros_RF\u001b[0m\u001b[1;33m=\u001b[0m\u001b[0mRF_tuned1\u001b[0m\u001b[1;33m.\u001b[0m\u001b[0mpredict\u001b[0m\u001b[1;33m(\u001b[0m\u001b[0mX_ros\u001b[0m\u001b[1;33m)\u001b[0m\u001b[1;33m\u001b[0m\u001b[1;33m\u001b[0m\u001b[0m\n\u001b[0;32m      3\u001b[0m \u001b[0mprint\u001b[0m\u001b[1;33m(\u001b[0m\u001b[0mclassification_report\u001b[0m\u001b[1;33m(\u001b[0m\u001b[0my_ros\u001b[0m\u001b[1;33m,\u001b[0m \u001b[0my_pred_ros_RF\u001b[0m\u001b[1;33m)\u001b[0m\u001b[1;33m)\u001b[0m\u001b[1;33m\u001b[0m\u001b[1;33m\u001b[0m\u001b[0m\n",
      "\u001b[1;31mNameError\u001b[0m: name 'RF_tuned1' is not defined"
     ]
    }
   ],
   "source": [
    "RF_tuned1.fit(X_ros, y_ros)\n",
    "y_pred_ros_RF=RF_tuned1.predict(X_r os)\n",
    "print(classification_report(y_ros, y_pred_ros_RF))"
   ]
  },
  {
   "cell_type": "code",
   "execution_count": 119,
   "metadata": {},
   "outputs": [
    {
     "ename": "NameError",
     "evalue": "name 'RF_tuned1' is not defined",
     "output_type": "error",
     "traceback": [
      "\u001b[1;31m---------------------------------------------------------------------------\u001b[0m",
      "\u001b[1;31mNameError\u001b[0m                                 Traceback (most recent call last)",
      "\u001b[1;32m<ipython-input-119-c9cb04ea9815>\u001b[0m in \u001b[0;36m<module>\u001b[1;34m\u001b[0m\n\u001b[1;32m----> 1\u001b[1;33m \u001b[0my_pred_test_RF1\u001b[0m\u001b[1;33m=\u001b[0m\u001b[0mRF_tuned1\u001b[0m\u001b[1;33m.\u001b[0m\u001b[0mpredict\u001b[0m\u001b[1;33m(\u001b[0m\u001b[0mX_test_preprocessed\u001b[0m\u001b[1;33m)\u001b[0m\u001b[1;33m\u001b[0m\u001b[1;33m\u001b[0m\u001b[0m\n\u001b[0m\u001b[0;32m      2\u001b[0m \u001b[0mprint\u001b[0m\u001b[1;33m(\u001b[0m\u001b[0mclassification_report\u001b[0m\u001b[1;33m(\u001b[0m\u001b[0my_test\u001b[0m\u001b[1;33m,\u001b[0m \u001b[0my_pred_test_RF1\u001b[0m\u001b[1;33m)\u001b[0m\u001b[1;33m)\u001b[0m\u001b[1;33m\u001b[0m\u001b[1;33m\u001b[0m\u001b[0m\n",
      "\u001b[1;31mNameError\u001b[0m: name 'RF_tuned1' is not defined"
     ]
    }
   ],
   "source": [
    "y_pred_test_RF1=RF_tuned1.predict(X_test_preprocessed)\n",
    "print(classification_report(y_test, y_pred_test_RF1))"
   ]
  },
  {
   "cell_type": "code",
   "execution_count": 120,
   "metadata": {},
   "outputs": [
    {
     "name": "stderr",
     "output_type": "stream",
     "text": [
      "C:\\Users\\asus\\anaconda3\\lib\\site-packages\\xgboost\\sklearn.py:1146: UserWarning: The use of label encoder in XGBClassifier is deprecated and will be removed in a future release. To remove this warning, do the following: 1) Pass option use_label_encoder=False when constructing XGBClassifier object; and 2) Encode your labels (y) as integers starting with 0, i.e. 0, 1, 2, ..., [num_class - 1].\n",
      "  warnings.warn(label_encoder_deprecation_msg, UserWarning)\n"
     ]
    },
    {
     "name": "stdout",
     "output_type": "stream",
     "text": [
      "[16:00:36] WARNING: C:/Users/Administrator/workspace/xgboost-win64_release_1.4.0/src/learner.cc:1095: Starting in XGBoost 1.3.0, the default evaluation metric used with the objective 'binary:logistic' was changed from 'error' to 'logloss'. Explicitly set eval_metric if you'd like to restore the old behavior.\n"
     ]
    },
    {
     "ename": "NameError",
     "evalue": "name 'y_pred_test_RF1' is not defined",
     "output_type": "error",
     "traceback": [
      "\u001b[1;31m---------------------------------------------------------------------------\u001b[0m",
      "\u001b[1;31mNameError\u001b[0m                                 Traceback (most recent call last)",
      "\u001b[1;32m<ipython-input-120-e272e3453a15>\u001b[0m in \u001b[0;36m<module>\u001b[1;34m\u001b[0m\n\u001b[0;32m      1\u001b[0m \u001b[0mXGB_tuned\u001b[0m\u001b[1;33m.\u001b[0m\u001b[0mfit\u001b[0m\u001b[1;33m(\u001b[0m\u001b[0mX_ros\u001b[0m\u001b[1;33m,\u001b[0m \u001b[0my_ros\u001b[0m\u001b[1;33m)\u001b[0m\u001b[1;33m\u001b[0m\u001b[1;33m\u001b[0m\u001b[0m\n\u001b[0;32m      2\u001b[0m \u001b[0my_pred_ros_xgb\u001b[0m\u001b[1;33m=\u001b[0m\u001b[0mXGB_tuned\u001b[0m\u001b[1;33m.\u001b[0m\u001b[0mpredict\u001b[0m\u001b[1;33m(\u001b[0m\u001b[0mX_ros\u001b[0m\u001b[1;33m)\u001b[0m\u001b[1;33m\u001b[0m\u001b[1;33m\u001b[0m\u001b[0m\n\u001b[1;32m----> 3\u001b[1;33m \u001b[0mprint\u001b[0m\u001b[1;33m(\u001b[0m\u001b[0mclassification_report\u001b[0m\u001b[1;33m(\u001b[0m\u001b[0my_test\u001b[0m\u001b[1;33m,\u001b[0m \u001b[0my_pred_test_RF1\u001b[0m\u001b[1;33m)\u001b[0m\u001b[1;33m)\u001b[0m\u001b[1;33m\u001b[0m\u001b[1;33m\u001b[0m\u001b[0m\n\u001b[0m",
      "\u001b[1;31mNameError\u001b[0m: name 'y_pred_test_RF1' is not defined"
     ]
    }
   ],
   "source": [
    "XGB_tuned.fit(X_ros, y_ros)\n",
    "y_pred_ros_xgb=XGB_tuned.predict(X_ros)\n",
    "print(classification_report(y_test, y_pred_test_RF1))"
   ]
  },
  {
   "cell_type": "code",
   "execution_count": 121,
   "metadata": {},
   "outputs": [
    {
     "name": "stdout",
     "output_type": "stream",
     "text": [
      "              precision    recall  f1-score   support\n",
      "\n",
      "           0       0.87      0.80      0.83      1294\n",
      "           1       0.54      0.67      0.60       467\n",
      "\n",
      "    accuracy                           0.76      1761\n",
      "   macro avg       0.71      0.73      0.72      1761\n",
      "weighted avg       0.78      0.76      0.77      1761\n",
      "\n"
     ]
    }
   ],
   "source": [
    "y_pred_test_xgb=XGB_tuned.predict(X_test_preprocessed)\n",
    "print(classification_report(y_test, y_pred_test_xgb))"
   ]
  },
  {
   "cell_type": "code",
   "execution_count": 122,
   "metadata": {
    "scrolled": false
   },
   "outputs": [
    {
     "name": "stderr",
     "output_type": "stream",
     "text": [
      "C:\\Users\\asus\\anaconda3\\lib\\site-packages\\xgboost\\sklearn.py:1146: UserWarning: The use of label encoder in XGBClassifier is deprecated and will be removed in a future release. To remove this warning, do the following: 1) Pass option use_label_encoder=False when constructing XGBClassifier object; and 2) Encode your labels (y) as integers starting with 0, i.e. 0, 1, 2, ..., [num_class - 1].\n",
      "  warnings.warn(label_encoder_deprecation_msg, UserWarning)\n"
     ]
    },
    {
     "name": "stdout",
     "output_type": "stream",
     "text": [
      "[16:29:20] WARNING: C:/Users/Administrator/workspace/xgboost-win64_release_1.4.0/src/learner.cc:1095: Starting in XGBoost 1.3.0, the default evaluation metric used with the objective 'binary:logistic' was changed from 'error' to 'logloss'. Explicitly set eval_metric if you'd like to restore the old behavior.\n",
      "              precision    recall  f1-score   support\n",
      "\n",
      "           0       0.94      0.86      0.90      3880\n",
      "           1       0.87      0.94      0.91      3880\n",
      "\n",
      "    accuracy                           0.90      7760\n",
      "   macro avg       0.90      0.90      0.90      7760\n",
      "weighted avg       0.90      0.90      0.90      7760\n",
      "\n"
     ]
    }
   ],
   "source": [
    "XGB_tuned_1.fit(X_ros, y_ros)\n",
    "y_pred_ros_xgb1=XGB_tuned_1.predict(X_ros)\n",
    "print(classification_report(y_ros, y_pred_ros_xgb1))"
   ]
  },
  {
   "cell_type": "code",
   "execution_count": 1,
   "metadata": {},
   "outputs": [
    {
     "ename": "NameError",
     "evalue": "name 'XGB_tuned_1' is not defined",
     "output_type": "error",
     "traceback": [
      "\u001b[1;31m---------------------------------------------------------------------------\u001b[0m",
      "\u001b[1;31mNameError\u001b[0m                                 Traceback (most recent call last)",
      "\u001b[1;32m<ipython-input-1-28395558e779>\u001b[0m in \u001b[0;36m<module>\u001b[1;34m\u001b[0m\n\u001b[1;32m----> 1\u001b[1;33m \u001b[0my_pred_test_xgb1\u001b[0m\u001b[1;33m=\u001b[0m\u001b[0mXGB_tuned_1\u001b[0m\u001b[1;33m.\u001b[0m\u001b[0mpredict\u001b[0m\u001b[1;33m(\u001b[0m\u001b[0mX_test_preprocessed\u001b[0m\u001b[1;33m)\u001b[0m\u001b[1;33m\u001b[0m\u001b[1;33m\u001b[0m\u001b[0m\n\u001b[0m\u001b[0;32m      2\u001b[0m \u001b[0mprint\u001b[0m\u001b[1;33m(\u001b[0m\u001b[0mclassification_report\u001b[0m\u001b[1;33m(\u001b[0m\u001b[0my_test\u001b[0m\u001b[1;33m,\u001b[0m \u001b[0my_pred_test_rgb1\u001b[0m\u001b[1;33m)\u001b[0m\u001b[1;33m)\u001b[0m\u001b[1;33m\u001b[0m\u001b[1;33m\u001b[0m\u001b[0m\n",
      "\u001b[1;31mNameError\u001b[0m: name 'XGB_tuned_1' is not defined"
     ]
    }
   ],
   "source": [
    "y_pred_test_xgb1=XGB_tuned_1.predict(X_test_preprocessed)\n",
    "print(classification_report(y_test, y_pred_test_rgb1))"
   ]
  },
  {
   "cell_type": "code",
   "execution_count": null,
   "metadata": {},
   "outputs": [],
   "source": []
  },
  {
   "cell_type": "code",
   "execution_count": null,
   "metadata": {},
   "outputs": [],
   "source": []
  },
  {
   "cell_type": "code",
   "execution_count": null,
   "metadata": {},
   "outputs": [],
   "source": []
  },
  {
   "cell_type": "code",
   "execution_count": null,
   "metadata": {},
   "outputs": [],
   "source": [
    "if we want to impeove model, Follow this hierarachy:\n",
    "1. Feature Engineering /Add more variables\n",
    "2. Class imbalance, check calss ratio\n",
    "3. Hyperparameter tuning"
   ]
  },
  {
   "cell_type": "code",
   "execution_count": null,
   "metadata": {},
   "outputs": [],
   "source": [
    "# HYPERPARAMETER TUNING\n",
    "max_depth=[int(x) for x in np.linespace(10, 110, num=11)]\n",
    "max_depth.append(None)\n",
    "n_estimators=[int(x) for x in np.linespace(start=200, stop=2000, num=10)]\n",
    "params={\n",
    "    \"n_estimators\":n_estimators,\n",
    "    \"criterion\":['gini','entropy'],\n",
    "    \"max_depth\":max_depth,\n",
    "    \"min_sample_split\"[2,5,10],\n",
    "    \"min_samples_leaf\":[1,2,4],\n",
    "    \"max_features\":['auto', 'sqrt', 'log2']\n",
    "}"
   ]
  },
  {
   "cell_type": "code",
   "execution_count": null,
   "metadata": {},
   "outputs": [],
   "source": [
    "#Random Search on parameters \n",
    "model=RandomForestClassifier()\n",
    "random_search=RandomizedSearchCV(model,param_distributions=params,n_iter=5,scoring='recall',n_jobs=-1,cv=StratifiedKFold(10),)"
   ]
  },
  {
   "cell_type": "code",
   "execution_count": null,
   "metadata": {},
   "outputs": [],
   "source": [
    "random_search.fit(X_ros,y_ros)\n",
    "print(random_search.best_params)\n",
    "print(random_search.best_esti mators_)\n"
   ]
  },
  {
   "cell_type": "code",
   "execution_count": null,
   "metadata": {},
   "outputs": [],
   "source": [
    "RF_r_tuned=RandomForestClassifier(bootstrap=True, class_weight=None, criterion='entropy', max_depth=90, max_features='log2', max_leaf_nodes=None, min_impurity_decrease=0.0, min_impurity_split=None,\n",
    "           min_sample_leaf=2, min_samples_split=2, min_weight_fraction_leaf=0.0, n_estimators=1800, n_jobs=None, oob_score=False, random_state=None, verbose=0, warm_start=False)\n",
    "\n",
    "RF_r_tuned.fit(X_ros, y_ros)"
   ]
  },
  {
   "cell_type": "code",
   "execution_count": null,
   "metadata": {},
   "outputs": [],
   "source": [
    "y_pred_ros_rfr=RF_r_tuned.predict(X_ros)\n",
    "print(classification_report(y_ros, y_pred_ros_rfr))"
   ]
  },
  {
   "cell_type": "code",
   "execution_count": null,
   "metadata": {},
   "outputs": [],
   "source": [
    "y_pred_test_rfr=RF_r_tuned.predict(X_test_preprocessed)\n",
    "print(classification_report(y_test, y_pred_test_rfr))"
   ]
  },
  {
   "cell_type": "code",
   "execution_count": null,
   "metadata": {},
   "outputs": [],
   "source": [
    "# Random Search on parameters\n",
    "model_xgb=xgb_m\n",
    "random_search=RandomizedSearchCV(model_xgb, param_distribution=params, n_iter=10, scoring='recall', n_jobs=-1, cv=StratifiedKFold(10), verbo)"
   ]
  },
  {
   "cell_type": "code",
   "execution_count": null,
   "metadata": {},
   "outputs": [],
   "source": [
    "X_train_xgb=X_ros\n",
    "y_train_xgb=y_ros\n",
    "X_test_xgb=X_test_preprocessed\n",
    "y_test_xgb=y_test"
   ]
  },
  {
   "cell_type": "code",
   "execution_count": null,
   "metadata": {},
   "outputs": [],
   "source": [
    "import re \n",
    "regex =re.compile(r\"\\[|\\]|<\",re.IGNORECASE)\n",
    "X_train_xgb.columns=[regex.sub(\"_\",col) if any(x in str(col) for x in set(('[',']','<'))) else col for col in X_train_xgb.columns.values]\n",
    "X_test_xgb.columns=[regex.sub(\"_\",col) if any(x in str(col) for x in set(('[',']','<'))) else col for col in X_test_xgb.columns.values]"
   ]
  },
  {
   "cell_type": "code",
   "execution_count": null,
   "metadata": {},
   "outputs": [],
   "source": [
    "random_search.fit(X_train_xgb, y_ros)\n",
    "print(random_search.best_params_)\n",
    "print(random_search.best_estimator_)"
   ]
  },
  {
   "cell_type": "code",
   "execution_count": null,
   "metadata": {},
   "outputs": [],
   "source": [
    "X_G=xgb.XGBClassifier(base_score=0.5, booster='gbtree', colsample_bylevel=1,\n",
    "              colsample_bynode=1, colsample_bytree=0.5, gamma=0.0, gpu_id=-1,\n",
    "              importance_type='gain', interaction_constraints='',\n",
    "              learning_rate=0.3, max_delta_step=0, max_depth=6,\n",
    "              min_child_weight=3, missing=nan, monotone_constraints='()',\n",
    "              n_estimators=600, n_jobs=12, num_parallel_tree=1, random_state=0,\n",
    "              reg_alpha=0, reg_lambda=1, scale_pos_weight=1, subsample=1,\n",
    "              tree_method='exact', validate_parameters=1, verbosity=None)\n",
    "\n",
    "X_G.fit(X_train_xgb, y_ros)"
   ]
  },
  {
   "cell_type": "code",
   "execution_count": null,
   "metadata": {},
   "outputs": [],
   "source": [
    "y_pred_ros_X_g=X_G.predict(X_ros)\n",
    "print(classification_report(y_ros, y_pred_ros_X_g))"
   ]
  },
  {
   "cell_type": "code",
   "execution_count": null,
   "metadata": {},
   "outputs": [],
   "source": [
    "y_pred_test_X_g=X_G.predict(X_test_preprocessed)\n",
    "print(classification_report(y_test, y_pred_test_X_g))"
   ]
  },
  {
   "cell_type": "markdown",
   "metadata": {},
   "source": [
    "### PErforming UnderSampling"
   ]
  },
  {
   "cell_type": "code",
   "execution_count": null,
   "metadata": {},
   "outputs": [],
   "source": [
    "from imblearn.under_sampling import RandomUnderSampler\n",
    "rus=RandomUnderSampler()\n",
    "X_rus, y_rus=rus.fit_resample(X_train_preprocessed, y_train)"
   ]
  },
  {
   "cell_type": "code",
   "execution_count": null,
   "metadata": {},
   "outputs": [],
   "source": [
    "y_rus.value_counts()"
   ]
  },
  {
   "cell_type": "code",
   "execution_count": null,
   "metadata": {},
   "outputs": [],
   "source": [
    "LR.fit(X_rus, y_rus)\n",
    "y_pred_rus_LR=LR.predict(X_rus)\n",
    "print(classification_report(y_rus, y_pred_rus_LR))"
   ]
  },
  {
   "cell_type": "code",
   "execution_count": null,
   "metadata": {},
   "outputs": [],
   "source": [
    "y_pred_test_LR=LR.predict(X_test-preprocessed)\n",
    "print(classification_report(y_test, y_pred_test_LR))"
   ]
  },
  {
   "cell_type": "code",
   "execution_count": null,
   "metadata": {},
   "outputs": [],
   "source": [
    "#Random Search on parameters \n",
    "model=RandomForestClassifier()\n",
    "random_search=RandomizedSearchCV(model,param_distributions=params,n_iter=10,scoring='recall',n_jobs=-1,cv=StratifiedKFold,verbose=3)"
   ]
  },
  {
   "cell_type": "code",
   "execution_count": null,
   "metadata": {},
   "outputs": [],
   "source": [
    "RF_u_tuned=RandomForestClassifier(bootstrap=True, class_weight=None, criterion='entropy', max_depth=100, max_features='auto', max_leaf_nodes=None, min_impurity_decrease=0.0, min_impurity_split=None,\n",
    "           min_sample_leaf=4, min_samples_split=5, min_weight_fraction_leaf=0.0, n_estimators=1400, n_jobs=None, oob_score=False, random_state=None, verbose=0, warm_start=False)\n",
    "\n",
    "RF_u_tuned.fit(X_rus, y_rus)"
   ]
  },
  {
   "cell_type": "code",
   "execution_count": null,
   "metadata": {},
   "outputs": [],
   "source": [
    "y_pred_rus_RF=RF_u_tuned.predict(X_rus)\n",
    "print(classification_report(y_test, y_pred_test_RF))"
   ]
  },
  {
   "cell_type": "code",
   "execution_count": null,
   "metadata": {},
   "outputs": [],
   "source": [
    "X_train_xgb=X_rus\n",
    "y_train_xgb=y_rus\n",
    "X_test_xgb=X_test_preprocessed\n",
    "y_test_xgb=y_test\n",
    "# Random search on parameters\n",
    "model_xgb=xgb_m\n",
    "random_search=RandomizedSearchCV(model_xgb,param_distributions=params,n_iter=10,scoring='recall',n_jobs=-1,cv=StratifiedKFold(10),verbose=3)"
   ]
  },
  {
   "cell_type": "code",
   "execution_count": null,
   "metadata": {},
   "outputs": [],
   "source": [
    "import re \n",
    "regex =re.compile(r\"\\[|\\]|<\",re.IGNORECASE)\n",
    "X_train_xgb.columns=[regex.sub(\"_\",col) if any(x in str(col) for x in set(('[',']','<'))) else col for col in X_train_xgb.columns.values]\n",
    "X_test_xgb.columns=[regex.sub(\"_\",col) if any(x in str(col) for x in set(('[',']','<'))) else col for col in X_test_xgb.columns.values]"
   ]
  },
  {
   "cell_type": "code",
   "execution_count": null,
   "metadata": {},
   "outputs": [],
   "source": [
    "random_search.fit(X_train_xgb, y_rus)\n",
    "print(random_search.best_params_)\n",
    "print(random_search.best_estimator_)"
   ]
  },
  {
   "cell_type": "code",
   "execution_count": null,
   "metadata": {},
   "outputs": [],
   "source": [
    "XGB_u=xgb.XGBClassifier(base_score=0.5, booster='gbtree', colsample_bylevel=1,\n",
    "              colsample_bynode=1, colsample_bytree=1, gamma=0.0, gpu_id=-1,\n",
    "              importance_type='gain', interaction_constraints='',\n",
    "              learning_rate=0.300000012, max_delta_step=0, max_depth=4, max_features='sqrt', \n",
    "              min_child_weight=1, min_samples_leaf=1, min_samples_split=2, missing=nan, monotone_constraints='()',\n",
    "              n_estimators=400, n_jobs=12, num_parallel_tree=1, random_state=0,\n",
    "              reg_alpha=0, reg_lambda=1, scale_pos_weight=1, subsample=1,\n",
    "              tree_method='exact', validate_parameters=1, verbosity=None)"
   ]
  },
  {
   "cell_type": "code",
   "execution_count": null,
   "metadata": {},
   "outputs": [],
   "source": [
    "y_pred_rus_XGB=XGB_u.predict(X_train_xgb)\n",
    "print(classification_report(y_rus, y_pred_rus_XGB))"
   ]
  },
  {
   "cell_type": "code",
   "execution_count": null,
   "metadata": {},
   "outputs": [],
   "source": [
    "y_pred_test_XGB=XGB_u.predict(X_test_preprocessed)\n",
    "print(classification_report(y_test, y_pred_test_XGB))"
   ]
  },
  {
   "cell_type": "code",
   "execution_count": null,
   "metadata": {},
   "outputs": [],
   "source": []
  },
  {
   "cell_type": "markdown",
   "metadata": {},
   "source": [
    "w"
   ]
  },
  {
   "cell_type": "code",
   "execution_count": null,
   "metadata": {},
   "outputs": [],
   "source": []
  },
  {
   "cell_type": "code",
   "execution_count": null,
   "metadata": {},
   "outputs": [],
   "source": []
  }
 ],
 "metadata": {
  "kernelspec": {
   "display_name": "Python 3",
   "language": "python",
   "name": "python3"
  },
  "language_info": {
   "codemirror_mode": {
    "name": "ipython",
    "version": 3
   },
   "file_extension": ".py",
   "mimetype": "text/x-python",
   "name": "python",
   "nbconvert_exporter": "python",
   "pygments_lexer": "ipython3",
   "version": "3.8.3"
  }
 },
 "nbformat": 4,
 "nbformat_minor": 4
}
